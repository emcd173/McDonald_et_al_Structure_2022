{
 "cells": [
  {
   "cell_type": "code",
   "execution_count": 1,
   "id": "01eb72b9",
   "metadata": {},
   "outputs": [],
   "source": [
    "import numpy as np\n",
    "import pandas as pd\n",
    "import string"
   ]
  },
  {
   "cell_type": "code",
   "execution_count": 2,
   "id": "ab731f68",
   "metadata": {},
   "outputs": [],
   "source": [
    "peptides = pd.read_excel('new_peptide_set_EFM_sorted.xlsx')"
   ]
  },
  {
   "cell_type": "code",
   "execution_count": 3,
   "id": "999f06b2",
   "metadata": {},
   "outputs": [],
   "source": [
    "pep_rng = pd.DataFrame()\n",
    "pep_rng['ID'] = peptides['Name '].dropna()\n",
    "pep_rng['start'] =  [int(i.split('-')[0]) for i in peptides['Structured Region for RMSD calculation'].dropna()]\n",
    "pep_rng['end'] =  [int(i.split('-')[1]) for i in peptides['Structured Region for RMSD calculation'].dropna()]\n",
    "pep_rng.set_index('ID', inplace=True)"
   ]
  },
  {
   "cell_type": "code",
   "execution_count": 4,
   "id": "3f6496b0",
   "metadata": {},
   "outputs": [],
   "source": [
    "AH_MP_ids = ['6X7I','1MP6','2MC7','1A11','1ALE','1ALF','1B9Q','1BM4','1BMX','1CFG','1DEP','1DJF','1EMZ','1FW5','1HO2','1HOD','1HOF','1JDM','1KDL','1LBJ','1LYP','1M25','1MOT','1O53','1ODP','1OEG','1P82','1PLP','1QG9','1R7D','1RKL','1SKH','1SPF','1T5Q','1V4Z','1VTP','1XC0','1XOO','1XOP','1Y32','1Z2T','1Z65','1ZRV','2AP7','2B0Y','2B19','2DCI','2DTB','2FXY','2FXZ','2G9L','2G9P','2GD3','2HN8','2JMY','2JOS','2JPK','2JTW','2JUI','2JXF','2K10','2K44','2K58','2K59','2K6O','2K8J','2K98','2KDR','2KEH','2KFE','2KGN','2KHF','2KI9','2KIT','2KJN','2KNS','2KV5','2KWZ','2KZQ','2L36','2L4G','2L5R','2L63','2L77','2LAT','2LBG','2LCM','2LIF','2LMF','2LQY','2LUG','2LUV','2LX0','2LZP','2LZQ','2M0H','2M0W','2M8M','2M8O','2MCE','2ME1','2MG1','2MG2','2MHW','2MJ2','2MKB','2MLU','2MMM','2MJ2','2MKB','2MUA','2MUE','2MVH','2MVJ','2MWT','2N1C','2N1P','2N58','2N6M','2N92','2N9C','2NCS','2NCU','2NCW','2NCX','2NCY','2NR1','2OJM','2OJN','2OJO','2PCO','2PV6','2RLH','2RLW','2RMG','2RMH','2RMY','2RQ2','2RRH','3LEU','3MRA','4B19','5H2S','5I4G','5LBJ','5NDA','5UJQ','5UJR','5XDJ','5Y22','5Z1Y','6A5J','6A8Y','6AHZ','6B3U','6BJF','6CFA','6CSK','6CSZ','6CT1','6CT4','6DST','6FS5','6GIF','6GIG','6GNZ','6GO0','6GS9','6HN9','6HZ2','6IHA','6MBM','6RRL','6RRO','6TWG','6VLA','6YHF','7ASY','7AT7','7ATB','7B2F','7BX2','7CK5','7DEH','7L83','7NS1','7OVZ','7P4X','7ZBS','1HLL']\n",
    "\n",
    "AH_SL_ids = ['1AMB','1BY0','1DSK','1DTC','1FVY','1MF6','1Q2F','1VD7','1VD8','1VD9','1VDA','1W1N','1WN4','1WN8','1WNK','1WNM','1WNN','1YYB','1ZWD','2BN6','2GP8','2I9M','2IV5','2IV6','2KJM','2KPB','2LMA','2LQ0','2LQ1','2LQ2','2M1A','2M3F','2MRW','2MU6','2MU7','2MU9','2MUJ','2OVN','2PPZ','5TX8','6R2X']\n",
    "\n",
    "BHPIN_ids = ['1B1V','1BQF','1E0L','1E0M','1E0N','1EGT','1FGD','1FGE','1G04','1HRL','1I6C', '1K43','1LFC','1NIZ','1TMR','1U0P','1U6V','1V28','2DJ9','2DJC','2EQH','2ESZ','2EVQ','2JN5','2JNI','2JQW','2JSB','2L07','2M9E','2M9I','2MDL','2MMT','2MMW','2MW3','2MW9','2MWA','2MWB','2MWD','2MWE','2MWF','2N4R','2N4S','2N4T','2N4U','2N4V','2N4W','2N68','2OP7','2ORU','2RT4','5KKM','5M9U','5XO3','5Y0H','6AAB','6AFQ','6EE9','6FGM','7K1M', '1K43']\n",
    "\n",
    "DSRP_ids = ['2UVS','1ACW','1AGT','1AXH','1AZJ','1BGK','1BNB','1C49','1CMR','1D1H','1D5Q','1DEC','1DU9','1E4Q','1E4R','1E4S','1E4T','1EI0','1EMX','1ERC','1ERD','1ERP','1ERY','1EWS','1F3K','1FEO','1FJN','1FSB','1FU3','1FYG','1G26','1H20','1HD6','1HLY','1HP2','1HP3','1HP9','1HTX','1HVW','1I26','1IM1','1IXT','1J5J','1K0P','1KAL','1KGM','1KWE','1LA4','1LGL','1M2S','1M4E','1M4F','1MM0','1MMC','1MR0','1MTX','1N1U','1N5G','1N8M','1NB1','1NBJ','1OIG','1ORX','1P8B','1PJV','1PMC','1PNH','1PT4','1PVZ','1Q2K','1QFD','1QGM','1QKY','1RJI','1ROO','1RPC','1S6W','1S6X','1SCO','1SP7','1SRB','1TSK','1TV0','1TYK','1UT3','1V5A','1V6R','1WM7','1WM8','1WPD','1WQB','1WQC','1WQD','1WQE','1WT8','1X7K','1Y29','1YP8','1ZFU','1ZJQ','1ZUV','2A2V','2AAP','2B5B','2BBG','2CBH','2CK4','2DDL','2EEM','2EFZ','2F2I','2F2J','2FQA','2G6U','2GW9','2GX1','2H1Z','2HLG','2I1T','2IT7','2JTB','2K1I','2K2Y','2K4U','2K72','2K9O','2KEF','2KGU','2KHB','2KIR','2KM9','2KOZ','2KP0','2KTX','2KUS','2KYJ','2L1J','2L1Q','2L2R','2LDE','2LDF','2LDS','2LEW','2LEY','2LG4','2LG6','2LI3','2LL1','2LLD','2LS1','2LSQ','2LXZ','2LZO','2M2Q','2M3J','2M6A','2M7T','2M9L','2MAU','2MBD','2MFS','2MIX','2MLA','2MLD','2MM5','2MM6','2MPQ','2MQU','2MSF','2MIX','2ML7','2MT7','2MW7','2N2G','2N2S','2N5Q','2N6B','2N6N','2N6O','2N9T','2NAJ','2NB2','2ND3','2NX7','2PTA','2RR0','2RTY','2RTZ','2RU0','2V1V','2WH9','3BBG','4B2U','4B2V','5FZX','5I1X','5I2P','5JHI','5JI4','5L1C','5LM0','5T3M','5T4R','5UJH','5V0Y','5V11','5WE3','5WXE','5X34','5Y0I','5Y0J','6BUC','6CEI','6CFB','6CKD','6CKF','6D3T','6D8H','6D8Q','6D8R','6D8S','6D8T','6D8U','6D8Y','6D93','6D9O','6D9P','6DHR','6E1L','6EFE','6F61','6K50','6K51','6KRA','6LF5','6MJV','6MK4','6MK5','6MZT','6NK9','6NUG','6NW8','6OFA','6PPC','6QJB','6QKF','6SAA','6SAB','6VH8','6VNZ','6XYH','7ALD','7EDK','7ELY','7JIA','7JIY','7KPD','7L7A','7LQR','7LZL','7N0T','7N23','7OD2','7RC7','7SAG','7SKC','7TH8']\n",
    "\n",
    "MIX_MP_ids = ['1CW6','1JRJ','1MEQ','1SOL','2L3I','2LE7','2LKE','2M1J','2NAT','2NB8','2NCV','5L82','5T7Q','6FS4']\n",
    "\n",
    "MIX_SL_ids = ['1BBA','1BHI','1FME','1FSD','1L2Y','1LB7','1PSV','1RIJ','1RIK','1RIM','1S4T','1V1D','1WZ4','2BBL','2JOF','2K76','2KI0','2L5I','2LL2','2LWB','2MTW']\n",
    "NMRs_4_xrays = ['2UVS', '1E4Q', '1E4S','1ERC', '1Q2K', '1ROO', '1TSK','1V6R','1ZFU', '2KHB', '2KTX', '2LXZ', '2MAU', '2N9T', '2V1V', '5L1C' ]\n",
    "\n",
    "xrays_ids = ['3ODV','1FD3', '1IJU', '6E6O','3E8Y', '4LFQ','6ATL', '6DK5', '3E7R', '4TTM', '3ODV', '1ZMP', '4BFH', '5O0U', '1LU0', '6ATW']"
   ]
  },
  {
   "cell_type": "code",
   "execution_count": 5,
   "id": "09778f79",
   "metadata": {},
   "outputs": [
    {
     "data": {
      "text/plain": [
       "'1AMB 1BY0 1DSK 1DTC 1FVY 1MF6 1Q2F 1VD7 1VD8 1VD9 1VDA 1W1N 1WN4 1WN8 1WNK 1WNM 1WNN 1YYB 1ZWD 2BN6 2GP8 2I9M 2IV5 2IV6 2KJM 2KPB 2LMA 2LQ0 2LQ1 2LQ2 2M1A 2M3F 2MRW 2MU6 2MU7 2MU9 2MUJ 2OVN 2PPZ 5TX8 6R2X'"
      ]
     },
     "execution_count": 5,
     "metadata": {},
     "output_type": "execute_result"
    }
   ],
   "source": [
    "' '.join(AH_SL_ids)"
   ]
  },
  {
   "cell_type": "code",
   "execution_count": 6,
   "id": "d4ab7ac8",
   "metadata": {},
   "outputs": [],
   "source": [
    "xrays_ids = ['3ODV','1FD3', '1IJU', '6E6O','3E8Y', '4LFQ','6ATL', '6DK5', '3E7R', '4TTM', '3ODV', '1ZMP', '4BFH', '5O0U', '1LU0', '6ATW']"
   ]
  },
  {
   "cell_type": "code",
   "execution_count": 6,
   "id": "35508de5",
   "metadata": {},
   "outputs": [
    {
     "name": "stdout",
     "output_type": "stream",
     "text": [
      "1D5Q\n",
      "1EI0\n",
      "1HP9\n",
      "1J5J\n"
     ]
    }
   ],
   "source": [
    "path1 = '../NMR_structs/'\n",
    "path2 = '../AlphaFold_Predictions/RMSD_Calculations/'\n",
    "\n",
    "\n",
    "for ID in DSRP_ids:\n",
    "    model_number = 0\n",
    "    pdb_list = []\n",
    "    new_file_text = \"\"\n",
    "    with open(path1 + ID +'.pdb') as file:\n",
    "        for line in file:\n",
    "            line = line.strip () #for better control of ends of lines\n",
    "            if line == \"ENDMDL\":\n",
    "                # save file with file number in name\n",
    "                output_file = open(\"../NMR_structs/DSRP/\" + ID + '_'+ str(model_number) + \".pdb\", \"w\")\n",
    "                output_file.write(new_file_text.rstrip('\\r\\n')) #rstrip to remove trailing newline\n",
    "                output_file.close()\n",
    "                pdb_list.append(ID + '_'+ str(model_number) + \".pdb\")\n",
    "                # reset everything for next model\n",
    "                model_number += 1\n",
    "                new_file_text = \"\"\n",
    "            elif not line.startswith(\"MODEL\"):\n",
    "                new_file_text += line + '\\n'  \n",
    "    file.close()\n",
    "\n",
    "    if len(pdb_list) > 0:\n",
    "        with open(path2 + ID +'_pdb.list', 'a') as the_file:\n",
    "            for i in pdb_list:\n",
    "                line = '../../NMR_structs/DSRP/clean_pdbs/' + i.split('.')[0] + '_A.pdb'+'\\n' \n",
    "                the_file.write(line)\n",
    "        the_file.close()\n",
    "        \n",
    "    elif len(pdb_list) == 0:\n",
    "        with open(path2 + ID +'_pdb.list', 'a') as the_file:\n",
    "            line = '../../NMR_structs/' + ID + '.pdb' + '\\n' \n",
    "            the_file.write(line)\n",
    "            print(ID)\n",
    "        the_file.close()"
   ]
  },
  {
   "cell_type": "code",
   "execution_count": 17,
   "id": "5de048c7",
   "metadata": {},
   "outputs": [
    {
     "data": {
      "text/plain": [
       "True"
      ]
     },
     "execution_count": 17,
     "metadata": {},
     "output_type": "execute_result"
    }
   ],
   "source": [
    "'1NIZ' in BHPIN_ids"
   ]
  },
  {
   "cell_type": "code",
   "execution_count": 14,
   "id": "ed0eb875",
   "metadata": {},
   "outputs": [
    {
     "data": {
      "text/plain": [
       "False"
      ]
     },
     "execution_count": 14,
     "metadata": {},
     "output_type": "execute_result"
    }
   ],
   "source": [
    "'1NIZ' in MIX_MP_ids"
   ]
  },
  {
   "cell_type": "code",
   "execution_count": null,
   "id": "c4ee223d",
   "metadata": {},
   "outputs": [],
   "source": [
    "def angle_RMSD(value_list, ideal_value_list):\n",
    "    \"\"\" Simple RMSD calculator from a 1D angle list and ideal angle values. It basically takes the difference of \n",
    "    the calculated angles for every entry and uses the basic definition of the RMSD to calculate a final \n",
    "    RMSD of every residue for which phi or psi angles are calculated \"\"\"\n",
    "    total = 0\n",
    "    for k in range(len(value_list)):\n",
    "        total = total + np.sqrt(np.square(value_list[k] - ideal_value_list[k]))\n",
    "    average = total/len(ideal_value_list)\n",
    "    angle_rmsd = np.sqrt(average)\n",
    "    return angle_rmsd\n",
    "\n",
    "for ID in ['2KGU']:\n",
    "    #determine the number of NMR models for this structure \n",
    "    model_number = 0\n",
    "    with open('../NMR_structs/' + ID +'.pdb') as file:\n",
    "        for line in file:\n",
    "            line = line.strip () #for better control of ends of lines\n",
    "            if line == \"ENDMDL\":\n",
    "                model_number += 1\n",
    "    file.close()\n",
    "\n",
    "# loop through all the NMR models\n",
    "    for i in range(model_number):\n",
    "        reference_pose = pose_from_pdb('../NMR_structs/DSRP/clean_pdbs/{}_{}_A.pdb'.format(ID,i))\n",
    "        for j in [0,1,2,3,4]:\n",
    "            af2_pose = pose_from_pdb('../{}/{}/ranked_{}.pdb'.format(ID,ID,j))\n",
    "            #define and calculate the psi angles\n",
    "            pose_psi_angle = []\n",
    "            ref_psi_angle = []\n",
    "            for residue in range(1,af2_pose.size()):\n",
    "                pose_psi_angle.append(af2_pose.psi(residue))\n",
    "                ref_psi_angle.append(reference_pose.psi(residue))\n",
    "            psi_angle_rmsd = angle_RMSD(pose_psi_angle, ref_psi_angle)\n",
    "\n",
    "            #define and calculate the phi angles\n",
    "            pose_phi_angle = []\n",
    "            ref_phi_angle = []\n",
    "            for residue in range(2,af2_pose.size()+1):\n",
    "                pose_phi_angle.append(af2_pose.phi(residue))\n",
    "                ref_phi_angle.append(reference_pose.phi(residue))\n",
    "            phi_angle_rmsd = angle_RMSD(pose_phi_angle, ref_phi_angle)\n",
    "                        \n",
    "            #print the calculated angles\n",
    "            print(\"Psi RMSD: {}\\nPhi RMSD: {}\\n\".format(psi_angle_rmsd,phi_angle_rmsd))"
   ]
  },
  {
   "cell_type": "markdown",
   "id": "a6f9a79c",
   "metadata": {},
   "source": [
    "## Make Residue Selectors for RMSD Rosetta Script"
   ]
  },
  {
   "cell_type": "code",
   "execution_count": null,
   "id": "e78fe27c",
   "metadata": {},
   "outputs": [],
   "source": [
    "path1 = '../NMR_structs/'\n",
    "\n",
    "for ID in MIX_MP_ids:\n",
    "    with open(path1 + ID +'.pdb') as file:\n",
    "        meep = 0\n",
    "        res_nums = []\n",
    "        for line in file:\n",
    "            line = line.strip () #for better control of ends of lines\n",
    "            #print(line)\n",
    "            if line.split()[0] == 'ATOM':\n",
    "                res_nums.append(line.split()[5])\n",
    "            if line == \"ENDMDL\":\n",
    "                break\n",
    "        res_nums2 = np.unique([int(i) for i in res_nums])    \n",
    "        start = int(np.where(res_nums2 == pep_rng.loc[ID]['start'])[0])+1\n",
    "        end = int(np.where(res_nums2 == pep_rng.loc[ID]['end'])[0])+1\n",
    "        x = '<Index name=\"{}\" resnums=\"{}-{}\"/>'.format(ID, start,end)\n",
    "        print(x)\n",
    "        \n",
    "\n",
    "    file.close()"
   ]
  },
  {
   "cell_type": "markdown",
   "id": "abc07065",
   "metadata": {},
   "source": [
    "## Compare Xray and NMR Structs"
   ]
  },
  {
   "cell_type": "code",
   "execution_count": 1,
   "id": "0cc8b580",
   "metadata": {},
   "outputs": [],
   "source": [
    "Xrays = ['3ODV','1FD3', '1IJU', '6E6O','3E8Y', '4LFQ','6ATL', '6DK5', '3E7R', '4TTM', '3ODV', '1ZMP', '4BFH', '5O0U', '1LU0', '6ATW']\n",
    "\n",
    "NMRs_4_xrays = ['2UVS', '1E4Q', '1E4S','1ERC', '1Q2K', '1ROO', '1TSK','1V6R','1ZFU', '2KHB', '2KTX', '2LXZ', '2MAU', '2N9T', '2V1V', '5L1C' ]"
   ]
  },
  {
   "cell_type": "code",
   "execution_count": 2,
   "id": "8d1255f7",
   "metadata": {},
   "outputs": [
    {
     "data": {
      "text/plain": [
       "'2UVS 1E4Q 1E4S 1ERC 1Q2K 1ROO 1TSK 1V6R 1ZFU 2KHB 2KTX 2LXZ 2MAU 2N9T 2V1V 5L1C'"
      ]
     },
     "execution_count": 2,
     "metadata": {},
     "output_type": "execute_result"
    }
   ],
   "source": [
    "\" \".join(NMRs_4_xrays)"
   ]
  },
  {
   "cell_type": "code",
   "execution_count": 5,
   "id": "0c97f646",
   "metadata": {},
   "outputs": [],
   "source": [
    "path2 = '../Xray_structs/RMSD_Calculations/'\n",
    "\n",
    "for ID in NMRs_4_xrays:\n",
    "    with open(path2 + ID +'_pdb.list', 'a') as the_file:\n",
    "        for i in range(5):\n",
    "            line = '../../NMR_structs/DSRP/clean_pdbs/' + '{}_ranked_{}.pdb'.format(ID) +'\\n' \n",
    "            the_file.write(line)\n",
    "    the_file.close()"
   ]
  },
  {
   "cell_type": "markdown",
   "id": "f68f3e32",
   "metadata": {},
   "source": [
    "## Rename RosettaFold Structures"
   ]
  },
  {
   "cell_type": "code",
   "execution_count": 3,
   "id": "aa8aea16",
   "metadata": {},
   "outputs": [],
   "source": [
    "import os"
   ]
  },
  {
   "cell_type": "code",
   "execution_count": 9,
   "id": "1a4e1d37",
   "metadata": {},
   "outputs": [],
   "source": [
    "file_list = os.listdir('../RoseTTAFold/')\n",
    "path1 = '../RoseTTAFold/'\n",
    "path2 = '../RoseTTAFold_Predictions/'"
   ]
  },
  {
   "cell_type": "code",
   "execution_count": 22,
   "id": "e5fc5357",
   "metadata": {},
   "outputs": [],
   "source": [
    "missing = []\n",
    "for i in file_list[25:]:\n",
    "    if \"_\" in i:\n",
    "        try:\n",
    "            old_name = path1 + i + '/t000_.e2e.pdb'\n",
    "            new_name = path2 + i[:-2] +  '.pdb'\n",
    "            os.rename(old_name, new_name)\n",
    "        except FileNotFoundError:\n",
    "            missing.append(i[:-2])\n",
    "            continue\n",
    "        except NotADirectoryError:\n",
    "            missing.append(i[:-2])\n",
    "            continue \n",
    "    else:\n",
    "        try:\n",
    "            old_name = path1 + i + '/t000_.e2e.pdb'\n",
    "            new_name = path2 + i +  '.pdb'\n",
    "            os.rename(old_name, new_name)\n",
    "        except FileNotFoundError:\n",
    "            missing.append(i)\n",
    "            continue\n",
    "        except NotADirectoryError:\n",
    "            missing.append(i)\n",
    "            continue "
   ]
  },
  {
   "cell_type": "code",
   "execution_count": null,
   "id": "ab7b7665",
   "metadata": {},
   "outputs": [],
   "source": []
  }
 ],
 "metadata": {
  "kernelspec": {
   "display_name": "Python 3",
   "language": "python",
   "name": "python3"
  },
  "language_info": {
   "codemirror_mode": {
    "name": "ipython",
    "version": 3
   },
   "file_extension": ".py",
   "mimetype": "text/x-python",
   "name": "python",
   "nbconvert_exporter": "python",
   "pygments_lexer": "ipython3",
   "version": "3.8.8"
  }
 },
 "nbformat": 4,
 "nbformat_minor": 5
}
