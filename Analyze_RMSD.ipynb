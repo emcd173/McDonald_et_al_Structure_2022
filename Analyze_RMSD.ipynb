{
 "cells": [
  {
   "cell_type": "code",
   "execution_count": 1,
   "id": "b87a2bb5",
   "metadata": {},
   "outputs": [],
   "source": [
    "import numpy as np\n",
    "import pandas as pd\n",
    "import string\n",
    "import os\n",
    "import matplotlib.pyplot as plt\n",
    "import seaborn as sns\n",
    "import scipy.stats as stats\n",
    "import statistics\n",
    "import math\n",
    "from scipy.stats import gaussian_kde"
   ]
  },
  {
   "cell_type": "code",
   "execution_count": 2,
   "id": "128f4091",
   "metadata": {},
   "outputs": [],
   "source": [
    "def find_models(NMR_structs, list_of_RMSDs):\n",
    "    x = np.array(list_of_RMSDs)\n",
    "    loc = list(np.where(x == min(x)))\n",
    "    print('AF model: ' + str(math.floor(loc.pop()/NMR_structs)))\n",
    "    loc = list(np.where(x == min(x)))\n",
    "    print('NMR model: ' + str(loc.pop()%NMR_structs))"
   ]
  },
  {
   "cell_type": "code",
   "execution_count": 3,
   "id": "4f00ca91",
   "metadata": {},
   "outputs": [],
   "source": [
    "peptides = pd.read_excel('new_peptide_set_EFM_sorted_no_duplicates.xlsx')"
   ]
  },
  {
   "cell_type": "code",
   "execution_count": 4,
   "id": "2eda6390",
   "metadata": {},
   "outputs": [],
   "source": [
    "peps = pd.DataFrame()\n",
    "peps['ID'] = peptides['Name '].dropna()\n",
    "peps['start'] =  [int(i.split('-')[0]) for i in peptides['Structured Region for RMSD calculation'].dropna()]\n",
    "peps['end'] =  [int(i.split('-')[1]) for i in peptides['Structured Region for RMSD calculation'].dropna()]\n",
    "peps['len'] = peps['end'] - peps['start']\n",
    "peps.set_index('ID', inplace=True)"
   ]
  },
  {
   "cell_type": "markdown",
   "id": "9e28e326",
   "metadata": {},
   "source": [
    "## List of all models by catagory"
   ]
  },
  {
   "cell_type": "code",
   "execution_count": 5,
   "id": "3c4f5bc3",
   "metadata": {},
   "outputs": [],
   "source": [
    "#OG list\n",
    "AH_MP_ids = ['6X7I','1MP6','2MC7','1A11','1ALE','1ALF','1B9Q','1BM4','1BMX','1CFG','1DEP','1DJF','1EMZ','1FW5','1HO2','1HOD','1HOF','1JDM','1KDL','1LBJ','1LYP','1M25','1MOT','1O53','1ODP','1OEG','1P82','1PLP','1QG9','1R7D','1RKL','1SKH','1SPF','1T5Q','1V4Z','1VTP','1XC0','1XOO','1XOP','1Y32','1Z2T','1Z65','1ZRV','2AP7','2B0Y','2B19','2DCI','2DTB','2FXY','2FXZ','2G9L','2G9P','2GD3','2HN8','2JMY','2JOS','2JPK','2JTW','2JUI','2JXF','2K10','2K44','2K58','2K59','2K6O','2K8J','2K98','2KDR','2KEH','2KFE','2KGN','2KHF','2KI9','2KIT','2KJN','2KNS','2KV5','2KWZ','2KZQ','2L36','2L4G','2L5R','2L63','2L77','2LAT','2LBG','2LCM','2LIF','2LMF','2LQY','2LUG','2LUV','2LX0','2LZP','2LZQ','2M0H','2M0W','2M8M', '2MCE','2ME1','2MG1','2MG2','2MHW','2MJ2','2MLU','2MMM','2MKB','2MUA','2MUE','2MVH','2MVJ','2MWT','2N1C','2N1P','2N58','2N6M','2N92','2N9C','2NCS','2NCU','2NCW','2NCX','2NCY','2NR1','2OJM','2OJN','2OJO','2PCO','2PV6','2RLH','2RLW','2RMG','2RMH','2RMY','2RQ2','2RRH','3LEU','3MRA','4B19','5H2S','5I4G','5LBJ','5NDA','5UJQ','5UJR','5XDJ','5Y22','5Z1Y','6A5J','6A8Y','6AHZ','6B3U','6BJF','6CFA','6CSK','6CSZ','6CT1','6CT4','6DST','6FS5','6GIF','6GIG','6GNZ','6GO0','6GS9','6HN9','6HZ2','6IHA','6MBM','6RRL','6RRO','6TWG','6VLA','6YHF','7ASY','7AT7','7ATB','7B2F','7BX2','7CK5','7DEH','7L83','7NS1','7OVZ','7P4X','7ZBS','1HLL']\n",
    "AH_SL_ids = ['1AMB','1BY0','1DSK','1DTC','1FVY','1MF6','1Q2F','1VD7','1VD8','1VD9','1VDA','1W1N','1WN4','1WN8','1WNK','1WNM','1WNN','1YYB','1ZWD','2BN6','2GP8','2I9M','2IV5','2IV6','2KJM','2KPB','2LMA','2LQ0','2LQ1','2LQ2','2M1A','2M3F','2MRW','2MU6','2MU7','2MU9','2MUJ','2OVN','2PPZ','5TX8','6R2X']\n",
    "BHPIN_ids = ['1K43', '1B1V','1BQF','1E0L','1E0M','1E0N','1EGT','1FGD','1FGE','1G04','1HRL','1I6C',  '1LFC','1NIZ','1TMR','1U0P','1U6V','1V28','2DJ9','2DJC','2EQH','2ESZ','2EVQ','2JN5','2JNI','2JQW','2JSB','2L07','2M9E','2M9I','2MDL','2MMT','2MMW','2MW3','2MW9','2MWA','2MWB','2MWD','2MWE','2MWF','2N4R','2N4S','2N4T','2N4U','2N4V','2N4W','2N68','2OP7','2ORU','2RT4','5KKM','5M9U','5XO3','5Y0H','6AAB','6AFQ','6EE9','6FGM','7K1M']\n",
    "DSRP_ids = ['2UVS','1ACW','1AGT','1AXH','1AZJ','1BGK','1BNB','1C49','1CMR','1D1H','1D5Q','1DEC','1DU9','1E4Q','1E4R','1E4S','1E4T','1EI0','1EMX','1ERC','1ERD','1ERP','1ERY','1EWS','1F3K','1FEO','1FJN','1FSB','1FU3','1FYG','1G26','1H20','1HD6','1HLY','1HP2','1HP3','1HP9','1HTX','1HVW','1I26','1IM1','1IXT','1J5J','1K0P','1KAL','1KGM','1KWE','1LA4','1LGL','1M2S','1M4E','1M4F','1MM0','1MMC','1MR0','1MTX','1N1U','1N5G','1N8M','1NB1','1NBJ','1OIG','1ORX','1P8B','1PJV','1PMC','1PNH','1PT4','1PVZ','1Q2K','1QFD','1QGM','1QKY','1RJI','1ROO','1RPC','1S6W','1S6X','1SCO','1SP7','1SRB','1TSK','1TV0','1TYK','1UT3','1V5A','1V6R','1WM7','1WM8','1WPD','1WQB','1WQC','1WQD','1WQE','1WT8','1X7K','1Y29','1YP8','1ZFU','1ZJQ','1ZUV','2A2V','2AAP','2B5B','2BBG','2CBH','2CK4','2DDL','2EEM','2EFZ','2F2I','2F2J','2FQA','2G6U','2GW9','2GX1','2H1Z','2HLG','2I1T','2IT7','2JTB','2K1I','2K2Y','2K4U','2K72','2K9O','2KEF','2KGU','2KHB','2KIR','2KM9','2KOZ','2KP0','2KTX','2KUS','2KYJ','2L1J','2L1Q','2L2R','2LDE','2LDF','2LDS','2LEW','2LEY','2LG4','2LG6','2LI3','2LL1','2LLD','2LS1','2LSQ','2LXZ','2LZO','2M2Q','2M3J','2M6A','2M7T','2M9L','2MAU','2MBD','2MFS','2MIX','2MLA','2MLD','2MM5','2MM6','2MPQ','2MQU','2MSF','2MIX','2ML7','2MT7','2MW7','2N2G','2N2S','2N5Q','2N6B','2N6N','2N6O','2N9T','2NAJ','2NB2','2ND3','2NX7','2PTA','2RR0','2RTY','2RTZ','2RU0','2V1V','2WH9','3BBG','4B2U','4B2V','5FZX','5I1X','5I2P','5JHI','5JI4','5L1C','5LM0','5T3M','5T4R','5UJH','5V0Y','5V11','5WE3','5WXE','5X34','5Y0I','5Y0J','6BUC','6CEI','6CFB','6CKD','6CKF','6D3T','6D8H','6D8Q','6D8R','6D8S','6D8T','6D8U','6D8Y','6D93','6D9O','6D9P','6DHR','6E1L','6EFE','6F61','6K50','6K51','6KRA','6LF5','6MJV','6MK4','6MK5','6MZT','6NK9','6NUG','6NW8','6OFA','6PPC','6QJB','6QKF','6SAA','6SAB','6VH8','6VNZ','6XYH','7ALD','7EDK','7ELY','7JIA','7JIY','7KPD','7L7A','7LQR','7LZL','7N0T','7N23','7OD2','7RC7','7SAG','7SKC','7TH8']\n",
    "MIX_MP_ids = ['1CW6','1JRJ','1MEQ','1SOL','2L3I','2LE7','2LKE','2M1J','2NAT','2NB8','2NCV','5L82','5T7Q','6FS4']\n",
    "MIX_SL_ids = ['1BBA','1BHI','1FME','1FSD','1L2Y','1LB7','1PSV','1RIJ','1RIK','1RIM','1S4T','1V1D','1WZ4','2BBL','2JOF','2K76','2KI0','2L5I','2LL2','2LWB','2MTW']"
   ]
  },
  {
   "cell_type": "markdown",
   "id": "acd1c6b9",
   "metadata": {},
   "source": [
    "### AH MP"
   ]
  },
  {
   "cell_type": "code",
   "execution_count": 6,
   "id": "901deb3b",
   "metadata": {},
   "outputs": [],
   "source": [
    "PF_path = '../PEPFOLD3_Predictions/RMSD_calculations/AH_MP_ss/'\n",
    "PF_files = os.listdir(PF_path)\n",
    "PF_AH_MP_rmsds = {}\n",
    "for i in AH_MP_ids:\n",
    "    PF_AH_MP_rmsds[i] = []\n",
    "    \n",
    "for j in AH_MP_ids:\n",
    "    rmsds = []\n",
    "    with open(PF_path+j + '_RMSD.txt', encoding = \"ISO-8859-1\") as f:\n",
    "        lines = f.readlines()\n",
    "        for i in lines:\n",
    "            rmsds.append(float(i.split(' ')[1]))\n",
    "    PF_AH_MP_rmsds[j.split('_')[0]] = rmsds\n",
    "    \n",
    "PF_AH_MP_avg_rmsds = {}\n",
    "for i in AH_MP_ids:\n",
    "    PF_AH_MP_avg_rmsds[i] = []\n",
    "for i,vals in PF_AH_MP_rmsds.items():\n",
    "    PF_AH_MP_avg_rmsds[i] = (np.amin(vals))"
   ]
  },
  {
   "cell_type": "code",
   "execution_count": 7,
   "id": "f1f14075",
   "metadata": {},
   "outputs": [],
   "source": [
    "for i,val in PF_AH_MP_avg_rmsds.items():\n",
    "    PF_AH_MP_avg_rmsds[i] = val/peps.loc[i]['len']"
   ]
  },
  {
   "cell_type": "code",
   "execution_count": 8,
   "id": "8a7e45c5",
   "metadata": {},
   "outputs": [],
   "source": [
    "AF_path = '../AlphaFold_Predictions/RMSD_Calculations/AH_MP_ss/'\n",
    "AF_files = os.listdir(AF_path)\n",
    "AF_AH_MP_rmsds = {}\n",
    "for i in AH_MP_ids:\n",
    "    AF_AH_MP_rmsds[i] = []\n",
    "    \n",
    "for j in AF_files:\n",
    "    rmsds = []\n",
    "    with open(AF_path+j, encoding = \"ISO-8859-1\") as f:\n",
    "        lines = f.readlines()\n",
    "        for i in lines:\n",
    "            rmsds.append(float(i.split(' ')[1]))\n",
    "    AF_AH_MP_rmsds[j.split('_')[0]] = rmsds\n",
    "    \n",
    "AF_AH_MP_avg_rmsds = {}\n",
    "for i in AH_MP_ids:\n",
    "    AF_AH_MP_avg_rmsds[i] = []\n",
    "for i,vals in AF_AH_MP_rmsds.items():\n",
    "    AF_AH_MP_avg_rmsds[i] = (np.amin(vals))"
   ]
  },
  {
   "cell_type": "code",
   "execution_count": 9,
   "id": "0bed3a43",
   "metadata": {},
   "outputs": [],
   "source": [
    "for i,val in AF_AH_MP_avg_rmsds.items():\n",
    "    AF_AH_MP_avg_rmsds[i] = val/peps.loc[i]['len']"
   ]
  },
  {
   "cell_type": "code",
   "execution_count": 10,
   "id": "3b84e2e0",
   "metadata": {},
   "outputs": [],
   "source": [
    "OF_path = '../OmegaFold_Predictions/RMSD_Calculations/AH_MP_ss/'\n",
    "OF_files = os.listdir(OF_path)\n",
    "OF_AH_MP_rmsds = {}\n",
    "for i in AH_MP_ids:\n",
    "    OF_AH_MP_rmsds[i] = []\n",
    "    \n",
    "for j in AH_MP_ids:\n",
    "    rmsds = []\n",
    "    with open(OF_path+j+'_RMSD.txt', encoding = \"ISO-8859-1\") as f:\n",
    "        lines = f.readlines()\n",
    "        for i in lines:\n",
    "            rmsds.append(float(i.split(' ')[1]))\n",
    "    OF_AH_MP_rmsds[j.split('_')[0]] = rmsds\n",
    "    \n",
    "OF_AH_MP_avg_rmsds = {}\n",
    "for i in AH_MP_ids:\n",
    "    OF_AH_MP_avg_rmsds[i] = []\n",
    "for i,vals in OF_AH_MP_rmsds.items():\n",
    "    OF_AH_MP_avg_rmsds[i] = (np.amin(vals))"
   ]
  },
  {
   "cell_type": "code",
   "execution_count": 11,
   "id": "b799e5b9",
   "metadata": {},
   "outputs": [],
   "source": [
    "for i,val in OF_AH_MP_avg_rmsds.items():\n",
    "    OF_AH_MP_avg_rmsds[i] = val/peps.loc[i]['len']"
   ]
  },
  {
   "cell_type": "code",
   "execution_count": 12,
   "id": "41d3f8eb",
   "metadata": {},
   "outputs": [],
   "source": [
    "RF_path = '../RoseTTAFold_Predictions/RMSD_Calculations/AH_MP_ss/'\n",
    "RF_files = os.listdir(RF_path)\n",
    "RF_AH_MP_rmsds = {}\n",
    "for i in AH_MP_ids:\n",
    "    RF_AH_MP_rmsds[i] = []\n",
    "    \n",
    "for j in AH_MP_ids:\n",
    "    rmsds = []\n",
    "    with open(RF_path+j+'_RMSD.txt', encoding = \"ISO-8859-1\") as f:\n",
    "        lines = f.readlines()\n",
    "        for i in lines:\n",
    "            rmsds.append(float(i.split(' ')[1]))\n",
    "    RF_AH_MP_rmsds[j.split('_')[0]] = rmsds\n",
    "    \n",
    "RF_AH_MP_avg_rmsds = {}\n",
    "for i in AH_MP_ids:\n",
    "    RF_AH_MP_avg_rmsds[i] = []\n",
    "for i,vals in RF_AH_MP_rmsds.items():\n",
    "    RF_AH_MP_avg_rmsds[i] = (np.amin(vals))"
   ]
  },
  {
   "cell_type": "code",
   "execution_count": 13,
   "id": "6b4dd9c9",
   "metadata": {},
   "outputs": [],
   "source": [
    "for i,val in RF_AH_MP_avg_rmsds.items():\n",
    "    RF_AH_MP_avg_rmsds[i] = val/peps.loc[i]['len']"
   ]
  },
  {
   "cell_type": "code",
   "execution_count": 14,
   "id": "1108370c",
   "metadata": {},
   "outputs": [],
   "source": [
    "AT_path = '../APPTest_Predictions/RMSD_Calculations/AH_MP_ss/'\n",
    "AT_files = os.listdir(AT_path)\n",
    "AT_AH_MP_rmsds = {}\n",
    "for i in AH_MP_ids:\n",
    "    AT_AH_MP_rmsds[i] = []\n",
    "    \n",
    "for j in AH_MP_ids:\n",
    "    rmsds = []\n",
    "    with open(AT_path+j+'_RMSD.txt', encoding = \"ISO-8859-1\") as f:\n",
    "        lines = f.readlines()\n",
    "        for i in lines:\n",
    "            rmsds.append(float(i.split(' ')[1]))\n",
    "    AT_AH_MP_rmsds[j.split('_')[0]] = rmsds\n",
    "    \n",
    "AT_AH_MP_avg_rmsds = {}\n",
    "for i in AH_MP_ids:\n",
    "    AT_AH_MP_avg_rmsds[i] = []\n",
    "for i,vals in AT_AH_MP_rmsds.items():\n",
    "    AT_AH_MP_avg_rmsds[i] = (np.amin(vals))"
   ]
  },
  {
   "cell_type": "code",
   "execution_count": 15,
   "id": "8a49f8f2",
   "metadata": {},
   "outputs": [],
   "source": [
    "for i,val in AT_AH_MP_avg_rmsds.items():\n",
    "    AT_AH_MP_avg_rmsds[i] = val/peps.loc[i]['len']"
   ]
  },
  {
   "cell_type": "code",
   "execution_count": 16,
   "id": "d4da961e",
   "metadata": {},
   "outputs": [],
   "source": [
    "plot_df = pd.DataFrame()\n",
    "x0_AH_MP = np.nan_to_num([val for i,val in AF_AH_MP_avg_rmsds.items()])\n",
    "x1_AH_MP = np.nan_to_num([val for i,val in PF_AH_MP_avg_rmsds.items()])\n",
    "x2_AH_MP = np.nan_to_num([val for i,val in OF_AH_MP_avg_rmsds.items()])\n",
    "x3_AH_MP = np.nan_to_num([val for i,val in RF_AH_MP_avg_rmsds.items()])\n",
    "x4_AH_MP = np.nan_to_num([val for i,val in AT_AH_MP_avg_rmsds.items()])"
   ]
  },
  {
   "cell_type": "code",
   "execution_count": 17,
   "id": "a26247d8",
   "metadata": {},
   "outputs": [
    {
     "data": {
      "image/png": "[encoded data removed]",
      "text/plain": [
       "<Figure size 576x360 with 1 Axes>"
      ]
     },
     "metadata": {
      "needs_background": "light"
     },
     "output_type": "display_data"
    }
   ],
   "source": [
    "plt.figure(figsize=(8,5))\n",
    "\n",
    "vp_AF = plt.violinplot(x0_AH_MP, [1], showmeans=1)\n",
    "vp_PF = plt.violinplot(x1_AH_MP, [2], showmeans=1)\n",
    "vp_OF = plt.violinplot(x2_AH_MP, [3], showmeans=1)\n",
    "vp_RF = plt.violinplot(x3_AH_MP, [4], showmeans=1)\n",
    "vp_AT = plt.violinplot(x4_AH_MP, [5], showmeans=1)\n",
    "\n",
    "plt.setp(vp_AF['cmaxes'], color='k', linewidth =3)\n",
    "plt.setp(vp_AF['cmeans'], color='k', linewidth =3)\n",
    "plt.setp(vp_AF['cmins'], color='k', linewidth =3)\n",
    "plt.setp(vp_AF['cbars'], color='k', linewidth =3)\n",
    "plt.setp(vp_AF['bodies'], facecolor ='#db5f57', edgecolor='k', alpha=0.6, linewidth =3)\n",
    "\n",
    "plt.setp(vp_PF['cmaxes'], color='k', linewidth =3)\n",
    "plt.setp(vp_PF['cmeans'], color='k', linewidth =3)\n",
    "plt.setp(vp_PF['cmins'], color='k', linewidth =3)\n",
    "plt.setp(vp_PF['cbars'], color='k', linewidth =3)\n",
    "plt.setp(vp_PF['bodies'], facecolor ='#dbc257', edgecolor='k', alpha=0.6, linewidth =3)\n",
    "\n",
    "plt.setp(vp_OF['cmaxes'], color='k', linewidth =3)\n",
    "plt.setp(vp_OF['cmeans'], color='k', linewidth =3)\n",
    "plt.setp(vp_OF['cmins'], color='k', linewidth =3)\n",
    "plt.setp(vp_OF['cbars'], color='k', linewidth =3)\n",
    "plt.setp(vp_OF['bodies'], facecolor ='#57db80', edgecolor='k', alpha=0.6, linewidth =3)\n",
    "\n",
    "plt.setp(vp_RF['cmaxes'], color='k', linewidth =3)\n",
    "plt.setp(vp_RF['cmeans'], color='k', linewidth =3)\n",
    "plt.setp(vp_RF['cmins'], color='k', linewidth =3)\n",
    "plt.setp(vp_RF['cbars'], color='k', linewidth =3)\n",
    "plt.setp(vp_RF['bodies'], facecolor ='#57d3db', edgecolor='k', alpha=0.6, linewidth =3)\n",
    "\n",
    "'''plt.scatter([1,1,1], [min(x0_AH_MP), np.median(x0_AH_MP), max(x0_AH_MP)], color='k', s = 100)\n",
    "plt.text(1, min(x0_AH_MP),\n",
    "         min(AF_AH_MP_avg_rmsds, key=AF_AH_MP_avg_rmsds.get), \n",
    "        size=15)\n",
    "plt.text(1, max(x0_AH_MP),\n",
    "         max(AF_AH_MP_avg_rmsds, key=AF_AH_MP_avg_rmsds.get), \n",
    "        size=15)\n",
    "plt.text(1, np.median(x0_AH_MP),\n",
    "         ''.join([i for i,val in AF_AH_MP_avg_rmsds.items() if val == statistics.median_low(x0_AH_MP)]),        \n",
    "        size=15)'''\n",
    "plt.ylim(0,0.85)\n",
    "plt.setp(vp_AT['cmaxes'], color='k', linewidth =3)\n",
    "plt.setp(vp_AT['cmeans'], color='k', linewidth =3)\n",
    "plt.setp(vp_AT['cmins'], color='k', linewidth =3)\n",
    "plt.setp(vp_AT['cbars'], color='k', linewidth =3)\n",
    "plt.setp(vp_AT['bodies'], facecolor ='#5770db', edgecolor='k', alpha=0.6, linewidth =3)\n",
    "plt.title('AH MP', size =20, pad=10)\n",
    "plt.xticks(ticks = [1,2,3,4,5],labels=['AF2', 'PF', 'OF', 'RF', 'AT'], size=20)\n",
    "plt.ylabel('per residue C\\u03B1 RMSD', size = 20)\n",
    "plt.yticks(size=20)\n",
    "#plt.savefig('AH_MP_RMSD_violin.svg', format='svg')\n",
    "plt.show()"
   ]
  },
  {
   "cell_type": "code",
   "execution_count": 18,
   "id": "2f8cac92",
   "metadata": {},
   "outputs": [
    {
     "name": "stdout",
     "output_type": "stream",
     "text": [
      "PF: 2.712566554202266e-20\n",
      "OF: 5.952139912354395e-07\n",
      "RF: 6.270871807122647e-16\n",
      "AT: 1.38512190304946e-13\n"
     ]
    }
   ],
   "source": [
    "print('PF: ' + str(stats.ttest_rel(x0_AH_MP, x1_AH_MP)[1]))\n",
    "print('OF: ' + str(stats.ttest_rel(x0_AH_MP, x2_AH_MP)[1]))\n",
    "print('RF: ' + str(stats.ttest_rel(x0_AH_MP, x3_AH_MP)[1]))\n",
    "print('AT: ' + str(stats.ttest_rel(x0_AH_MP, x4_AH_MP)[1]))"
   ]
  },
  {
   "cell_type": "code",
   "execution_count": 19,
   "id": "9913f8f2",
   "metadata": {},
   "outputs": [],
   "source": [
    "AF_AH_MP_all_rmsds = []\n",
    "for i, val in AF_AH_MP_rmsds.items():\n",
    "    x = val/peps.loc[i]['len']\n",
    "    AF_AH_MP_all_rmsds.append(x)\n"
   ]
  },
  {
   "cell_type": "code",
   "execution_count": 20,
   "id": "0953fa7c",
   "metadata": {},
   "outputs": [],
   "source": [
    "for i,val in AT_AH_MP_avg_rmsds.items():\n",
    "    AT_AH_MP_avg_rmsds[i] = val/peps.loc[i]['len']"
   ]
  },
  {
   "cell_type": "code",
   "execution_count": 21,
   "id": "a1ea8500",
   "metadata": {},
   "outputs": [
    {
     "data": {
      "image/png": "[encoded data removed]",
      "text/plain": [
       "<Figure size 576x360 with 1 Axes>"
      ]
     },
     "metadata": {
      "needs_background": "light"
     },
     "output_type": "display_data"
    }
   ],
   "source": [
    "plt.figure(figsize=(8,5))\n",
    "x = np.concatenate(AF_AH_MP_all_rmsds)\n",
    "plt.hist(x, bins=50,color ='lightgrey', alpha=1)#, edgecolor='k')\n",
    "avg = np.mean(x)\n",
    "std = np.std(x)\n",
    "hgt = 700\n",
    "plt.vlines(avg, 0, hgt*1.5, lw=4, color='k')\n",
    "plt.text(avg, hgt*1.5, 'mean = ' + str(avg)[:5], size=15)\n",
    "med = np.median(x)\n",
    "plt.vlines(med, 0, hgt*1.5, lw=4, color='k')\n",
    "plt.text(med, hgt*1.5, 'med = ' + str(med)[:5], size=15)\n",
    "\n",
    "plt.vlines(avg+ std, 0, hgt, lw=4, color='dodgerblue')\n",
    "plt.text(avg+std, hgt, '\\u03C3', size=20, color='dodgerblue')\n",
    "plt.vlines(avg+ 2*std, 0, hgt/2, lw=4, color='goldenrod')\n",
    "plt.text(avg+2*std, hgt/2, '2\\u03C3', size=20, color='goldenrod')\n",
    "plt.vlines(avg+ 3*std, 0, hgt/3, lw=4, color='crimson')\n",
    "plt.text(avg+3*std, hgt/3, '3\\u03C3', size=20, color='crimson')\n",
    "\n",
    "\n",
    "data1 = np.concatenate(AF_AH_MP_all_rmsds)\n",
    "density = gaussian_kde(data1)\n",
    "xrng = np.linspace(0,0.8,200)\n",
    "density.covariance_factor = lambda : .5\n",
    "density._compute_covariance()\n",
    "plt.plot(xrng, 250*density(xrng), color = 'grey', lw=3, ls='-')\n",
    "\n",
    "\n",
    "plt.xlim(0,0.75)\n",
    "plt.title('AH MP', size =20, pad=10)\n",
    "plt.xlabel('per residue C\\u03B1 RMSD (\\u212B)', size=20)\n",
    "plt.xticks(size=18)\n",
    "plt.ylabel('number of Comparisons', size = 20)\n",
    "plt.yticks(size=18)\n",
    "#plt.savefig('AH_MP_RMSD_hist.svg', format='svg')\n",
    "plt.show()\n",
    "\n"
   ]
  },
  {
   "cell_type": "code",
   "execution_count": 166,
   "id": "34816afc",
   "metadata": {},
   "outputs": [
    {
     "data": {
      "text/plain": [
       "['1FW5', '2B0Y', '2FXZ', '2K10', '2KI9', '2NCU', '2NCW', '2PV6']"
      ]
     },
     "execution_count": 166,
     "metadata": {},
     "output_type": "execute_result"
    }
   ],
   "source": [
    "[i for i,val in AF_AH_MP_avg_rmsds.items() if val > avg+std and  val < avg+2*std]"
   ]
  },
  {
   "cell_type": "code",
   "execution_count": 93,
   "id": "c947c8ce",
   "metadata": {},
   "outputs": [
    {
     "name": "stdout",
     "output_type": "stream",
     "text": [
      "0.19392916666666668\n"
     ]
    }
   ],
   "source": [
    "print(AF_AH_MP_avg_rmsds['2FXZ'])"
   ]
  },
  {
   "cell_type": "code",
   "execution_count": 95,
   "id": "dc1a45d3",
   "metadata": {},
   "outputs": [
    {
     "name": "stdout",
     "output_type": "stream",
     "text": [
      "AF model: 4\n",
      "NMR model: [7]\n"
     ]
    }
   ],
   "source": [
    "find_models(15,AF_AH_MP_rmsds['2FXZ'])"
   ]
  },
  {
   "cell_type": "code",
   "execution_count": 86,
   "id": "e5be1748",
   "metadata": {},
   "outputs": [
    {
     "name": "stdout",
     "output_type": "stream",
     "text": [
      "0.19392916666666668\n"
     ]
    }
   ],
   "source": [
    "print(AF_AH_MP_avg_rmsds['2FXZ'])"
   ]
  },
  {
   "cell_type": "code",
   "execution_count": 167,
   "id": "8db54f5e",
   "metadata": {},
   "outputs": [
    {
     "data": {
      "text/plain": [
       "['1V4Z', '2M0H', '2MHW', '7B2F']"
      ]
     },
     "execution_count": 167,
     "metadata": {},
     "output_type": "execute_result"
    }
   ],
   "source": [
    "[i for i,val in AF_AH_MP_avg_rmsds.items() if val > avg+2*std and  val < avg+3*std]"
   ]
  },
  {
   "cell_type": "code",
   "execution_count": 92,
   "id": "d89613fd",
   "metadata": {},
   "outputs": [
    {
     "name": "stdout",
     "output_type": "stream",
     "text": [
      "0.266610625\n"
     ]
    }
   ],
   "source": [
    "print(AF_AH_MP_avg_rmsds['7B2F'])"
   ]
  },
  {
   "cell_type": "code",
   "execution_count": 88,
   "id": "c67e3f4c",
   "metadata": {},
   "outputs": [
    {
     "name": "stdout",
     "output_type": "stream",
     "text": [
      "AF model: 3\n",
      "NMR model: [18]\n"
     ]
    }
   ],
   "source": [
    "find_models(20,AF_AH_MP_rmsds['7B2F'])"
   ]
  },
  {
   "cell_type": "code",
   "execution_count": 168,
   "id": "293c0e4c",
   "metadata": {},
   "outputs": [
    {
     "data": {
      "text/plain": [
       "['2K98']"
      ]
     },
     "execution_count": 168,
     "metadata": {},
     "output_type": "execute_result"
    }
   ],
   "source": [
    "[i for i,val in AF_AH_MP_avg_rmsds.items() if val > avg+3*std]"
   ]
  },
  {
   "cell_type": "code",
   "execution_count": 169,
   "id": "e0033f66",
   "metadata": {},
   "outputs": [
    {
     "data": {
      "text/plain": [
       "0.2802978260869565"
      ]
     },
     "execution_count": 169,
     "metadata": {},
     "output_type": "execute_result"
    }
   ],
   "source": [
    "AF_AH_MP_avg_rmsds['2K98']"
   ]
  },
  {
   "cell_type": "markdown",
   "id": "c6c44b5f",
   "metadata": {},
   "source": [
    "### AH SL "
   ]
  },
  {
   "cell_type": "code",
   "execution_count": 22,
   "id": "9cdd01ed",
   "metadata": {},
   "outputs": [],
   "source": [
    "PF_path = '../PEPFOLD3_Predictions/RMSD_calculations/AH_SL_ss/'\n",
    "PF_files = os.listdir(PF_path)\n",
    "PF_AH_SL_rmsds = {}\n",
    "for i in AH_SL_ids:\n",
    "    PF_AH_SL_rmsds[i] = []\n",
    "    \n",
    "for j in AH_SL_ids:\n",
    "    rmsds = []\n",
    "    with open(PF_path+j+'_RMSD.txt', encoding = \"ISO-8859-1\") as f:\n",
    "        lines = f.readlines()\n",
    "        for i in lines:\n",
    "            rmsds.append(float(i.split(' ')[1]))\n",
    "    PF_AH_SL_rmsds[j.split('_')[0]] = rmsds\n",
    "    \n",
    "PF_AH_SL_avg_rmsds = {}\n",
    "for i in AH_SL_ids:\n",
    "    PF_AH_SL_avg_rmsds[i] = []\n",
    "for i,vals in PF_AH_SL_rmsds.items():\n",
    "    PF_AH_SL_avg_rmsds[i] = (np.amin(vals))"
   ]
  },
  {
   "cell_type": "code",
   "execution_count": 23,
   "id": "d5053d7c",
   "metadata": {},
   "outputs": [],
   "source": [
    "for i,val in PF_AH_SL_avg_rmsds.items():\n",
    "    PF_AH_SL_avg_rmsds[i] = val/peps.loc[i]['len']"
   ]
  },
  {
   "cell_type": "code",
   "execution_count": 24,
   "id": "b568361f",
   "metadata": {},
   "outputs": [],
   "source": [
    "AF_path = '../AlphaFold_Predictions/RMSD_Calculations/AH_SL_ss/'\n",
    "AF_files = os.listdir(AF_path)\n",
    "AF_AH_SL_rmsds = {}\n",
    "for i in AH_SL_ids:\n",
    "    AF_AH_SL_rmsds[i] = []\n",
    "    \n",
    "for j in AF_files:\n",
    "    rmsds = []\n",
    "    with open(AF_path+j, encoding = \"ISO-8859-1\") as f:\n",
    "        lines = f.readlines()\n",
    "        for i in lines:\n",
    "            rmsds.append(float(i.split(' ')[1]))\n",
    "    AF_AH_SL_rmsds[j.split('_')[0]] = rmsds\n",
    "    \n",
    "AF_AH_SL_avg_rmsds = {}\n",
    "for i in AH_SL_ids:\n",
    "    AF_AH_SL_avg_rmsds[i] = []\n",
    "for i,vals in AF_AH_SL_rmsds.items():\n",
    "    AF_AH_SL_avg_rmsds[i] = (np.amin(vals))"
   ]
  },
  {
   "cell_type": "code",
   "execution_count": 25,
   "id": "01531013",
   "metadata": {},
   "outputs": [],
   "source": [
    "for i,val in AF_AH_SL_avg_rmsds.items():\n",
    "    AF_AH_SL_avg_rmsds[i] = val/peps.loc[i]['len']"
   ]
  },
  {
   "cell_type": "code",
   "execution_count": 26,
   "id": "821c532f",
   "metadata": {},
   "outputs": [],
   "source": [
    "OF_path = '../OmegaFold_Predictions/RMSD_Calculations/AH_SL_ss/'\n",
    "OF_files = os.listdir(OF_path)\n",
    "\n",
    "OF_AH_SL_rmsds = {}\n",
    "for i in AH_SL_ids:\n",
    "    OF_AH_SL_rmsds[i] = []\n",
    "    \n",
    "for j in AH_SL_ids:\n",
    "    rmsds = []\n",
    "    with open(OF_path+j+'_RMSD.txt', encoding = \"ISO-8859-1\") as f:\n",
    "        lines = f.readlines()\n",
    "        for i in lines:\n",
    "            rmsds.append(float(i.split(' ')[1]))\n",
    "    OF_AH_SL_rmsds[j.split('_')[0]] = rmsds\n",
    "    \n",
    "OF_AH_SL_avg_rmsds = {}\n",
    "for i in AH_SL_ids:\n",
    "    OF_AH_SL_avg_rmsds[i] = []\n",
    "for i,vals in OF_AH_SL_rmsds.items():\n",
    "    OF_AH_SL_avg_rmsds[i] = (np.amin(vals))"
   ]
  },
  {
   "cell_type": "code",
   "execution_count": 27,
   "id": "bb5ae9af",
   "metadata": {},
   "outputs": [],
   "source": [
    "for i,val in OF_AH_SL_avg_rmsds.items():\n",
    "    OF_AH_SL_avg_rmsds[i] = val/peps.loc[i]['len']"
   ]
  },
  {
   "cell_type": "code",
   "execution_count": 28,
   "id": "0f69055e",
   "metadata": {},
   "outputs": [],
   "source": [
    "RF_path = '../RoseTTAFold_Predictions/RMSD_Calculations/AH_SL_ss/'\n",
    "RF_files = os.listdir(RF_path)\n",
    "\n",
    "RF_AH_SL_rmsds = {}\n",
    "for i in AH_SL_ids:\n",
    "    RF_AH_SL_rmsds[i] = []\n",
    "    \n",
    "for j in AH_SL_ids:\n",
    "    rmsds = []\n",
    "    with open(RF_path+j+'_RMSD.txt', encoding = \"ISO-8859-1\") as f:\n",
    "        lines = f.readlines()\n",
    "        for i in lines:\n",
    "            rmsds.append(float(i.split(' ')[1]))\n",
    "    RF_AH_SL_rmsds[j.split('_')[0]] = rmsds\n",
    "    \n",
    "RF_AH_SL_avg_rmsds = {}\n",
    "for i in AH_SL_ids:\n",
    "    RF_AH_SL_avg_rmsds[i] = []\n",
    "for i,vals in RF_AH_SL_rmsds.items():\n",
    "    RF_AH_SL_avg_rmsds[i] = (np.amin(vals))"
   ]
  },
  {
   "cell_type": "code",
   "execution_count": 29,
   "id": "7975e270",
   "metadata": {},
   "outputs": [],
   "source": [
    "for i,val in RF_AH_SL_avg_rmsds.items():\n",
    "    RF_AH_SL_avg_rmsds[i] = val/peps.loc[i]['len']"
   ]
  },
  {
   "cell_type": "code",
   "execution_count": 30,
   "id": "ea82f67f",
   "metadata": {},
   "outputs": [],
   "source": [
    "AT_path = '../APPTest_Predictions/RMSD_Calculations/AH_SL_ss/'\n",
    "AT_files = os.listdir(AT_path)\n",
    "\n",
    "AT_AH_SL_rmsds = {}\n",
    "for i in AH_SL_ids:\n",
    "    AT_AH_SL_rmsds[i] = []\n",
    "    \n",
    "for j in AH_SL_ids:\n",
    "    rmsds = []\n",
    "    with open(AT_path+j+'_RMSD.txt', encoding = \"ISO-8859-1\") as f:\n",
    "        lines = f.readlines()\n",
    "        for i in lines:\n",
    "            rmsds.append(float(i.split(' ')[1]))\n",
    "    AT_AH_SL_rmsds[j.split('_')[0]] = rmsds\n",
    "    \n",
    "AT_AH_SL_avg_rmsds = {}\n",
    "for i in AH_SL_ids:\n",
    "    AT_AH_SL_avg_rmsds[i] = []\n",
    "for i,vals in AT_AH_SL_rmsds.items():\n",
    "    AT_AH_SL_avg_rmsds[i] = (np.amin(vals))"
   ]
  },
  {
   "cell_type": "code",
   "execution_count": 31,
   "id": "21af00f4",
   "metadata": {},
   "outputs": [],
   "source": [
    "for i,val in AT_AH_SL_avg_rmsds.items():\n",
    "    AT_AH_SL_avg_rmsds[i] = val/peps.loc[i]['len']"
   ]
  },
  {
   "cell_type": "code",
   "execution_count": 32,
   "id": "6e5a2d71",
   "metadata": {},
   "outputs": [],
   "source": [
    "plot_df = pd.DataFrame()\n",
    "x0_AH_SL = np.nan_to_num([val for i,val in AF_AH_SL_avg_rmsds.items()])\n",
    "x1_AH_SL = np.nan_to_num([val for i,val in PF_AH_SL_avg_rmsds.items()])\n",
    "x2_AH_SL = np.nan_to_num([val for i,val in OF_AH_SL_avg_rmsds.items()])\n",
    "x3_AH_SL = np.nan_to_num([val for i,val in RF_AH_SL_avg_rmsds.items()])\n",
    "x4_AH_SL = np.nan_to_num([val for i,val in AT_AH_SL_avg_rmsds.items()])"
   ]
  },
  {
   "cell_type": "code",
   "execution_count": 33,
   "id": "e69c0ece",
   "metadata": {
    "scrolled": true
   },
   "outputs": [
    {
     "data": {
      "image/png": "[encoded data removed]",
      "text/plain": [
       "<Figure size 576x360 with 1 Axes>"
      ]
     },
     "metadata": {
      "needs_background": "light"
     },
     "output_type": "display_data"
    }
   ],
   "source": [
    "plt.figure(figsize=(8,5))\n",
    "\n",
    "vp_AF = plt.violinplot(x0_AH_SL, [1], showmeans=1)\n",
    "vp_PF = plt.violinplot(x1_AH_SL, [2], showmeans=1)\n",
    "vp_OF = plt.violinplot(x2_AH_SL, [3], showmeans=1)\n",
    "vp_RF = plt.violinplot(x3_AH_SL, [4], showmeans=1)\n",
    "vp_AT = plt.violinplot(x4_AH_SL, [5], showmeans=1)\n",
    "\n",
    "plt.setp(vp_AF['cmaxes'], color='k', linewidth =3)\n",
    "plt.setp(vp_AF['cmeans'], color='k', linewidth =3)\n",
    "plt.setp(vp_AF['cmins'], color='k', linewidth =3)\n",
    "plt.setp(vp_AF['cbars'], color='k', linewidth =3)\n",
    "plt.setp(vp_AF['bodies'], facecolor ='#db5f57', edgecolor='k', alpha=0.6, linewidth =3)\n",
    "\n",
    "plt.setp(vp_PF['cmaxes'], color='k', linewidth =3)\n",
    "plt.setp(vp_PF['cmeans'], color='k', linewidth =3)\n",
    "plt.setp(vp_PF['cmins'], color='k', linewidth =3)\n",
    "plt.setp(vp_PF['cbars'], color='k', linewidth =3)\n",
    "plt.setp(vp_PF['bodies'], facecolor ='#dbc257', edgecolor='k', alpha=0.6, linewidth =3)\n",
    "\n",
    "plt.setp(vp_OF['cmaxes'], color='k', linewidth =3)\n",
    "plt.setp(vp_OF['cmeans'], color='k', linewidth =3)\n",
    "plt.setp(vp_OF['cmins'], color='k', linewidth =3)\n",
    "plt.setp(vp_OF['cbars'], color='k', linewidth =3)\n",
    "plt.setp(vp_OF['bodies'], facecolor ='#57db80', edgecolor='k', alpha=0.6, linewidth =3)\n",
    "\n",
    "plt.setp(vp_RF['cmaxes'], color='k', linewidth =3)\n",
    "plt.setp(vp_RF['cmeans'], color='k', linewidth =3)\n",
    "plt.setp(vp_RF['cmins'], color='k', linewidth =3)\n",
    "plt.setp(vp_RF['cbars'], color='k', linewidth =3)\n",
    "plt.setp(vp_RF['bodies'], facecolor ='#57d3db', edgecolor='k', alpha=0.6, linewidth =3)\n",
    "\n",
    "'''plt.scatter([1,1,1], [min(x0_AH_SL), np.median(x0_AH_SL), max(x0_AH_SL)], color='k', s = 100)\n",
    "plt.text(1, min(x0_AH_SL),\n",
    "         min(AF_AH_SL_avg_rmsds, key=AF_AH_SL_avg_rmsds.get), \n",
    "        size=15)\n",
    "plt.text(1, max(x0_AH_SL),\n",
    "         max(AF_AH_SL_avg_rmsds, key=AF_AH_SL_avg_rmsds.get), \n",
    "        size=15)\n",
    "plt.text(1, np.median(x0_AH_SL),\n",
    "         ''.join([i for i,val in AF_AH_SL_avg_rmsds.items() if val == statistics.median_low(x0_AH_SL)]),        \n",
    "        size=15)'''\n",
    "plt.ylim(0,0.85)\n",
    "plt.setp(vp_AT['cmaxes'], color='k', linewidth =3)\n",
    "plt.setp(vp_AT['cmeans'], color='k', linewidth =3)\n",
    "plt.setp(vp_AT['cmins'], color='k', linewidth =3)\n",
    "plt.setp(vp_AT['cbars'], color='k', linewidth =3)\n",
    "plt.setp(vp_AT['bodies'], facecolor ='#5770db', edgecolor='k', alpha=0.6, linewidth =3)\n",
    "plt.title('AH SL', size =20, pad=10)\n",
    "plt.xticks(ticks = [1,2,3,4,5],labels=['AF2', 'PF', 'OF', 'RF', 'AT'], size=20)\n",
    "plt.ylabel('per residue C\\u03B1 RMSD', size = 20)\n",
    "plt.yticks(size=20)\n",
    "#plt.savefig('AH_SL_RMSD_violin.svg', format='svg')\n",
    "plt.show()"
   ]
  },
  {
   "cell_type": "code",
   "execution_count": 34,
   "id": "7ab2e603",
   "metadata": {},
   "outputs": [
    {
     "name": "stdout",
     "output_type": "stream",
     "text": [
      "PF: 0.0066720229294765804\n",
      "OF: 0.0016892479133457437\n",
      "RF: 0.0006447084496799577\n",
      "AT: 0.00579186700239417\n"
     ]
    }
   ],
   "source": [
    "print('PF: ' + str(stats.ttest_rel(x0_AH_SL, x1_AH_SL)[1]))\n",
    "print('OF: ' + str(stats.ttest_rel(x0_AH_SL, x2_AH_SL)[1]))\n",
    "print('RF: ' + str(stats.ttest_rel(x0_AH_SL, x3_AH_SL)[1]))\n",
    "print('AT: ' + str(stats.ttest_rel(x0_AH_SL, x4_AH_SL)[1]))"
   ]
  },
  {
   "cell_type": "code",
   "execution_count": 35,
   "id": "0579cdd7",
   "metadata": {},
   "outputs": [],
   "source": [
    "AF_AH_SL_all_rmsds = []\n",
    "for i, val in AF_AH_SL_rmsds.items():\n",
    "    x = val/peps.loc[i]['len']\n",
    "    AF_AH_SL_all_rmsds.append(x)\n",
    "    "
   ]
  },
  {
   "cell_type": "code",
   "execution_count": 36,
   "id": "f2900589",
   "metadata": {},
   "outputs": [
    {
     "data": {
      "image/png": "[encoded data removed]",
      "text/plain": [
       "<Figure size 576x360 with 1 Axes>"
      ]
     },
     "metadata": {
      "needs_background": "light"
     },
     "output_type": "display_data"
    }
   ],
   "source": [
    "plt.figure(figsize=(8,5))\n",
    "x = np.concatenate(AF_AH_SL_all_rmsds)\n",
    "plt.hist(x, bins=50,color ='lightgrey', alpha=1)#, edgecolor='k')\n",
    "avg = np.mean(x)\n",
    "std = np.std(x)\n",
    "hgt = 150\n",
    "plt.vlines(avg, 0, hgt*1.5, lw=4, color='k')\n",
    "plt.text(avg, hgt*1.5, 'mean = ' + str(avg)[:5], size=15)\n",
    "med = np.median(x)\n",
    "plt.vlines(med, 0, hgt*1.5, lw=4, color='k')\n",
    "plt.text(med, hgt*1.5, 'med = ' + str(med)[:5], size=15)\n",
    "\n",
    "plt.vlines(avg+ std, 0, hgt, lw=4, color='dodgerblue')\n",
    "plt.text(avg+std, hgt, '\\u03C3', size=20, color='dodgerblue')\n",
    "plt.vlines(avg+ 2*std, 0, hgt/2, lw=4, color='goldenrod')\n",
    "plt.text(avg+2*std, hgt/2, '2\\u03C3', size=20, color='goldenrod')\n",
    "plt.vlines(avg+ 3*std, 0, hgt/3, lw=4, color='crimson')\n",
    "plt.text(avg+3*std, hgt/3, '3\\u03C3', size=20, color='crimson')\n",
    "\n",
    "\n",
    "density = gaussian_kde(x)\n",
    "xrng = np.linspace(0,0.8,200)\n",
    "density.covariance_factor = lambda : 0.4\n",
    "density._compute_covariance()\n",
    "plt.plot(xrng, 65*density(xrng), color = 'grey', lw=3, ls='-')\n",
    "\n",
    "\n",
    "plt.xlim(0,0.75)\n",
    "plt.title('AH SL', size =20, pad=10)\n",
    "plt.xlabel('per residue C\\u03B1 RMSD (\\u212B)', size=20)\n",
    "plt.xticks(size=18)\n",
    "plt.ylabel('number of Comparisons', size = 20)\n",
    "plt.yticks(size=18)\n",
    "#plt.savefig('AH_SL_RMSD_hist.svg', format='svg')\n",
    "plt.show()\n"
   ]
  },
  {
   "cell_type": "code",
   "execution_count": 39,
   "id": "ad1f07f2",
   "metadata": {},
   "outputs": [
    {
     "data": {
      "text/plain": [
       "\"plt.figure(figsize=(8,5))\\nx = np.concatenate(AF_MIX_SL_all_rmsds)\\nplt.hist(x, bins=30,color ='lightgrey', alpha=1)\\n#, edgecolor='k') avg = np.mean(x) std = np.std(x)\\nplt.vlines(avg, 0, hgt*1.5, lw=4, color='k')\\nplt.text(avg, hgt*1.5, 'mean = ' + str(avg)[:5], size=15)\\n\\ny1 =[i for i in np.concatenate(AF_MIX_SL_all_rmsds) if i > 0.15 and i < 0.3]\\nplt.hist(y1, bins=5,color ='dodgerblue', alpha=1)#, edgecolor='k'\\ny2 =[i for i in np.concatenate(AF_MIX_SL_all_rmsds) if i > 0.3 and i < 0.5]\\nplt.hist(y2, bins=5,color ='goldenrod', alpha=1)#, edgecolor='k'\\ny3 =[i for i in np.concatenate(AF_MIX_SL_all_rmsds) if i > 0.5 ]\\nplt.hist(y3, bins=5,color ='crimson', alpha=1)#, edgecolor='k'\\n\\ndensity = gaussian_kde(x) \\nxrng = np.linspace(0,0.8,200)\\ndensity.covariance_factor = lambda : 0.2\\ndensity._compute_covariance()\\nplt.plot(xrng, 75*density(xrng), color = 'grey', lw=3, ls='-')\\n\\nplt.xlim(0,0.75)\\nplt.title('AH SL', size =20, pad=10)\\nplt.xlabel('per residue Cα RMSD (Å)', size=20)\\nplt.xticks(size=18)\\nplt.ylabel('number of Comparisons', size = 20)\\nplt.yticks(size=18) \\n#plt.savefig('FIG1_hist.svg', format='svg')\\nplt.show()\""
      ]
     },
     "execution_count": 39,
     "metadata": {},
     "output_type": "execute_result"
    }
   ],
   "source": [
    "'''plt.figure(figsize=(8,5))\n",
    "x = np.concatenate(AF_MIX_SL_all_rmsds)\n",
    "plt.hist(x, bins=30,color ='lightgrey', alpha=1)\n",
    "#, edgecolor='k') avg = np.mean(x) std = np.std(x)\n",
    "plt.vlines(avg, 0, hgt*1.5, lw=4, color='k')\n",
    "plt.text(avg, hgt*1.5, 'mean = ' + str(avg)[:5], size=15)\n",
    "\n",
    "y1 =[i for i in np.concatenate(AF_MIX_SL_all_rmsds) if i > 0.15 and i < 0.3]\n",
    "plt.hist(y1, bins=5,color ='dodgerblue', alpha=1)#, edgecolor='k'\n",
    "y2 =[i for i in np.concatenate(AF_MIX_SL_all_rmsds) if i > 0.3 and i < 0.5]\n",
    "plt.hist(y2, bins=5,color ='goldenrod', alpha=1)#, edgecolor='k'\n",
    "y3 =[i for i in np.concatenate(AF_MIX_SL_all_rmsds) if i > 0.5 ]\n",
    "plt.hist(y3, bins=5,color ='crimson', alpha=1)#, edgecolor='k'\n",
    "\n",
    "density = gaussian_kde(x) \n",
    "xrng = np.linspace(0,0.8,200)\n",
    "density.covariance_factor = lambda : 0.2\n",
    "density._compute_covariance()\n",
    "plt.plot(xrng, 75*density(xrng), color = 'grey', lw=3, ls='-')\n",
    "\n",
    "plt.xlim(0,0.75)\n",
    "plt.title('AH SL', size =20, pad=10)\n",
    "plt.xlabel('per residue C\\u03B1 RMSD (\\u212B)', size=20)\n",
    "plt.xticks(size=18)\n",
    "plt.ylabel('number of Comparisons', size = 20)\n",
    "plt.yticks(size=18) \n",
    "#plt.savefig('FIG1_hist.svg', format='svg')\n",
    "plt.show()'''"
   ]
  },
  {
   "cell_type": "code",
   "execution_count": 98,
   "id": "3327a573",
   "metadata": {},
   "outputs": [
    {
     "data": {
      "text/plain": [
       "['1MF6', '2KPB', '2LQ1']"
      ]
     },
     "execution_count": 98,
     "metadata": {},
     "output_type": "execute_result"
    }
   ],
   "source": [
    "[i for i,val in AF_AH_SL_avg_rmsds.items() if val > avg+std and  val < avg+2*std]"
   ]
  },
  {
   "cell_type": "code",
   "execution_count": 107,
   "id": "4812707d",
   "metadata": {},
   "outputs": [
    {
     "name": "stdout",
     "output_type": "stream",
     "text": [
      "0.2236465217391304\n"
     ]
    }
   ],
   "source": [
    "\n",
    "print(AF_AH_SL_avg_rmsds['2KPB'])\n"
   ]
  },
  {
   "cell_type": "code",
   "execution_count": 106,
   "id": "8914af21",
   "metadata": {},
   "outputs": [
    {
     "name": "stdout",
     "output_type": "stream",
     "text": [
      "AF model: 4\n",
      "NMR model: [8]\n"
     ]
    }
   ],
   "source": [
    "find_models(20,AF_AH_SL_rmsds['2KPB'])"
   ]
  },
  {
   "cell_type": "code",
   "execution_count": 99,
   "id": "78768c0a",
   "metadata": {},
   "outputs": [
    {
     "data": {
      "text/plain": [
       "['1AMB', '1FVY', '2IV6']"
      ]
     },
     "execution_count": 99,
     "metadata": {},
     "output_type": "execute_result"
    }
   ],
   "source": [
    "[i for i,val in AF_AH_SL_avg_rmsds.items() if val > avg+2*std and  val < avg+3*std]"
   ]
  },
  {
   "cell_type": "code",
   "execution_count": 104,
   "id": "34272244",
   "metadata": {},
   "outputs": [
    {
     "name": "stdout",
     "output_type": "stream",
     "text": [
      "0.3687909523809524\n"
     ]
    }
   ],
   "source": [
    "print(AF_AH_SL_avg_rmsds['1AMB'])"
   ]
  },
  {
   "cell_type": "code",
   "execution_count": 102,
   "id": "39fd04fe",
   "metadata": {},
   "outputs": [
    {
     "name": "stdout",
     "output_type": "stream",
     "text": [
      "AF model: 3\n",
      "NMR model: [5]\n"
     ]
    }
   ],
   "source": [
    "find_models(20,AF_AH_SL_rmsds['1FVY'])"
   ]
  },
  {
   "cell_type": "code",
   "execution_count": 246,
   "id": "ec3eda9b",
   "metadata": {},
   "outputs": [
    {
     "data": {
      "text/plain": [
       "[]"
      ]
     },
     "execution_count": 246,
     "metadata": {},
     "output_type": "execute_result"
    }
   ],
   "source": [
    "[i for i,val in AF_AH_SL_avg_rmsds.items() if val > avg+3*std]"
   ]
  },
  {
   "cell_type": "markdown",
   "id": "ce1efd31",
   "metadata": {},
   "source": [
    "### BHPIN"
   ]
  },
  {
   "cell_type": "code",
   "execution_count": 40,
   "id": "b979b215",
   "metadata": {},
   "outputs": [],
   "source": [
    "PF_path = '../PEPFOLD3_Predictions/RMSD_calculations/BHPIN_ss/'\n",
    "PF_files = os.listdir(PF_path)\n",
    "PF_BHPIN_rmsds = {}\n",
    "for i in BHPIN_ids:\n",
    "    PF_BHPIN_rmsds[i] = []\n",
    "    \n",
    "for j in BHPIN_ids:\n",
    "    rmsds = []\n",
    "    with open(PF_path+j+'_RMSD.txt', encoding = \"ISO-8859-1\") as f:\n",
    "        lines = f.readlines()\n",
    "        for i in lines:\n",
    "            rmsds.append(float(i.split(' ')[1]))\n",
    "    PF_BHPIN_rmsds[j.split('_')[0]] = rmsds\n",
    "    \n",
    "PF_BHPIN_avg_rmsds = {}\n",
    "for i in BHPIN_ids:\n",
    "    PF_BHPIN_avg_rmsds[i] = []\n",
    "for i,vals in PF_BHPIN_rmsds.items():\n",
    "    PF_BHPIN_avg_rmsds[i] = (np.amin(vals))"
   ]
  },
  {
   "cell_type": "code",
   "execution_count": 41,
   "id": "5d3559ab",
   "metadata": {},
   "outputs": [],
   "source": [
    "for i,val in PF_BHPIN_avg_rmsds.items():\n",
    "    PF_BHPIN_avg_rmsds[i] = val/peps.loc[i]['len']"
   ]
  },
  {
   "cell_type": "code",
   "execution_count": 42,
   "id": "f6a4b63e",
   "metadata": {},
   "outputs": [],
   "source": [
    "AF_path = '../AlphaFold_Predictions/RMSD_Calculations/BHPIN_ss/'\n",
    "AF_files = os.listdir(AF_path)\n",
    "AF_BHPIN_rmsds = {}\n",
    "for i in BHPIN_ids:\n",
    "    AF_BHPIN_rmsds[i] = []\n",
    "    \n",
    "for j in BHPIN_ids:\n",
    "    rmsds = []\n",
    "    with open(AF_path+j+'_RMSD.txt', encoding = \"ISO-8859-1\") as f:\n",
    "        lines = f.readlines()\n",
    "        for i in lines:\n",
    "            rmsds.append(float(i.split(' ')[1]))\n",
    "    AF_BHPIN_rmsds[j.split('_')[0]] = rmsds\n",
    "    \n",
    "AF_BHPIN_avg_rmsds = {}\n",
    "for i in BHPIN_ids:\n",
    "    AF_BHPIN_avg_rmsds[i] = []\n",
    "for i,vals in AF_BHPIN_rmsds.items():\n",
    "    AF_BHPIN_avg_rmsds[i] = (np.amin(vals))"
   ]
  },
  {
   "cell_type": "code",
   "execution_count": 43,
   "id": "b718a655",
   "metadata": {},
   "outputs": [],
   "source": [
    "for i,val in AF_BHPIN_avg_rmsds.items():\n",
    "    AF_BHPIN_avg_rmsds[i] = val/peps.loc[i]['len']"
   ]
  },
  {
   "cell_type": "code",
   "execution_count": 44,
   "id": "d0033d48",
   "metadata": {},
   "outputs": [],
   "source": [
    "OF_path = '../OmegaFold_Predictions/RMSD_Calculations/BHPIN_ss/'\n",
    "OF_files = os.listdir(OF_path)\n",
    "OF_BHPIN_rmsds = {}\n",
    "for i in BHPIN_ids:\n",
    "    OF_BHPIN_rmsds[i] = []\n",
    "    \n",
    "for j in BHPIN_ids:\n",
    "    rmsds = []\n",
    "    with open(OF_path+j+'_RMSD.txt', encoding = \"ISO-8859-1\") as f:\n",
    "        lines = f.readlines()\n",
    "        for i in lines:\n",
    "            rmsds.append(float(i.split(' ')[1]))\n",
    "    OF_BHPIN_rmsds[j.split('_')[0]] = rmsds\n",
    "    \n",
    "OF_BHPIN_avg_rmsds = {}\n",
    "for i in BHPIN_ids:\n",
    "    OF_BHPIN_avg_rmsds[i] = []\n",
    "for i,vals in OF_BHPIN_rmsds.items():\n",
    "    OF_BHPIN_avg_rmsds[i] = (np.amin(vals))"
   ]
  },
  {
   "cell_type": "code",
   "execution_count": 45,
   "id": "fa81c074",
   "metadata": {},
   "outputs": [],
   "source": [
    "for i,val in OF_BHPIN_avg_rmsds.items():\n",
    "    OF_BHPIN_avg_rmsds[i] = val/peps.loc[i]['len']"
   ]
  },
  {
   "cell_type": "code",
   "execution_count": 46,
   "id": "28e29c30",
   "metadata": {},
   "outputs": [],
   "source": [
    "RF_path = '../RoseTTAFold_Predictions/RMSD_Calculations/BHPIN_ss/'\n",
    "RF_files = os.listdir(RF_path)\n",
    "RF_BHPIN_rmsds = {}\n",
    "for i in BHPIN_ids:\n",
    "    RF_BHPIN_rmsds[i] = []\n",
    "    \n",
    "for j in BHPIN_ids:\n",
    "    rmsds = []\n",
    "    with open(RF_path+j+'_RMSD.txt', encoding = \"ISO-8859-1\") as f:\n",
    "        lines = f.readlines()\n",
    "        for i in lines:\n",
    "            rmsds.append(float(i.split(' ')[1]))\n",
    "    RF_BHPIN_rmsds[j.split('_')[0]] = rmsds\n",
    "    \n",
    "RF_BHPIN_avg_rmsds = {}\n",
    "for i in BHPIN_ids:\n",
    "    RF_BHPIN_avg_rmsds[i] = []\n",
    "for i,vals in RF_BHPIN_rmsds.items():\n",
    "    RF_BHPIN_avg_rmsds[i] = (np.amin(vals))"
   ]
  },
  {
   "cell_type": "code",
   "execution_count": 47,
   "id": "75c31e89",
   "metadata": {},
   "outputs": [],
   "source": [
    "for i,val in RF_BHPIN_avg_rmsds.items():\n",
    "    RF_BHPIN_avg_rmsds[i] = val/peps.loc[i]['len']"
   ]
  },
  {
   "cell_type": "code",
   "execution_count": 48,
   "id": "b645fd18",
   "metadata": {},
   "outputs": [],
   "source": [
    "AT_path = '../APPTest_Predictions/RMSD_Calculations/BHPIN_ss/'\n",
    "AT_files = os.listdir(AT_path)\n",
    "AT_BHPIN_rmsds = {}\n",
    "for i in BHPIN_ids:\n",
    "    AT_BHPIN_rmsds[i] = []\n",
    "    \n",
    "for j in BHPIN_ids:\n",
    "    rmsds = []\n",
    "    with open(AT_path+j+'_RMSD.txt', encoding = \"ISO-8859-1\") as f:\n",
    "        lines = f.readlines()\n",
    "        for i in lines:\n",
    "            rmsds.append(float(i.split(' ')[1]))\n",
    "    AT_BHPIN_rmsds[j.split('_')[0]] = rmsds\n",
    "    \n",
    "AT_BHPIN_avg_rmsds = {}\n",
    "for i in BHPIN_ids:\n",
    "    AT_BHPIN_avg_rmsds[i] = []\n",
    "for i,vals in AT_BHPIN_rmsds.items():\n",
    "    AT_BHPIN_avg_rmsds[i] = (np.amin(vals))"
   ]
  },
  {
   "cell_type": "code",
   "execution_count": 49,
   "id": "4f5acad6",
   "metadata": {},
   "outputs": [],
   "source": [
    "for i,val in AT_BHPIN_avg_rmsds.items():\n",
    "    AT_BHPIN_avg_rmsds[i] = val/peps.loc[i]['len']"
   ]
  },
  {
   "cell_type": "code",
   "execution_count": 119,
   "id": "d43bf0b0",
   "metadata": {},
   "outputs": [],
   "source": [
    "x0_BHPIN = np.nan_to_num([val for i,val in AF_BHPIN_avg_rmsds.items()])\n",
    "x1_BHPIN = np.nan_to_num([val for i,val in PF_BHPIN_avg_rmsds.items()])\n",
    "x2_BHPIN = np.nan_to_num([val for i,val in OF_BHPIN_avg_rmsds.items()])\n",
    "x3_BHPIN = np.nan_to_num([val for i,val in RF_BHPIN_avg_rmsds.items()])\n",
    "x4_BHPIN = np.nan_to_num([val for i,val in AT_BHPIN_avg_rmsds.items()])"
   ]
  },
  {
   "cell_type": "code",
   "execution_count": 121,
   "id": "790554d6",
   "metadata": {},
   "outputs": [
    {
     "data": {
      "image/png": "[encoded data removed]",
      "text/plain": [
       "<Figure size 576x360 with 1 Axes>"
      ]
     },
     "metadata": {
      "needs_background": "light"
     },
     "output_type": "display_data"
    }
   ],
   "source": [
    "plt.figure(figsize=(8,5))\n",
    "\n",
    "vp_AF = plt.violinplot(x0_BHPIN , [1], showmeans=1)\n",
    "vp_PF = plt.violinplot(x1_BHPIN , [2], showmeans=1)\n",
    "vp_OF = plt.violinplot(x2_BHPIN , [3], showmeans=1)\n",
    "vp_RF = plt.violinplot(x3_BHPIN , [4], showmeans=1)\n",
    "vp_AT = plt.violinplot(x4_BHPIN , [5], showmeans=1)\n",
    "\n",
    "plt.setp(vp_AF['cmaxes'], color='k', linewidth =3)\n",
    "plt.setp(vp_AF['cmeans'], color='k', linewidth =3)\n",
    "plt.setp(vp_AF['cmins'], color='k', linewidth =3)\n",
    "plt.setp(vp_AF['cbars'], color='k', linewidth =3)\n",
    "plt.setp(vp_AF['bodies'], facecolor ='#db5f57', edgecolor='k', alpha=0.6, linewidth =3)\n",
    "\n",
    "plt.setp(vp_PF['cmaxes'], color='k', linewidth =3)\n",
    "plt.setp(vp_PF['cmeans'], color='k', linewidth =3)\n",
    "plt.setp(vp_PF['cmins'], color='k', linewidth =3)\n",
    "plt.setp(vp_PF['cbars'], color='k', linewidth =3)\n",
    "plt.setp(vp_PF['bodies'], facecolor ='#dbc257', edgecolor='k', alpha=0.6, linewidth =3)\n",
    "\n",
    "plt.setp(vp_OF['cmaxes'], color='k', linewidth =3)\n",
    "plt.setp(vp_OF['cmeans'], color='k', linewidth =3)\n",
    "plt.setp(vp_OF['cmins'], color='k', linewidth =3)\n",
    "plt.setp(vp_OF['cbars'], color='k', linewidth =3)\n",
    "plt.setp(vp_OF['bodies'], facecolor ='#57db80', edgecolor='k', alpha=0.6, linewidth =3)\n",
    "\n",
    "plt.setp(vp_RF['cmaxes'], color='k', linewidth =3)\n",
    "plt.setp(vp_RF['cmeans'], color='k', linewidth =3)\n",
    "plt.setp(vp_RF['cmins'], color='k', linewidth =3)\n",
    "plt.setp(vp_RF['cbars'], color='k', linewidth =3)\n",
    "plt.setp(vp_RF['bodies'], facecolor ='#57d3db', edgecolor='k', alpha=0.6, linewidth =3)\n",
    "\n",
    "'''plt.scatter([1,1,1], [min(x0_BHPIN), np.median(x0_BHPIN), max(x0_BHPIN)], color='k', s = 100)\n",
    "plt.text(1, min(x0_BHPIN),\n",
    "         min(AF_BHPIN_avg_rmsds, key=AF_BHPIN_avg_rmsds.get), \n",
    "        size=15)\n",
    "plt.text(1, max(x0_BHPIN),\n",
    "         max(AF_BHPIN_avg_rmsds, key=AF_BHPIN_avg_rmsds.get), \n",
    "        size=15)\n",
    "plt.text(1, np.median(x0_BHPIN),\n",
    "         ''.join([i for i,val in AF_BHPIN_avg_rmsds.items() if val == statistics.median_low(x0_BHPIN)]),        \n",
    "        size=15)'''\n",
    "\n",
    "plt.setp(vp_AT['cmaxes'], color='k', linewidth =3)\n",
    "plt.setp(vp_AT['cmeans'], color='k', linewidth =3)\n",
    "plt.setp(vp_AT['cmins'], color='k', linewidth =3)\n",
    "plt.setp(vp_AT['cbars'], color='k', linewidth =3)\n",
    "plt.setp(vp_AT['bodies'], facecolor ='#5770db', edgecolor='k', alpha=0.6, linewidth =3)\n",
    "\n",
    "plt.ylim(0,0.85)\n",
    "plt.title('BHPIN', size=20, pad=10)\n",
    "plt.xticks(ticks = [1,2,3,4,5],labels=['AF2', 'PF', 'OF', 'RF', 'AT'], size=20)\n",
    "plt.ylabel('per residue C\\u03B1 RMSD', size = 20)\n",
    "plt.yticks(size=20)\n",
    "plt.savefig('BHPIN_RMSD_violin.svg', format='svg')\n",
    "plt.show()"
   ]
  },
  {
   "cell_type": "code",
   "execution_count": 122,
   "id": "9cb1c273",
   "metadata": {},
   "outputs": [
    {
     "name": "stdout",
     "output_type": "stream",
     "text": [
      "PF: 0.0006728867215676203\n",
      "OF: 0.0016835478726514959\n",
      "RF: 0.0008486021117649852\n",
      "AT: 2.9555884571515647e-30\n"
     ]
    }
   ],
   "source": [
    "print('PF: ' + str(stats.ttest_rel(x0_BHPIN, x1_BHPIN)[1]))\n",
    "print('OF: ' + str(stats.ttest_rel(x0_BHPIN, x2_BHPIN)[1]))\n",
    "print('RF: ' + str(stats.ttest_rel(x0_BHPIN, x3_BHPIN)[1]))\n",
    "print('AT: ' + str(stats.ttest_rel(x0_BHPIN, x4_BHPIN)[1]))"
   ]
  },
  {
   "cell_type": "code",
   "execution_count": 134,
   "id": "7100f83d",
   "metadata": {},
   "outputs": [
    {
     "name": "stdout",
     "output_type": "stream",
     "text": [
      "AF model: 3\n",
      "NMR model: [18]\n"
     ]
    }
   ],
   "source": [
    "find_models(20,AF_BHPIN_rmsds['2N68'])"
   ]
  },
  {
   "cell_type": "code",
   "execution_count": 189,
   "id": "22c557b9",
   "metadata": {},
   "outputs": [],
   "source": [
    "AF_BHPIN_all_rmsds = []\n",
    "for i, val in AF_BHPIN_rmsds.items():\n",
    "    x = val/peps.loc[i]['len']\n",
    "    AF_BHPIN_all_rmsds.append(x)\n",
    "    "
   ]
  },
  {
   "cell_type": "code",
   "execution_count": 197,
   "id": "a813716a",
   "metadata": {},
   "outputs": [
    {
     "data": {
      "image/png": "[encoded data removed]",
      "text/plain": [
       "<Figure size 576x360 with 1 Axes>"
      ]
     },
     "metadata": {
      "needs_background": "light"
     },
     "output_type": "display_data"
    }
   ],
   "source": [
    "plt.figure(figsize=(8,5))\n",
    "x = np.concatenate(AF_BHPIN_all_rmsds)\n",
    "plt.hist(x, bins=50,color ='lightgrey', alpha=1)#, edgecolor='k')\n",
    "avg = np.mean(x)\n",
    "std = np.std(x)\n",
    "hgt = 500\n",
    "plt.vlines(avg, 0, hgt*1.5, lw=4, color='k')\n",
    "plt.text(avg, hgt*1.5, 'mean = ' + str(avg)[:5], size=15)\n",
    "med = np.median(x)\n",
    "plt.vlines(med, 0, hgt*1.5, lw=4, color='k')\n",
    "plt.text(med, hgt*1.5, 'med = ' + str(med)[:5], size=15)\n",
    "\n",
    "plt.vlines(avg+ std, 0, hgt, lw=4, color='dodgerblue')\n",
    "plt.text(avg+std, hgt, '\\u03C3', size=20, color='dodgerblue')\n",
    "plt.vlines(avg+ 2*std, 0, hgt/2, lw=4, color='goldenrod')\n",
    "plt.text(avg+2*std, hgt/2, '2\\u03C3', size=20, color='goldenrod')\n",
    "plt.vlines(avg+ 3*std, 0, hgt/3, lw=4, color='crimson')\n",
    "plt.text(avg+3*std, hgt/3, '3\\u03C3', size=20, color='crimson')\n",
    "\n",
    "density = gaussian_kde(x)\n",
    "xrng = np.linspace(0,0.8,200)\n",
    "density.covariance_factor = lambda : .3\n",
    "density._compute_covariance()\n",
    "plt.plot(xrng, 260*density(xrng), color = 'grey', lw=3, ls='-')\n",
    "\n",
    "\n",
    "plt.xlim(0,0.75)\n",
    "plt.title('BHPIN', size =20, pad=10)\n",
    "plt.xlabel('per residue C\\u03B1 RMSD (\\u212B)', size=20)\n",
    "plt.xticks(size=18)\n",
    "plt.ylabel('number of Comparisons', size = 20)\n",
    "plt.yticks(size=18)\n",
    "plt.savefig('BHPIN_RMSD_hist.svg', format='svg')\n",
    "plt.show()"
   ]
  },
  {
   "cell_type": "code",
   "execution_count": 191,
   "id": "a55d376b",
   "metadata": {},
   "outputs": [
    {
     "data": {
      "text/plain": [
       "['2MMT', '2MMW', '2MW3']"
      ]
     },
     "execution_count": 191,
     "metadata": {},
     "output_type": "execute_result"
    }
   ],
   "source": [
    "[i for i,val in AF_BHPIN_avg_rmsds.items() if val > avg+std and  val < avg+2*std]"
   ]
  },
  {
   "cell_type": "code",
   "execution_count": 192,
   "id": "15de22e7",
   "metadata": {},
   "outputs": [
    {
     "data": {
      "text/plain": [
       "['2JN5']"
      ]
     },
     "execution_count": 192,
     "metadata": {},
     "output_type": "execute_result"
    }
   ],
   "source": [
    "[i for i,val in AF_BHPIN_avg_rmsds.items() if val > avg+2*std and  val < avg+3*std]"
   ]
  },
  {
   "cell_type": "code",
   "execution_count": 195,
   "id": "60676e7a",
   "metadata": {},
   "outputs": [
    {
     "data": {
      "text/plain": [
       "0.6611875"
      ]
     },
     "execution_count": 195,
     "metadata": {},
     "output_type": "execute_result"
    }
   ],
   "source": [
    "AF_BHPIN_avg_rmsds['2N68']"
   ]
  },
  {
   "cell_type": "code",
   "execution_count": 146,
   "id": "411c3941",
   "metadata": {},
   "outputs": [
    {
     "name": "stdout",
     "output_type": "stream",
     "text": [
      "AF model: 3\n",
      "NMR model: [8]\n"
     ]
    }
   ],
   "source": [
    "find_models(15,AF_BHPIN_rmsds['2MMT'] )"
   ]
  },
  {
   "cell_type": "code",
   "execution_count": 193,
   "id": "01e0da43",
   "metadata": {},
   "outputs": [
    {
     "data": {
      "text/plain": [
       "['2N68']"
      ]
     },
     "execution_count": 193,
     "metadata": {},
     "output_type": "execute_result"
    }
   ],
   "source": [
    "[i for i,val in AF_BHPIN_avg_rmsds.items() if val >= avg+3*std]"
   ]
  },
  {
   "cell_type": "markdown",
   "id": "aaeb9316",
   "metadata": {},
   "source": [
    "### MIX MP"
   ]
  },
  {
   "cell_type": "code",
   "execution_count": 199,
   "id": "618f2dcf",
   "metadata": {},
   "outputs": [],
   "source": [
    "PF_path = '../PEPFOLD3_Predictions/RMSD_calculations/MIX_MP_ss/'\n",
    "PF_files = os.listdir(PF_path)\n",
    "PF_MIX_MP_rmsds = {}\n",
    "for i in MIX_MP_ids:\n",
    "    PF_MIX_MP_rmsds[i] = []\n",
    "    \n",
    "for j in MIX_MP_ids:\n",
    "    rmsds = []\n",
    "    with open(PF_path+j+'_RMSD.txt', encoding = \"ISO-8859-1\") as f:\n",
    "        lines = f.readlines()\n",
    "        for i in lines:\n",
    "            rmsds.append(float(i.split(' ')[1]))\n",
    "    PF_MIX_MP_rmsds[j.split('_')[0]] = rmsds\n",
    "    \n",
    "PF_MIX_MP_avg_rmsds = {}\n",
    "for i in MIX_MP_ids:\n",
    "    PF_MIX_MP_avg_rmsds[i] = []\n",
    "for i,vals in PF_MIX_MP_rmsds.items():\n",
    "    PF_MIX_MP_avg_rmsds[i] = (np.amin(vals))"
   ]
  },
  {
   "cell_type": "code",
   "execution_count": 200,
   "id": "4e183871",
   "metadata": {},
   "outputs": [],
   "source": [
    "for i,val in PF_MIX_MP_avg_rmsds.items():\n",
    "    PF_MIX_MP_avg_rmsds[i] = val/peps.loc[i]['len']"
   ]
  },
  {
   "cell_type": "code",
   "execution_count": 201,
   "id": "7a15cd50",
   "metadata": {},
   "outputs": [],
   "source": [
    "AF_path = '../AlphaFold_Predictions/RMSD_Calculations/MIX_MP_ss/'\n",
    "AF_files = os.listdir(AF_path)\n",
    "AF_MIX_MP_rmsds = {}\n",
    "for i in MIX_MP_ids:\n",
    "    AF_MIX_MP_rmsds[i] = []\n",
    "    \n",
    "for j in AF_files:\n",
    "    rmsds = []\n",
    "    with open(AF_path+j, encoding = \"ISO-8859-1\") as f:\n",
    "        lines = f.readlines()\n",
    "        for i in lines:\n",
    "            rmsds.append(float(i.split(' ')[1]))\n",
    "    AF_MIX_MP_rmsds[j.split('_')[0]] = rmsds\n",
    "    \n",
    "AF_MIX_MP_avg_rmsds = {}\n",
    "for i in MIX_MP_ids:\n",
    "    AF_MIX_MP_avg_rmsds[i] = []\n",
    "for i,vals in AF_MIX_MP_rmsds.items():\n",
    "    AF_MIX_MP_avg_rmsds[i] = (np.amin(vals))"
   ]
  },
  {
   "cell_type": "code",
   "execution_count": 202,
   "id": "37edfb12",
   "metadata": {},
   "outputs": [],
   "source": [
    "for i,val in AF_MIX_MP_avg_rmsds.items():\n",
    "    AF_MIX_MP_avg_rmsds[i] = val/peps.loc[i]['len']"
   ]
  },
  {
   "cell_type": "code",
   "execution_count": 203,
   "id": "dd9a5e3a",
   "metadata": {},
   "outputs": [],
   "source": [
    "OF_path = '../OmegaFold_Predictions/RMSD_Calculations/MIX_MP_ss/'\n",
    "OF_files = os.listdir(OF_path)\n",
    "OF_MIX_MP_rmsds = {}\n",
    "for i in MIX_MP_ids:\n",
    "    OF_MIX_MP_rmsds[i] = []\n",
    "    \n",
    "for j in MIX_MP_ids:\n",
    "    rmsds = []\n",
    "    with open(OF_path+j+'_RMSD.txt', encoding = \"ISO-8859-1\") as f:\n",
    "        lines = f.readlines()\n",
    "        for i in lines:\n",
    "            rmsds.append(float(i.split(' ')[1]))\n",
    "    OF_MIX_MP_rmsds[j.split('_')[0]] = rmsds\n",
    "    \n",
    "OF_MIX_MP_avg_rmsds = {}\n",
    "for i in MIX_MP_ids:\n",
    "    OF_MIX_MP_avg_rmsds[i] = []\n",
    "for i,vals in OF_MIX_MP_rmsds.items():\n",
    "    OF_MIX_MP_avg_rmsds[i] = (np.amin(vals))"
   ]
  },
  {
   "cell_type": "code",
   "execution_count": 204,
   "id": "491daa50",
   "metadata": {},
   "outputs": [],
   "source": [
    "for i,val in OF_MIX_MP_avg_rmsds.items():\n",
    "    OF_MIX_MP_avg_rmsds[i] = val/peps.loc[i]['len']"
   ]
  },
  {
   "cell_type": "code",
   "execution_count": 205,
   "id": "d3c2dff1",
   "metadata": {},
   "outputs": [],
   "source": [
    "RF_path = '../RoseTTAFold_Predictions/RMSD_Calculations/MIX_MP_ss/'\n",
    "RF_files = os.listdir(RF_path)\n",
    "RF_MIX_MP_rmsds = {}\n",
    "for i in MIX_MP_ids:\n",
    "    RF_MIX_MP_rmsds[i] = []\n",
    "    \n",
    "for j in MIX_MP_ids:\n",
    "    rmsds = []\n",
    "    with open(OF_path+j+'_RMSD.txt', encoding = \"ISO-8859-1\") as f:\n",
    "        lines = f.readlines()\n",
    "        for i in lines:\n",
    "            rmsds.append(float(i.split(' ')[1]))\n",
    "    RF_MIX_MP_rmsds[j.split('_')[0]] = rmsds\n",
    "    \n",
    "RF_MIX_MP_avg_rmsds = {}\n",
    "for i in MIX_MP_ids:\n",
    "    RF_MIX_MP_avg_rmsds[i] = []\n",
    "for i,vals in RF_MIX_MP_rmsds.items():\n",
    "    RF_MIX_MP_avg_rmsds[i] = (np.amin(vals))"
   ]
  },
  {
   "cell_type": "code",
   "execution_count": 206,
   "id": "ef4ed185",
   "metadata": {},
   "outputs": [],
   "source": [
    "for i,val in RF_MIX_MP_avg_rmsds.items():\n",
    "    RF_MIX_MP_avg_rmsds[i] = val/peps.loc[i]['len']"
   ]
  },
  {
   "cell_type": "code",
   "execution_count": 207,
   "id": "b23b3fc6",
   "metadata": {},
   "outputs": [],
   "source": [
    "AT_path = '../APPTest_Predictions/RMSD_Calculations/MIX_MP_ss/'\n",
    "AT_files = os.listdir(AT_path)\n",
    "AT_MIX_MP_rmsds = {}\n",
    "for i in MIX_MP_ids:\n",
    "    AT_MIX_MP_rmsds[i] = []\n",
    "    \n",
    "for j in MIX_MP_ids:\n",
    "    rmsds = []\n",
    "    with open(AT_path+j+'_RMSD.txt', encoding = \"ISO-8859-1\") as f:\n",
    "        lines = f.readlines()\n",
    "        for i in lines:\n",
    "            rmsds.append(float(i.split(' ')[1]))\n",
    "    AT_MIX_MP_rmsds[j.split('_')[0]] = rmsds\n",
    "    \n",
    "AT_MIX_MP_avg_rmsds = {}\n",
    "for i in MIX_MP_ids:\n",
    "    AT_MIX_MP_avg_rmsds[i] = []\n",
    "for i,vals in AT_MIX_MP_rmsds.items():\n",
    "    AT_MIX_MP_avg_rmsds[i] = (np.amin(vals))"
   ]
  },
  {
   "cell_type": "code",
   "execution_count": 208,
   "id": "39cab679",
   "metadata": {},
   "outputs": [],
   "source": [
    "for i,val in AT_MIX_MP_avg_rmsds.items():\n",
    "    AT_MIX_MP_avg_rmsds[i] = val/peps.loc[i]['len']"
   ]
  },
  {
   "cell_type": "code",
   "execution_count": 209,
   "id": "839d326c",
   "metadata": {},
   "outputs": [],
   "source": [
    "## get missing models\n",
    "#MIX_MP_missing = []\n",
    "#for i,val in AF_MIX_MP_avg_rmsds.items():\n",
    " #   if np.isnan(val):\n",
    "  #      MIX_MP_missing.append(i)"
   ]
  },
  {
   "cell_type": "code",
   "execution_count": 210,
   "id": "22a1b954",
   "metadata": {},
   "outputs": [],
   "source": [
    "x0_MIX_MP = np.nan_to_num([val for i,val in AF_MIX_MP_avg_rmsds.items()])\n",
    "x1_MIX_MP = np.nan_to_num([val for i,val in PF_MIX_MP_avg_rmsds.items()])\n",
    "x2_MIX_MP = np.nan_to_num([val for i,val in OF_MIX_MP_avg_rmsds.items()])\n",
    "x3_MIX_MP = np.nan_to_num([val for i,val in RF_MIX_MP_avg_rmsds.items()])\n",
    "x4_MIX_MP = np.nan_to_num([val for i,val in AT_MIX_MP_avg_rmsds.items()])"
   ]
  },
  {
   "cell_type": "code",
   "execution_count": 211,
   "id": "ba90c6cc",
   "metadata": {},
   "outputs": [
    {
     "data": {
      "image/png": "[encoded data removed]",
      "text/plain": [
       "<Figure size 576x360 with 1 Axes>"
      ]
     },
     "metadata": {
      "needs_background": "light"
     },
     "output_type": "display_data"
    }
   ],
   "source": [
    "plt.figure(figsize=(8,5))\n",
    "\n",
    "vp_AF = plt.violinplot(x0_MIX_MP , [1], showmeans=1)\n",
    "vp_PF = plt.violinplot(x1_MIX_MP , [2], showmeans=1)\n",
    "vp_OF = plt.violinplot(x2_MIX_MP , [3], showmeans=1)\n",
    "vp_RF = plt.violinplot(x3_MIX_MP , [4], showmeans=1)\n",
    "vp_AT = plt.violinplot(x4_MIX_MP , [5], showmeans=1)\n",
    "\n",
    "plt.setp(vp_AF['cmaxes'], color='k', linewidth =3)\n",
    "plt.setp(vp_AF['cmeans'], color='k', linewidth =3)\n",
    "plt.setp(vp_AF['cmins'], color='k', linewidth =3)\n",
    "plt.setp(vp_AF['cbars'], color='k', linewidth =3)\n",
    "plt.setp(vp_AF['bodies'], facecolor ='#db5f57', edgecolor='k', alpha=0.6, linewidth =3)\n",
    "\n",
    "plt.setp(vp_PF['cmaxes'], color='k', linewidth =3)\n",
    "plt.setp(vp_PF['cmeans'], color='k', linewidth =3)\n",
    "plt.setp(vp_PF['cmins'], color='k', linewidth =3)\n",
    "plt.setp(vp_PF['cbars'], color='k', linewidth =3)\n",
    "plt.setp(vp_PF['bodies'], facecolor ='#dbc257', edgecolor='k', alpha=0.6, linewidth =3)\n",
    "\n",
    "plt.setp(vp_OF['cmaxes'], color='k', linewidth =3)\n",
    "plt.setp(vp_OF['cmeans'], color='k', linewidth =3)\n",
    "plt.setp(vp_OF['cmins'], color='k', linewidth =3)\n",
    "plt.setp(vp_OF['cbars'], color='k', linewidth =3)\n",
    "plt.setp(vp_OF['bodies'], facecolor ='#57db80', edgecolor='k', alpha=0.6, linewidth =3)\n",
    "\n",
    "plt.setp(vp_RF['cmaxes'], color='k', linewidth =3)\n",
    "plt.setp(vp_RF['cmeans'], color='k', linewidth =3)\n",
    "plt.setp(vp_RF['cmins'], color='k', linewidth =3)\n",
    "plt.setp(vp_RF['cbars'], color='k', linewidth =3)\n",
    "plt.setp(vp_RF['bodies'], facecolor ='#57d3db', edgecolor='k', alpha=0.6, linewidth =3)\n",
    "\n",
    "plt.setp(vp_AT['cmaxes'], color='k', linewidth =3)\n",
    "plt.setp(vp_AT['cmeans'], color='k', linewidth =3)\n",
    "plt.setp(vp_AT['cmins'], color='k', linewidth =3)\n",
    "plt.setp(vp_AT['cbars'], color='k', linewidth =3)\n",
    "plt.setp(vp_AT['bodies'], facecolor ='#5770db', edgecolor='k', alpha=0.6, linewidth =3)\n",
    "\n",
    "plt.ylim(0,.85)\n",
    "plt.title('MIX MP', size = 20, pad =10)\n",
    "plt.xticks(ticks = [1,2,3,4,5],labels=['AF2', 'PF', 'OF', 'RF', 'AT'], size=20)\n",
    "plt.ylabel('per residue C\\u03B1 RMSD', size = 20)\n",
    "plt.yticks(size=20)\n",
    "#plt.savefig('MIX_MP_RMSD_violin.svg', format='svg')\n",
    "plt.show()"
   ]
  },
  {
   "cell_type": "code",
   "execution_count": 212,
   "id": "efa79aba",
   "metadata": {},
   "outputs": [
    {
     "name": "stdout",
     "output_type": "stream",
     "text": [
      "PF: 0.776134348889971\n",
      "OF: 0.4987340210386907\n",
      "RF: 0.4987340210386907\n",
      "AT: 0.009233595853702703\n"
     ]
    }
   ],
   "source": [
    "print('PF: ' + str(stats.ttest_rel(x0_MIX_MP, x1_MIX_MP)[1]))\n",
    "print('OF: ' + str(stats.ttest_rel(x0_MIX_MP, x2_MIX_MP)[1]))\n",
    "print('RF: ' + str(stats.ttest_rel(x0_MIX_MP, x3_MIX_MP)[1]))\n",
    "print('AT: ' + str(stats.ttest_rel(x0_MIX_MP, x4_MIX_MP)[1]))"
   ]
  },
  {
   "cell_type": "code",
   "execution_count": 213,
   "id": "0d497780",
   "metadata": {},
   "outputs": [
    {
     "name": "stdout",
     "output_type": "stream",
     "text": [
      "AF model: 3\n",
      "NMR model: [0]\n"
     ]
    }
   ],
   "source": [
    "find_models(1,AF_MIX_MP_rmsds['1SOL'])"
   ]
  },
  {
   "cell_type": "code",
   "execution_count": 214,
   "id": "8149850b",
   "metadata": {},
   "outputs": [],
   "source": [
    "AF_MIX_MP_all_rmsds = []\n",
    "for i, val in AF_MIX_MP_rmsds.items():\n",
    "    x = val/peps.loc[i]['len']\n",
    "    AF_MIX_MP_all_rmsds.append(x)"
   ]
  },
  {
   "cell_type": "code",
   "execution_count": 215,
   "id": "b3f55be3",
   "metadata": {},
   "outputs": [
    {
     "data": {
      "image/png": "[encoded data removed]",
      "text/plain": [
       "<Figure size 576x360 with 1 Axes>"
      ]
     },
     "metadata": {
      "needs_background": "light"
     },
     "output_type": "display_data"
    }
   ],
   "source": [
    "plt.figure(figsize=(8,5))\n",
    "x = np.concatenate(AF_MIX_MP_all_rmsds)\n",
    "plt.hist(x, bins=20,color ='lightgrey', alpha=1)#, edgecolor='k')\n",
    "avg = np.mean(x)\n",
    "std = np.std(x)\n",
    "hgt = 75\n",
    "plt.vlines(avg, 0, hgt*1.5, lw=4, color='k')\n",
    "plt.text(avg, hgt*1.5, 'mean = ' + str(avg)[:5], size=15)\n",
    "med = np.median(x)\n",
    "plt.vlines(med, 0, hgt*1.5, lw=4, color='k')\n",
    "plt.text(med, hgt*1.5, 'med = ' + str(med)[:5], size=15)\n",
    "\n",
    "plt.vlines(avg+ std, 0, hgt, lw=4, color='dodgerblue')\n",
    "plt.text(avg+std, hgt, '\\u03C3', size=20, color='dodgerblue')\n",
    "plt.vlines(avg+ 2*std, 0, hgt/2, lw=4, color='goldenrod')\n",
    "plt.text(avg+2*std, hgt/2, '2\\u03C3', size=20, color='goldenrod')\n",
    "plt.vlines(avg+ 3*std, 0, hgt/3, lw=4, color='crimson')\n",
    "plt.text(avg+3*std, hgt/3, '3\\u03C3', size=20, color='crimson')\n",
    "\n",
    "\n",
    "\n",
    "density = gaussian_kde(x)\n",
    "xrng = np.linspace(0,0.8,200)\n",
    "density.covariance_factor = lambda : .3\n",
    "density._compute_covariance()\n",
    "plt.plot(xrng, 40*density(xrng), color = 'grey', lw=3, ls='-')\n",
    "\n",
    "\n",
    "plt.xlim(0,0.75)\n",
    "plt.title('MIX MP', size =20, pad=10)\n",
    "plt.xlabel('per residue C\\u03B1 RMSD (\\u212B)', size=20)\n",
    "plt.xticks(size=18)\n",
    "plt.ylabel('number of Comparisons', size = 20)\n",
    "plt.yticks(size=18)\n",
    "#plt.savefig('MIX_MP_RMSD_hist.svg', format='svg')\n",
    "plt.show()\n"
   ]
  },
  {
   "cell_type": "code",
   "execution_count": 35,
   "id": "fd7d3d14",
   "metadata": {},
   "outputs": [
    {
     "data": {
      "text/plain": [
       "['5T7Q']"
      ]
     },
     "execution_count": 35,
     "metadata": {},
     "output_type": "execute_result"
    }
   ],
   "source": [
    "[i for i,val in AF_MIX_MP_avg_rmsds.items() if val > avg+std and  val < avg+2*std]"
   ]
  },
  {
   "cell_type": "code",
   "execution_count": 38,
   "id": "89989e8b",
   "metadata": {},
   "outputs": [
    {
     "data": {
      "text/plain": [
       "{'1CW6': 0.12161137931034484,\n",
       " '1JRJ': 0.020352679999999998,\n",
       " '1MEQ': 0.13144954545454546,\n",
       " '1SOL': 0.27215,\n",
       " '2L3I': 0.1718559090909091,\n",
       " '2LE7': 0.25169,\n",
       " '2LKE': 0.14979391304347828,\n",
       " '2M1J': 0.19052423076923078,\n",
       " '2NAT': 0.17291370370370368,\n",
       " '2NB8': 0.24545615384615382,\n",
       " '2NCV': 0.283554,\n",
       " '5L82': 0.15654333333333334,\n",
       " '5T7Q': 0.3018325,\n",
       " '6FS4': 0.14572538461538462}"
      ]
     },
     "execution_count": 38,
     "metadata": {},
     "output_type": "execute_result"
    }
   ],
   "source": [
    "AF_MIX_MP_avg_rmsds['5T7Q']"
   ]
  },
  {
   "cell_type": "code",
   "execution_count": 41,
   "id": "a4578f83",
   "metadata": {},
   "outputs": [
    {
     "name": "stdout",
     "output_type": "stream",
     "text": [
      "AF model: 4\n",
      "NMR model: [19]\n"
     ]
    }
   ],
   "source": [
    "find_models(20, AF_MIX_MP_rmsds['2NCV'])"
   ]
  },
  {
   "cell_type": "code",
   "execution_count": 36,
   "id": "1003cadb",
   "metadata": {},
   "outputs": [
    {
     "data": {
      "text/plain": [
       "['1SOL', '2LE7', '2NB8', '2NCV', '5T7Q']"
      ]
     },
     "execution_count": 36,
     "metadata": {},
     "output_type": "execute_result"
    }
   ],
   "source": [
    "[i for i,val in AF_MIX_MP_avg_rmsds.items() if val > avg]"
   ]
  },
  {
   "cell_type": "code",
   "execution_count": 33,
   "id": "78ac001b",
   "metadata": {},
   "outputs": [
    {
     "data": {
      "text/plain": [
       "[]"
      ]
     },
     "execution_count": 33,
     "metadata": {},
     "output_type": "execute_result"
    }
   ],
   "source": [
    "[i for i,val in AF_MIX_MP_avg_rmsds.items() if val > avg+3*std]"
   ]
  },
  {
   "cell_type": "code",
   "execution_count": 37,
   "id": "c9298cab",
   "metadata": {},
   "outputs": [
    {
     "data": {
      "text/plain": [
       "'5T7Q'"
      ]
     },
     "execution_count": 37,
     "metadata": {},
     "output_type": "execute_result"
    }
   ],
   "source": [
    "max(AF_MIX_MP_avg_rmsds, key=AF_MIX_MP_avg_rmsds.get)"
   ]
  },
  {
   "cell_type": "markdown",
   "id": "e7574821",
   "metadata": {},
   "source": [
    "### MIX SL"
   ]
  },
  {
   "cell_type": "code",
   "execution_count": 216,
   "id": "9e0da9a5",
   "metadata": {},
   "outputs": [],
   "source": [
    "PF_path = '../PEPFOLD3_Predictions/RMSD_calculations/MIX_SL_ss/'\n",
    "PF_files = os.listdir(PF_path)\n",
    "PF_MIX_SL_rmsds = {}\n",
    "for i in MIX_SL_ids:\n",
    "    PF_MIX_SL_rmsds[i] = []\n",
    "    \n",
    "for j in MIX_SL_ids:\n",
    "    rmsds = []\n",
    "    with open(PF_path+j+'_RMSD.txt', encoding = \"ISO-8859-1\") as f:\n",
    "        lines = f.readlines()\n",
    "        for i in lines:\n",
    "            rmsds.append(float(i.split(' ')[1]))\n",
    "    PF_MIX_SL_rmsds[j.split('_')[0]] = rmsds\n",
    "    \n",
    "PF_MIX_SL_avg_rmsds = {}\n",
    "for i in MIX_SL_ids:\n",
    "    PF_MIX_SL_avg_rmsds[i] = []\n",
    "for i,vals in PF_MIX_SL_rmsds.items():\n",
    "    PF_MIX_SL_avg_rmsds[i] = (np.amin(vals))"
   ]
  },
  {
   "cell_type": "code",
   "execution_count": 217,
   "id": "cdd9b8a7",
   "metadata": {},
   "outputs": [],
   "source": [
    "for i,val in PF_MIX_SL_avg_rmsds.items():\n",
    "    PF_MIX_SL_avg_rmsds[i] = val/peps.loc[i]['len']"
   ]
  },
  {
   "cell_type": "code",
   "execution_count": 218,
   "id": "b927ea39",
   "metadata": {},
   "outputs": [],
   "source": [
    "AF_path = '../AlphaFold_Predictions/RMSD_Calculations/MIX_SL_ss/'\n",
    "AF_files = os.listdir(AF_path)\n",
    "AF_MIX_SL_rmsds = {}\n",
    "for i in MIX_SL_ids:\n",
    "    AF_MIX_SL_rmsds[i] = []\n",
    "    \n",
    "for j in AF_files:\n",
    "    rmsds = []\n",
    "    with open(AF_path+j, encoding = \"ISO-8859-1\") as f:\n",
    "        lines = f.readlines()\n",
    "        for i in lines:\n",
    "            rmsds.append(float(i.split(' ')[1]))\n",
    "    AF_MIX_SL_rmsds[j.split('_')[0]] = rmsds\n",
    "    \n",
    "AF_MIX_SL_avg_rmsds = {}\n",
    "for i in MIX_SL_ids:\n",
    "    AF_MIX_SL_avg_rmsds[i] = []\n",
    "for i,vals in AF_MIX_SL_rmsds.items():\n",
    "    AF_MIX_SL_avg_rmsds[i] = (np.amin(vals))"
   ]
  },
  {
   "cell_type": "code",
   "execution_count": 219,
   "id": "e52ecc1d",
   "metadata": {},
   "outputs": [],
   "source": [
    "for i,val in AF_MIX_SL_avg_rmsds.items():\n",
    "    AF_MIX_SL_avg_rmsds[i] = val/peps.loc[i]['len']"
   ]
  },
  {
   "cell_type": "code",
   "execution_count": 220,
   "id": "da155af0",
   "metadata": {},
   "outputs": [],
   "source": [
    "OF_path = '../OmegaFold_Predictions/RMSD_Calculations/MIX_SL_ss/'\n",
    "OF_files = os.listdir(OF_path)\n",
    "OF_MIX_SL_rmsds = {}\n",
    "for i in MIX_SL_ids:\n",
    "    OF_MIX_SL_rmsds[i] = []\n",
    "    \n",
    "for j in MIX_SL_ids:\n",
    "    rmsds = []\n",
    "    with open(OF_path+j+'_RMSD.txt', encoding = \"ISO-8859-1\") as f:\n",
    "        lines = f.readlines()\n",
    "        for i in lines:\n",
    "            rmsds.append(float(i.split(' ')[1]))\n",
    "    OF_MIX_SL_rmsds[j.split('_')[0]] = rmsds\n",
    "    \n",
    "OF_MIX_SL_avg_rmsds = {}\n",
    "for i in MIX_SL_ids:\n",
    "    OF_MIX_SL_avg_rmsds[i] = []\n",
    "for i,vals in OF_MIX_SL_rmsds.items():\n",
    "    OF_MIX_SL_avg_rmsds[i] = (np.amin(vals))"
   ]
  },
  {
   "cell_type": "code",
   "execution_count": 221,
   "id": "4ae746da",
   "metadata": {},
   "outputs": [],
   "source": [
    "for i,val in OF_MIX_SL_avg_rmsds.items():\n",
    "    OF_MIX_SL_avg_rmsds[i] = val/peps.loc[i]['len']"
   ]
  },
  {
   "cell_type": "code",
   "execution_count": 222,
   "id": "dee5941b",
   "metadata": {},
   "outputs": [],
   "source": [
    "RF_path = '../RoseTTAFold_Predictions/RMSD_Calculations/MIX_SL_ss/'\n",
    "RF_files = os.listdir(RF_path)\n",
    "RF_MIX_SL_rmsds = {}\n",
    "for i in MIX_SL_ids:\n",
    "    RF_MIX_SL_rmsds[i] = []\n",
    "    \n",
    "for j in MIX_SL_ids:\n",
    "    rmsds = []\n",
    "    with open(RF_path+j+'_RMSD.txt', encoding = \"ISO-8859-1\") as f:\n",
    "        lines = f.readlines()\n",
    "        for i in lines:\n",
    "            rmsds.append(float(i.split(' ')[1]))\n",
    "    RF_MIX_SL_rmsds[j.split('_')[0]] = rmsds\n",
    "    \n",
    "RF_MIX_SL_avg_rmsds = {}\n",
    "for i in MIX_SL_ids:\n",
    "    RF_MIX_SL_avg_rmsds[i] = []\n",
    "for i,vals in RF_MIX_SL_rmsds.items():\n",
    "    RF_MIX_SL_avg_rmsds[i] = (np.amin(vals))"
   ]
  },
  {
   "cell_type": "code",
   "execution_count": 223,
   "id": "713a4dd3",
   "metadata": {},
   "outputs": [],
   "source": [
    "for i,val in RF_MIX_SL_avg_rmsds.items():\n",
    "    RF_MIX_SL_avg_rmsds[i] = val/peps.loc[i]['len']"
   ]
  },
  {
   "cell_type": "code",
   "execution_count": 224,
   "id": "240fe486",
   "metadata": {},
   "outputs": [],
   "source": [
    "AT_path = '../APPTest_Predictions/RMSD_Calculations/MIX_SL_ss/'\n",
    "AT_files = os.listdir(AT_path)\n",
    "AT_MIX_SL_rmsds = {}\n",
    "for i in MIX_SL_ids:\n",
    "    AT_MIX_SL_rmsds[i] = []\n",
    "    \n",
    "for j in MIX_SL_ids:\n",
    "    rmsds = []\n",
    "    with open(AT_path+j+'_RMSD.txt', encoding = \"ISO-8859-1\") as f:\n",
    "        lines = f.readlines()\n",
    "        for i in lines:\n",
    "            rmsds.append(float(i.split(' ')[1]))\n",
    "    AT_MIX_SL_rmsds[j.split('_')[0]] = rmsds\n",
    "    \n",
    "AT_MIX_SL_avg_rmsds = {}\n",
    "for i in MIX_SL_ids:\n",
    "    AT_MIX_SL_avg_rmsds[i] = []\n",
    "for i,vals in AT_MIX_SL_rmsds.items():\n",
    "    AT_MIX_SL_avg_rmsds[i] = (np.amin(vals))"
   ]
  },
  {
   "cell_type": "code",
   "execution_count": 225,
   "id": "a3b9b15e",
   "metadata": {},
   "outputs": [],
   "source": [
    "for i,val in AT_MIX_SL_avg_rmsds.items():\n",
    "    AT_MIX_SL_avg_rmsds[i] = val/peps.loc[i]['len']"
   ]
  },
  {
   "cell_type": "code",
   "execution_count": 226,
   "id": "d143195c",
   "metadata": {},
   "outputs": [],
   "source": [
    "## get missing models\n",
    "#MIX_SL_missing = []\n",
    "#for i,val in AF_MIX_SL_avg_rmsds.items():\n",
    " #   if np.isnan(val):\n",
    "  #      MIX_SL_missing.append(i)"
   ]
  },
  {
   "cell_type": "code",
   "execution_count": 227,
   "id": "5aa891e6",
   "metadata": {},
   "outputs": [],
   "source": [
    "x0_MIX_SL = np.nan_to_num([val for i,val in AF_MIX_SL_avg_rmsds.items()])\n",
    "x1_MIX_SL = np.nan_to_num([val for i,val in PF_MIX_SL_avg_rmsds.items()])\n",
    "x2_MIX_SL = np.nan_to_num([val for i,val in OF_MIX_SL_avg_rmsds.items()])\n",
    "x3_MIX_SL = np.nan_to_num([val for i,val in RF_MIX_SL_avg_rmsds.items()])\n",
    "x4_MIX_SL = np.nan_to_num([val for i,val in AT_MIX_SL_avg_rmsds.items()])"
   ]
  },
  {
   "cell_type": "code",
   "execution_count": 228,
   "id": "f1a83c21",
   "metadata": {},
   "outputs": [
    {
     "data": {
      "image/png": "[encoded data removed]",
      "text/plain": [
       "<Figure size 576x360 with 1 Axes>"
      ]
     },
     "metadata": {
      "needs_background": "light"
     },
     "output_type": "display_data"
    }
   ],
   "source": [
    "plt.figure(figsize=(8,5))\n",
    "\n",
    "vp_AF = plt.violinplot(x0_MIX_SL , [1], showmeans=1)\n",
    "vp_PF = plt.violinplot(x1_MIX_SL , [2], showmeans=1)\n",
    "vp_OF = plt.violinplot(x2_MIX_SL , [3], showmeans=1)\n",
    "vp_RF = plt.violinplot(x3_MIX_SL , [4], showmeans=1)\n",
    "vp_AT = plt.violinplot(x4_MIX_SL , [5], showmeans=1)\n",
    "\n",
    "plt.setp(vp_AF['cmaxes'], color='k', linewidth =3)\n",
    "plt.setp(vp_AF['cmeans'], color='k', linewidth =3)\n",
    "plt.setp(vp_AF['cmins'], color='k', linewidth =3)\n",
    "plt.setp(vp_AF['cbars'], color='k', linewidth =3)\n",
    "plt.setp(vp_AF['bodies'], facecolor ='#db5f57', edgecolor='k', alpha=0.6, linewidth =3)\n",
    "\n",
    "plt.setp(vp_PF['cmaxes'], color='k', linewidth =3)\n",
    "plt.setp(vp_PF['cmeans'], color='k', linewidth =3)\n",
    "plt.setp(vp_PF['cmins'], color='k', linewidth =3)\n",
    "plt.setp(vp_PF['cbars'], color='k', linewidth =3)\n",
    "plt.setp(vp_PF['bodies'], facecolor ='#dbc257', edgecolor='k', alpha=0.6, linewidth =3)\n",
    "\n",
    "plt.setp(vp_OF['cmaxes'], color='k', linewidth =3)\n",
    "plt.setp(vp_OF['cmeans'], color='k', linewidth =3)\n",
    "plt.setp(vp_OF['cmins'], color='k', linewidth =3)\n",
    "plt.setp(vp_OF['cbars'], color='k', linewidth =3)\n",
    "plt.setp(vp_OF['bodies'], facecolor ='#57db80', edgecolor='k', alpha=0.6, linewidth =3)\n",
    "\n",
    "plt.setp(vp_RF['cmaxes'], color='k', linewidth =3)\n",
    "plt.setp(vp_RF['cmeans'], color='k', linewidth =3)\n",
    "plt.setp(vp_RF['cmins'], color='k', linewidth =3)\n",
    "plt.setp(vp_RF['cbars'], color='k', linewidth =3)\n",
    "plt.setp(vp_RF['bodies'], facecolor ='#57d3db', edgecolor='k', alpha=0.6, linewidth =3)\n",
    "\n",
    "plt.setp(vp_AT['cmaxes'], color='k', linewidth =3)\n",
    "plt.setp(vp_AT['cmeans'], color='k', linewidth =3)\n",
    "plt.setp(vp_AT['cmins'], color='k', linewidth =3)\n",
    "plt.setp(vp_AT['cbars'], color='k', linewidth =3)\n",
    "plt.setp(vp_AT['bodies'], facecolor ='#5770db', edgecolor='k', alpha=0.6, linewidth =3)\n",
    "plt.ylim(0,.85)\n",
    "plt.xticks(ticks = [1,2,3,4,5],labels=['AF2', 'PF', 'OF', 'RF', 'AT'], size=20)\n",
    "plt.ylabel('per residue C\\u03B1 RMSD', size = 20)\n",
    "plt.yticks(size=20)\n",
    "plt.title('MIX SL', size =20, pad=10)\n",
    "plt.savefig('MIX_SL_RMSD_violin.svg', format='svg')\n",
    "plt.show()"
   ]
  },
  {
   "cell_type": "code",
   "execution_count": 229,
   "id": "c0dd387e",
   "metadata": {},
   "outputs": [
    {
     "name": "stdout",
     "output_type": "stream",
     "text": [
      "PF: 0.03790986820047\n",
      "OF: 0.11550936601504055\n",
      "RF: 0.003042358893376465\n",
      "AT: 1.1904700470064008e-07\n"
     ]
    }
   ],
   "source": [
    "print('PF: ' + str(stats.ttest_rel(x0_MIX_SL, x1_MIX_SL)[1]))\n",
    "print('OF: ' + str(stats.ttest_rel(x0_MIX_SL, x2_MIX_SL)[1]))\n",
    "print('RF: ' + str(stats.ttest_rel(x0_MIX_SL, x3_MIX_SL)[1]))\n",
    "print('AT: ' + str(stats.ttest_rel(x0_MIX_SL, x4_MIX_SL)[1]))"
   ]
  },
  {
   "cell_type": "code",
   "execution_count": 230,
   "id": "22b683ae",
   "metadata": {},
   "outputs": [
    {
     "data": {
      "text/plain": [
       "21"
      ]
     },
     "execution_count": 230,
     "metadata": {},
     "output_type": "execute_result"
    }
   ],
   "source": [
    "len(MIX_SL_ids)"
   ]
  },
  {
   "cell_type": "code",
   "execution_count": 231,
   "id": "e5af1fc7",
   "metadata": {},
   "outputs": [
    {
     "name": "stdout",
     "output_type": "stream",
     "text": [
      "AF model: 2\n",
      "NMR model: [8]\n"
     ]
    }
   ],
   "source": [
    "find_models(10, AF_MIX_SL_rmsds['2BBL'])"
   ]
  },
  {
   "cell_type": "code",
   "execution_count": 232,
   "id": "5689a817",
   "metadata": {},
   "outputs": [],
   "source": [
    "AF_MIX_SL_all_rmsds = []\n",
    "for i, val in AF_MIX_SL_rmsds.items():\n",
    "    x = val/peps.loc[i]['len']\n",
    "    AF_MIX_SL_all_rmsds.append(x)"
   ]
  },
  {
   "cell_type": "code",
   "execution_count": 233,
   "id": "82f78715",
   "metadata": {},
   "outputs": [
    {
     "data": {
      "image/png": "[encoded data removed]",
      "text/plain": [
       "<Figure size 576x360 with 1 Axes>"
      ]
     },
     "metadata": {
      "needs_background": "light"
     },
     "output_type": "display_data"
    }
   ],
   "source": [
    "plt.figure(figsize=(8,5))\n",
    "x = np.concatenate(AF_MIX_SL_all_rmsds)\n",
    "plt.hist(x, bins=50,color ='lightgrey', alpha=1)#, edgecolor='k')\n",
    "avg = np.mean(x)\n",
    "std = np.std(x)\n",
    "hgt = 200\n",
    "plt.vlines(avg, 0, hgt*1.5, lw=4, color='k')\n",
    "plt.text(avg, hgt*1.5, 'mean = ' + str(avg)[:5], size=15)\n",
    "med = np.median(x)\n",
    "plt.vlines(med, 0, hgt*1.5, lw=4, color='k')\n",
    "plt.text(med, hgt*1.5, 'med = ' + str(med)[:5], size=15)\n",
    "\n",
    "plt.vlines(avg+ std, 0, hgt, lw=4, color='dodgerblue')\n",
    "plt.text(avg+std, hgt, '\\u03C3', size=20, color='dodgerblue')\n",
    "plt.vlines(avg+ 2*std, 0, hgt/2, lw=4, color='goldenrod')\n",
    "plt.text(avg+2*std, hgt/2, '2\\u03C3', size=20, color='goldenrod')\n",
    "plt.vlines(avg+ 3*std, 0, hgt/3, lw=4, color='crimson')\n",
    "plt.text(avg+3*std, hgt/3, '3\\u03C3', size=20, color='crimson')\n",
    "\n",
    "\n",
    "\n",
    "density = gaussian_kde(x)\n",
    "xrng = np.linspace(0,0.8,200)\n",
    "density.covariance_factor = lambda : .4\n",
    "density._compute_covariance()\n",
    "plt.plot(xrng, 100*density(xrng), color = 'grey', lw=3, ls='-')\n",
    "\n",
    "\n",
    "plt.xlim(0,0.75)\n",
    "plt.title('MIX SL', size =20, pad=10)\n",
    "plt.xlabel('per residue C\\u03B1 RMSD (\\u212B)', size=20)\n",
    "plt.xticks(size=18)\n",
    "plt.ylabel('number of Comparisons', size = 20)\n",
    "plt.yticks(size=18)\n",
    "plt.savefig('MIX_SL_RMSD_hist.svg', format='svg')\n",
    "plt.show()\n"
   ]
  },
  {
   "cell_type": "code",
   "execution_count": 112,
   "id": "397044f9",
   "metadata": {},
   "outputs": [
    {
     "data": {
      "text/plain": [
       "['2L5I', '2LL2']"
      ]
     },
     "execution_count": 112,
     "metadata": {},
     "output_type": "execute_result"
    }
   ],
   "source": [
    "[i for i,val in AF_MIX_SL_avg_rmsds.items() if val > avg+std and  val < avg+2*std]"
   ]
  },
  {
   "cell_type": "code",
   "execution_count": 114,
   "id": "338ce91f",
   "metadata": {},
   "outputs": [
    {
     "data": {
      "text/plain": [
       "0.2641822222222222"
      ]
     },
     "execution_count": 114,
     "metadata": {},
     "output_type": "execute_result"
    }
   ],
   "source": [
    "AF_MIX_SL_avg_rmsds['2LL2']"
   ]
  },
  {
   "cell_type": "code",
   "execution_count": 115,
   "id": "8c640dcf",
   "metadata": {},
   "outputs": [
    {
     "data": {
      "text/plain": [
       "0.2797485"
      ]
     },
     "execution_count": 115,
     "metadata": {},
     "output_type": "execute_result"
    }
   ],
   "source": [
    "AF_MIX_SL_avg_rmsds['2L5I']"
   ]
  },
  {
   "cell_type": "code",
   "execution_count": 67,
   "id": "02465adb",
   "metadata": {},
   "outputs": [
    {
     "data": {
      "text/plain": [
       "['1S4T']"
      ]
     },
     "execution_count": 67,
     "metadata": {},
     "output_type": "execute_result"
    }
   ],
   "source": [
    "[i for i,val in AF_MIX_SL_avg_rmsds.items() if val >= avg+2*std and  val <= avg+3*std]"
   ]
  },
  {
   "cell_type": "code",
   "execution_count": 113,
   "id": "6d2462ec",
   "metadata": {},
   "outputs": [
    {
     "data": {
      "text/plain": [
       "0.2641822222222222"
      ]
     },
     "execution_count": 113,
     "metadata": {},
     "output_type": "execute_result"
    }
   ],
   "source": [
    "AF_MIX_SL_avg_rmsds['2LL2']"
   ]
  },
  {
   "cell_type": "code",
   "execution_count": 68,
   "id": "9db533cd",
   "metadata": {},
   "outputs": [
    {
     "data": {
      "text/plain": [
       "['2BBL']"
      ]
     },
     "execution_count": 68,
     "metadata": {},
     "output_type": "execute_result"
    }
   ],
   "source": [
    "[i for i,val in AF_MIX_SL_avg_rmsds.items() if val > avg+3*std]"
   ]
  },
  {
   "cell_type": "code",
   "execution_count": 116,
   "id": "3219dc3e",
   "metadata": {},
   "outputs": [
    {
     "name": "stdout",
     "output_type": "stream",
     "text": [
      "AF model: 4\n",
      "NMR model: [1]\n"
     ]
    }
   ],
   "source": [
    "find_models(8, AF_MIX_SL_rmsds['2L5I'])"
   ]
  },
  {
   "cell_type": "markdown",
   "id": "9baa342c",
   "metadata": {},
   "source": [
    "## DSRP"
   ]
  },
  {
   "cell_type": "code",
   "execution_count": 158,
   "id": "708207bc",
   "metadata": {},
   "outputs": [],
   "source": [
    "PF_path = '../PEPFOLD3_Predictions/RMSD_calculations/DSRP_ss/'\n",
    "PF_files = os.listdir(PF_path)\n",
    "PF_DSRP_rmsds = {}\n",
    "for i in DSRP_ids:\n",
    "    PF_DSRP_rmsds[i] = []\n",
    "    \n",
    "for j in DSRP_ids:\n",
    "    rmsds = []\n",
    "    with open(PF_path+j+'_RMSD.txt', encoding = \"ISO-8859-1\") as f:\n",
    "        lines = f.readlines()\n",
    "        for i in lines:\n",
    "            rmsds.append(float(i.split(' ')[1]))\n",
    "    PF_DSRP_rmsds[j.split('_')[0]] = rmsds\n",
    "    \n",
    "PF_DSRP_avg_rmsds = {}\n",
    "for i in DSRP_ids:\n",
    "    PF_DSRP_avg_rmsds[i] = []\n",
    "for i,vals in PF_DSRP_rmsds.items():\n",
    "    PF_DSRP_avg_rmsds[i] = (np.amin(vals))"
   ]
  },
  {
   "cell_type": "code",
   "execution_count": 159,
   "id": "c0037acd",
   "metadata": {},
   "outputs": [],
   "source": [
    "for i,val in PF_DSRP_avg_rmsds.items():\n",
    "    PF_DSRP_avg_rmsds[i] = val/peps.loc[i]['len']"
   ]
  },
  {
   "cell_type": "code",
   "execution_count": 176,
   "id": "9883cef5",
   "metadata": {},
   "outputs": [],
   "source": [
    "AF_path = '../AlphaFold_Predictions/RMSD_Calculations/DSRP_ss/'\n",
    "AF_files = os.listdir(AF_path)\n",
    "AF_DSRP_rmsds = {}\n",
    "for i in DSRP_ids:\n",
    "    AF_DSRP_rmsds[i] = []\n",
    "    \n",
    "for j in DSRP_ids:\n",
    "    rmsds = []\n",
    "    with open(AF_path+j+'_RMSD.txt', encoding = \"ISO-8859-1\") as f:\n",
    "        lines = f.readlines()\n",
    "        for i in lines:\n",
    "            rmsds.append(float(i.split(' ')[1]))\n",
    "    AF_DSRP_rmsds[j.split('_')[0]] = rmsds\n",
    "    \n",
    "AF_DSRP_avg_rmsds = {}\n",
    "for i in DSRP_ids:\n",
    "    AF_DSRP_avg_rmsds[i] = []\n",
    "for i,vals in AF_DSRP_rmsds.items():\n",
    "    AF_DSRP_avg_rmsds[i] = (np.amin(vals))"
   ]
  },
  {
   "cell_type": "code",
   "execution_count": 178,
   "id": "ca9cc7f3",
   "metadata": {},
   "outputs": [],
   "source": [
    "for i,val in AF_DSRP_avg_rmsds.items():\n",
    "    AF_DSRP_avg_rmsds[i] = val/peps.loc[i]['len']"
   ]
  },
  {
   "cell_type": "code",
   "execution_count": 162,
   "id": "b7d3607a",
   "metadata": {},
   "outputs": [],
   "source": [
    "OF_path = '../OmegaFold_Predictions/RMSD_Calculations/DSRP_ss/'\n",
    "OF_files = os.listdir(OF_path)\n",
    "OF_DSRP_rmsds = {}\n",
    "for i in DSRP_ids:\n",
    "    OF_DSRP_rmsds[i] = []\n",
    "    \n",
    "for j in DSRP_ids:\n",
    "    rmsds = []\n",
    "    with open(OF_path+j+'_RMSD.txt', encoding = \"ISO-8859-1\") as f:\n",
    "        lines = f.readlines()\n",
    "        for i in lines:\n",
    "            rmsds.append(float(i.split(' ')[1]))\n",
    "    OF_DSRP_rmsds[j.split('_')[0]] = rmsds\n",
    "    \n",
    "OF_DSRP_avg_rmsds = {}\n",
    "for i in DSRP_ids:\n",
    "    OF_DSRP_avg_rmsds[i] = []\n",
    "for i,vals in OF_DSRP_rmsds.items():\n",
    "    OF_DSRP_avg_rmsds[i] = (np.amin(vals))"
   ]
  },
  {
   "cell_type": "code",
   "execution_count": 163,
   "id": "a145aedd",
   "metadata": {},
   "outputs": [],
   "source": [
    "for i,val in OF_DSRP_avg_rmsds.items():\n",
    "    OF_DSRP_avg_rmsds[i] = val/peps.loc[i]['len']"
   ]
  },
  {
   "cell_type": "code",
   "execution_count": 164,
   "id": "c886aa2d",
   "metadata": {},
   "outputs": [],
   "source": [
    "RF_path = '../RoseTTAFold_Predictions/RMSD_Calculations/DSRP_ss/'\n",
    "RF_files = os.listdir(RF_path)\n",
    "RF_DSRP_rmsds = {}\n",
    "for i in DSRP_ids:\n",
    "    RF_DSRP_rmsds[i] = []\n",
    "    \n",
    "for j in DSRP_ids:\n",
    "    rmsds = []\n",
    "    with open(RF_path+j+'_RMSD.txt', encoding = \"ISO-8859-1\") as f:\n",
    "        lines = f.readlines()\n",
    "        for i in lines:\n",
    "            rmsds.append(float(i.split(' ')[1]))\n",
    "    RF_DSRP_rmsds[j.split('_')[0]] = rmsds\n",
    "    \n",
    "RF_DSRP_avg_rmsds = {}\n",
    "for i in DSRP_ids:\n",
    "    RF_DSRP_avg_rmsds[i] = []\n",
    "for i,vals in RF_DSRP_rmsds.items():\n",
    "    RF_DSRP_avg_rmsds[i] = (np.amin(vals))"
   ]
  },
  {
   "cell_type": "code",
   "execution_count": 165,
   "id": "acbf61a7",
   "metadata": {},
   "outputs": [],
   "source": [
    "for i,val in RF_DSRP_avg_rmsds.items():\n",
    "    RF_DSRP_avg_rmsds[i] = val/peps.loc[i]['len']"
   ]
  },
  {
   "cell_type": "code",
   "execution_count": 166,
   "id": "eb0f9ac4",
   "metadata": {},
   "outputs": [],
   "source": [
    "AT_path = '../APPTest_Predictions/RMSD_Calculations/DSRP_ss/'\n",
    "AT_files = os.listdir(AT_path)\n",
    "AT_DSRP_rmsds = {}\n",
    "for i in DSRP_ids:\n",
    "    AF_DSRP_rmsds[i] = []\n",
    "    \n",
    "for j in DSRP_ids:\n",
    "    rmsds = []\n",
    "    with open(AT_path+j+'_RMSD.txt', encoding = \"ISO-8859-1\") as f:\n",
    "        lines = f.readlines()\n",
    "        for i in lines:\n",
    "            rmsds.append(float(i.split(' ')[1]))\n",
    "    AT_DSRP_rmsds[j.split('_')[0]] = rmsds\n",
    "    \n",
    "AT_DSRP_avg_rmsds = {}\n",
    "for i in DSRP_ids:\n",
    "    AT_DSRP_avg_rmsds[i] = []\n",
    "for i,vals in AT_DSRP_rmsds.items():\n",
    "    AT_DSRP_avg_rmsds[i] = (np.amin(vals))"
   ]
  },
  {
   "cell_type": "code",
   "execution_count": 167,
   "id": "134d2d90",
   "metadata": {},
   "outputs": [],
   "source": [
    "for i,val in AT_DSRP_avg_rmsds.items():\n",
    "    AT_DSRP_avg_rmsds[i] = val/peps.loc[i]['len']"
   ]
  },
  {
   "cell_type": "code",
   "execution_count": 168,
   "id": "5ad2067d",
   "metadata": {},
   "outputs": [],
   "source": [
    "## get missing models\n",
    "#DSRP_missing = []\n",
    "#for i,val in AF_DSRP_avg_rmsds.items():\n",
    " #   if np.isnan(val):\n",
    "  #      DSRP_missing.append(i)"
   ]
  },
  {
   "cell_type": "code",
   "execution_count": 169,
   "id": "c8943456",
   "metadata": {},
   "outputs": [],
   "source": [
    "x0_DSRP = np.nan_to_num([val for i,val in AF_DSRP_avg_rmsds.items()])\n",
    "x1_DSRP = np.nan_to_num([val for i,val in PF_DSRP_avg_rmsds.items()])\n",
    "x2_DSRP = np.nan_to_num([val for i,val in OF_DSRP_avg_rmsds.items()])\n",
    "x3_DSRP = np.nan_to_num([val for i,val in RF_DSRP_avg_rmsds.items()])\n",
    "x4_DSRP = np.nan_to_num([val for i,val in AT_DSRP_avg_rmsds.items()])"
   ]
  },
  {
   "cell_type": "code",
   "execution_count": 170,
   "id": "9522a8a5",
   "metadata": {},
   "outputs": [
    {
     "data": {
      "image/png": "[encoded data removed]",
      "text/plain": [
       "<Figure size 576x360 with 1 Axes>"
      ]
     },
     "metadata": {
      "needs_background": "light"
     },
     "output_type": "display_data"
    }
   ],
   "source": [
    "plt.figure(figsize=(8,5))\n",
    "\n",
    "vp_AF = plt.violinplot(x0_DSRP , [1], showmeans=1)\n",
    "vp_PF = plt.violinplot(x1_DSRP , [2], showmeans=1)\n",
    "vp_OF = plt.violinplot(x2_DSRP , [3], showmeans=1)\n",
    "vp_RF = plt.violinplot(x3_DSRP , [4], showmeans=1)\n",
    "vp_AT = plt.violinplot(x4_DSRP , [5], showmeans=1)\n",
    "\n",
    "plt.setp(vp_AF['cmaxes'], color='k', linewidth =3)\n",
    "plt.setp(vp_AF['cmeans'], color='k', linewidth =3)\n",
    "plt.setp(vp_AF['cmins'], color='k', linewidth =3)\n",
    "plt.setp(vp_AF['cbars'], color='k', linewidth =3)\n",
    "plt.setp(vp_AF['bodies'], facecolor ='#db5f57', edgecolor='k', alpha=0.6, linewidth =3)\n",
    "\n",
    "plt.setp(vp_PF['cmaxes'], color='k', linewidth =3)\n",
    "plt.setp(vp_PF['cmeans'], color='k', linewidth =3)\n",
    "plt.setp(vp_PF['cmins'], color='k', linewidth =3)\n",
    "plt.setp(vp_PF['cbars'], color='k', linewidth =3)\n",
    "plt.setp(vp_PF['bodies'], facecolor ='#dbc257', edgecolor='k', alpha=0.6, linewidth =3)\n",
    "\n",
    "plt.setp(vp_OF['cmaxes'], color='k', linewidth =3)\n",
    "plt.setp(vp_OF['cmeans'], color='k', linewidth =3)\n",
    "plt.setp(vp_OF['cmins'], color='k', linewidth =3)\n",
    "plt.setp(vp_OF['cbars'], color='k', linewidth =3)\n",
    "plt.setp(vp_OF['bodies'], facecolor ='#57db80', edgecolor='k', alpha=0.6, linewidth =3)\n",
    "\n",
    "plt.setp(vp_RF['cmaxes'], color='k', linewidth =3)\n",
    "plt.setp(vp_RF['cmeans'], color='k', linewidth =3)\n",
    "plt.setp(vp_RF['cmins'], color='k', linewidth =3)\n",
    "plt.setp(vp_RF['cbars'], color='k', linewidth =3)\n",
    "plt.setp(vp_RF['bodies'], facecolor ='#57d3db', edgecolor='k', alpha=0.6, linewidth =3)\n",
    "\n",
    "plt.setp(vp_AT['cmaxes'], color='k', linewidth =3)\n",
    "plt.setp(vp_AT['cmeans'], color='k', linewidth =3)\n",
    "plt.setp(vp_AT['cmins'], color='k', linewidth =3)\n",
    "plt.setp(vp_AT['cbars'], color='k', linewidth =3)\n",
    "plt.setp(vp_AT['bodies'], facecolor ='#5770db', edgecolor='k', alpha=0.6, linewidth =3)\n",
    "\n",
    "'''plt.scatter([1,1,1], [min(x0_DSRP), np.median(x0_DSRP), max(x0_DSRP)], color='k', s = 100)\n",
    "plt.text(1, min(x0_DSRP),\n",
    "         min(AF_DSRP_avg_rmsds, key=AF_DSRP_avg_rmsds.get), \n",
    "        size=15)\n",
    "plt.text(1, max(x0_DSRP),\n",
    "         max(AF_DSRP_avg_rmsds, key=AF_DSRP_avg_rmsds.get), \n",
    "        size=15)\n",
    "plt.text(1, np.median(x0_DSRP),\n",
    "         ''.join([i for i,val in AF_DSRP_avg_rmsds.items() if val == statistics.median_low(x0_DSRP)]),        \n",
    "        size=15)'''\n",
    "plt.ylim(0,.85)\n",
    "plt.xticks(ticks = [1,2,3,4,5],labels=['AF2', 'PF', 'OF', 'RF', 'AT'], size=20)\n",
    "plt.ylabel('per residue C\\u03B1 RMSD', size = 20)\n",
    "plt.yticks(size=20)\n",
    "plt.title('DSRP', size =20, pad=10)\n",
    "plt.savefig('DSRP_RMSD_violin.svg', format='svg')\n",
    "plt.show()"
   ]
  },
  {
   "cell_type": "code",
   "execution_count": 171,
   "id": "9ed1a01b",
   "metadata": {},
   "outputs": [
    {
     "name": "stdout",
     "output_type": "stream",
     "text": [
      "PF: 3.880174250483887e-96\n",
      "OF: 1.3448472605544866e-09\n",
      "RF: 1.595175890009093e-30\n",
      "AT: 5.080153454052096e-154\n"
     ]
    }
   ],
   "source": [
    "print('PF: ' + str(stats.ttest_rel(x0_DSRP, x1_DSRP)[1]))\n",
    "print('OF: ' + str(stats.ttest_rel(x0_DSRP, x2_DSRP)[1]))\n",
    "print('RF: ' + str(stats.ttest_rel(x0_DSRP, x3_DSRP)[1]))\n",
    "print('AT: ' + str(stats.ttest_rel(x0_DSRP, x4_DSRP)[1]))"
   ]
  },
  {
   "cell_type": "code",
   "execution_count": 179,
   "id": "3e156ac9",
   "metadata": {},
   "outputs": [],
   "source": [
    "AF_DSRP_all_rmsds = []\n",
    "for i, val in AF_DSRP_rmsds.items():\n",
    "    x = val/peps.loc[i]['len']\n",
    "    AF_DSRP_all_rmsds.append(x)"
   ]
  },
  {
   "cell_type": "code",
   "execution_count": 238,
   "id": "d76fbc5c",
   "metadata": {},
   "outputs": [
    {
     "data": {
      "image/png": "[encoded data removed]",
      "text/plain": [
       "<Figure size 576x360 with 1 Axes>"
      ]
     },
     "metadata": {
      "needs_background": "light"
     },
     "output_type": "display_data"
    }
   ],
   "source": [
    "plt.figure(figsize=(8,5))\n",
    "x = np.concatenate(AF_DSRP_all_rmsds)\n",
    "plt.hist(x, bins=50,color ='lightgrey', alpha=1)#, edgecolor='k')\n",
    "avg = np.mean(x)\n",
    "std = np.std(x)\n",
    "hgt = 1500\n",
    "plt.vlines(avg, 0, hgt*1.5, lw=4, color='k')\n",
    "plt.text(avg, hgt*1.5, 'mean = ' + str(avg)[:5], size=15)\n",
    "med = np.median(x)\n",
    "plt.vlines(med, 0, hgt*1.5, lw=4, color='k')\n",
    "plt.text(med, hgt*1.5, 'med = ' + str(med)[:5], size=15)\n",
    "\n",
    "plt.vlines(avg+ std, 0, hgt, lw=4, color='dodgerblue')\n",
    "plt.text(avg+std, hgt, '\\u03C3', size=20, color='dodgerblue')\n",
    "plt.vlines(avg+ 2*std, 0, hgt/2, lw=4, color='goldenrod')\n",
    "plt.text(avg+2*std, hgt/2, '2\\u03C3', size=20, color='goldenrod')\n",
    "plt.vlines(avg+ 3*std, 0, hgt/3, lw=4, color='crimson')\n",
    "plt.text(avg+3*std, hgt/3, '3\\u03C3', size=20, color='crimson')\n",
    "\n",
    "density = gaussian_kde(x)\n",
    "xrng = np.linspace(0,0.8,200)\n",
    "density.covariance_factor = lambda : .4\n",
    "density._compute_covariance()\n",
    "plt.plot(xrng, 350*density(xrng), color = 'grey', lw=3, ls='-')\n",
    "\n",
    "plt.xlim(0,0.75)\n",
    "plt.title('DSRP', size =20, pad=10)\n",
    "plt.xlabel('per residue C\\u03B1 RMSD (\\u212B)', size=20)\n",
    "plt.xticks(size=18)\n",
    "plt.ylabel('number of Comparisons', size = 20)\n",
    "plt.yticks(size=18)\n",
    "plt.savefig('DSRP_RMSD_hist.svg', format='svg')\n",
    "plt.show()\n"
   ]
  },
  {
   "cell_type": "code",
   "execution_count": 251,
   "id": "2a92a09d",
   "metadata": {},
   "outputs": [
    {
     "data": {
      "text/plain": [
       "['1DEC',\n",
       " '1M4F',\n",
       " '1SRB',\n",
       " '1V6R',\n",
       " '1WQD',\n",
       " '2BBG',\n",
       " '2G6U',\n",
       " '2KYJ',\n",
       " '2LDE',\n",
       " '2LDF',\n",
       " '2LSQ',\n",
       " '2MIX',\n",
       " '3BBG',\n",
       " '5UJH',\n",
       " '7LQR']"
      ]
     },
     "execution_count": 251,
     "metadata": {},
     "output_type": "execute_result"
    }
   ],
   "source": [
    "[i for i,val in AF_DSRP_avg_rmsds.items() if val > avg+std and  val < avg+2*std]"
   ]
  },
  {
   "cell_type": "code",
   "execution_count": 252,
   "id": "bd195ba2",
   "metadata": {},
   "outputs": [
    {
     "data": {
      "text/plain": [
       "0.1781671794871795"
      ]
     },
     "execution_count": 252,
     "metadata": {},
     "output_type": "execute_result"
    }
   ],
   "source": [
    "AF_DSRP_avg_rmsds['3BBG']"
   ]
  },
  {
   "cell_type": "code",
   "execution_count": 253,
   "id": "e8f398eb",
   "metadata": {},
   "outputs": [
    {
     "name": "stdout",
     "output_type": "stream",
     "text": [
      "AF model: 1\n",
      "NMR model: [0]\n"
     ]
    }
   ],
   "source": [
    "find_models(2,AF_DSRP_rmsds['3BBG'])"
   ]
  },
  {
   "cell_type": "code",
   "execution_count": 241,
   "id": "064993b5",
   "metadata": {},
   "outputs": [
    {
     "data": {
      "text/plain": [
       "['1K0P',\n",
       " '1N5G',\n",
       " '1RPC',\n",
       " '2B5B',\n",
       " '2EFZ',\n",
       " '2LS1',\n",
       " '2MSF',\n",
       " '6NW8',\n",
       " '7EDK',\n",
       " '7ELY']"
      ]
     },
     "execution_count": 241,
     "metadata": {},
     "output_type": "execute_result"
    }
   ],
   "source": [
    "[i for i,val in AF_DSRP_avg_rmsds.items() if val > avg+2*std and  val < avg+3*std]"
   ]
  },
  {
   "cell_type": "code",
   "execution_count": 242,
   "id": "90c3833e",
   "metadata": {},
   "outputs": [
    {
     "data": {
      "text/plain": [
       "['7L7A']"
      ]
     },
     "execution_count": 242,
     "metadata": {},
     "output_type": "execute_result"
    }
   ],
   "source": [
    "[i for i,val in AF_DSRP_avg_rmsds.items() if val > avg+3*std]"
   ]
  },
  {
   "cell_type": "code",
   "execution_count": 247,
   "id": "bb588aa7",
   "metadata": {},
   "outputs": [
    {
     "data": {
      "text/plain": [
       "0.25679178571428574"
      ]
     },
     "execution_count": 247,
     "metadata": {},
     "output_type": "execute_result"
    }
   ],
   "source": [
    "AF_DSRP_avg_rmsds['2MSF']"
   ]
  },
  {
   "cell_type": "markdown",
   "id": "78617d3d",
   "metadata": {},
   "source": [
    "## Correlation Plots"
   ]
  },
  {
   "cell_type": "code",
   "execution_count": 50,
   "id": "38a49a35",
   "metadata": {},
   "outputs": [],
   "source": [
    "AF_path = '../AlphaFold_Predictions/RMSD_Calculations/AH_MP_ss/'\n",
    "AF_files = os.listdir(AF_path)\n",
    "AF_AH_MP_rmsds = {}\n",
    "for i in AH_MP_ids:\n",
    "    AF_AH_MP_rmsds[i] = []\n",
    "    \n",
    "for j in AH_MP_ids:\n",
    "    rmsds = []\n",
    "    with open(AF_path+j+'_RMSD.txt', encoding = \"ISO-8859-1\") as f:\n",
    "        lines = f.readlines()\n",
    "        for i in lines:\n",
    "            rmsds.append(float(i.split(' ')[1]))\n",
    "    AF_AH_MP_rmsds[j.split('_')[0]] = rmsds\n",
    "    \n",
    "AF_AH_MP_avg_rmsds = {}\n",
    "AF_AH_MP_min_rmsds = {}\n",
    "AF_AH_MP_max_rmsds = {}\n",
    "AF_AH_MP_std_rmsds = {}\n",
    "for i in AH_MP_ids:\n",
    "    AF_AH_MP_avg_rmsds[i] = []\n",
    "    AF_AH_MP_min_rmsds[i] = []\n",
    "    AF_AH_MP_max_rmsds[i] = []\n",
    "    AF_AH_MP_std_rmsds[i] = []\n",
    "\n",
    "for i,vals in AF_AH_MP_rmsds.items():\n",
    "    AF_AH_MP_avg_rmsds[i] = (np.mean(vals))\n",
    "    AF_AH_MP_min_rmsds[i] = (np.amin(vals))\n",
    "    AF_AH_MP_max_rmsds[i] = (np.amax(vals))\n",
    "    AF_AH_MP_std_rmsds[i] = (np.std(vals))"
   ]
  },
  {
   "cell_type": "code",
   "execution_count": 7,
   "id": "12e89b1b",
   "metadata": {},
   "outputs": [],
   "source": [
    "AF_path = '../AlphaFold_Predictions/RMSD_Calculations/AH_SL_ss/'\n",
    "AF_files = os.listdir(AF_path)\n",
    "AF_AH_SL_rmsds = {}\n",
    "for i in AH_SL_ids:\n",
    "    AF_AH_SL_rmsds[i] = []\n",
    "    \n",
    "for j in AH_SL_ids:\n",
    "    rmsds = []\n",
    "    with open(AF_path+j+'_RMSD.txt', encoding = \"ISO-8859-1\") as f:\n",
    "        lines = f.readlines()\n",
    "        for i in lines:\n",
    "            rmsds.append(float(i.split(' ')[1]))\n",
    "    AF_AH_SL_rmsds[j.split('_')[0]] = rmsds\n",
    "    \n",
    "AF_AH_SL_avg_rmsds = {}\n",
    "for i in AH_SL_ids:\n",
    "    AF_AH_SL_avg_rmsds[i] = []\n",
    "for i,vals in AF_AH_SL_rmsds.items():\n",
    "    AF_AH_SL_avg_rmsds[i] = (np.amin(vals))"
   ]
  },
  {
   "cell_type": "code",
   "execution_count": 8,
   "id": "29c28721",
   "metadata": {},
   "outputs": [],
   "source": [
    "AF_path = '../AlphaFold_Predictions/RMSD_Calculations/BHPIN_ss/'\n",
    "AF_files = os.listdir(AF_path)\n",
    "AF_BHPIN_rmsds = {}\n",
    "for i in BHPIN_ids:\n",
    "    AF_BHPIN_rmsds[i] = []\n",
    "    \n",
    "for j in BHPIN_ids:\n",
    "    rmsds = []\n",
    "    with open(AF_path+j+'_RMSD.txt', encoding = \"ISO-8859-1\") as f:\n",
    "        lines = f.readlines()\n",
    "        for i in lines:\n",
    "            rmsds.append(float(i.split(' ')[1]))\n",
    "    AF_BHPIN_rmsds[j.split('_')[0]] = rmsds\n",
    "    \n",
    "AF_BHPIN_avg_rmsds = {}\n",
    "for i in BHPIN_ids:\n",
    "    AF_BHPIN_avg_rmsds[i] = []\n",
    "for i,vals in AF_BHPIN_rmsds.items():\n",
    "    AF_BHPIN_avg_rmsds[i] = (np.amin(vals))"
   ]
  },
  {
   "cell_type": "code",
   "execution_count": 9,
   "id": "4780e675",
   "metadata": {},
   "outputs": [],
   "source": [
    "AF_path = '../AlphaFold_Predictions/RMSD_Calculations/MIX_SL_ss/'\n",
    "AF_files = os.listdir(AF_path)\n",
    "AF_MIX_SL_rmsds = {}\n",
    "for i in MIX_SL_ids:\n",
    "    AF_MIX_SL_rmsds[i] = []\n",
    "    \n",
    "for j in MIX_SL_ids:\n",
    "    rmsds = []\n",
    "    with open(AF_path+j+'_RMSD.txt', encoding = \"ISO-8859-1\") as f:\n",
    "        lines = f.readlines()\n",
    "        for i in lines:\n",
    "            rmsds.append(float(i.split(' ')[1]))\n",
    "    AF_MIX_SL_rmsds[j.split('_')[0]] = rmsds\n",
    "    \n",
    "AF_MIX_SL_avg_rmsds = {}\n",
    "for i in MIX_SL_ids:\n",
    "    AF_MIX_SL_avg_rmsds[i] = []\n",
    "for i,vals in AF_MIX_SL_rmsds.items():\n",
    "    AF_MIX_SL_avg_rmsds[i] = (np.amin(vals))"
   ]
  },
  {
   "cell_type": "code",
   "execution_count": 10,
   "id": "35fc37bb",
   "metadata": {},
   "outputs": [],
   "source": [
    "AF_path = '../AlphaFold_Predictions/RMSD_Calculations/MIX_MP_ss/'\n",
    "AF_files = os.listdir(AF_path)\n",
    "AF_MIX_MP_rmsds = {}\n",
    "for i in MIX_MP_ids:\n",
    "    AF_MIX_MP_rmsds[i] = []\n",
    "    \n",
    "for j in MIX_MP_ids:\n",
    "    rmsds = []\n",
    "    with open(AF_path+j+'_RMSD.txt', encoding = \"ISO-8859-1\") as f:\n",
    "        lines = f.readlines()\n",
    "        for i in lines:\n",
    "            rmsds.append(float(i.split(' ')[1]))\n",
    "    AF_MIX_MP_rmsds[j.split('_')[0]] = rmsds\n",
    "    \n",
    "AF_MIX_MP_avg_rmsds = {}\n",
    "for i in MIX_MP_ids:\n",
    "    AF_MIX_MP_avg_rmsds[i] = []\n",
    "for i,vals in AF_MIX_MP_rmsds.items():\n",
    "    AF_MIX_MP_avg_rmsds[i] = (np.amin(vals))"
   ]
  },
  {
   "cell_type": "code",
   "execution_count": 11,
   "id": "9fbf705c",
   "metadata": {},
   "outputs": [],
   "source": [
    "AF_path = '../AlphaFold_Predictions/RMSD_Calculations/DSRP_ss/'\n",
    "AF_files = os.listdir(AF_path)\n",
    "AF_DSRP_rmsds = {}\n",
    "for i in DSRP_ids:\n",
    "    AF_DSRP_rmsds[i] = []\n",
    "    \n",
    "for j in DSRP_ids:\n",
    "    rmsds = []\n",
    "    with open(AF_path+j+'_RMSD.txt', encoding = \"ISO-8859-1\") as f:\n",
    "        lines = f.readlines()\n",
    "        for i in lines:\n",
    "            rmsds.append(float(i.split(' ')[1]))\n",
    "    AF_DSRP_rmsds[j.split('_')[0]] = rmsds\n",
    "    \n",
    "AF_DSRP_avg_rmsds = {}\n",
    "for i in DSRP_ids:\n",
    "    AF_DSRP_avg_rmsds[i] = []\n",
    "for i,vals in AF_DSRP_rmsds.items():\n",
    "    AF_DSRP_avg_rmsds[i] = (np.amin(vals))"
   ]
  },
  {
   "cell_type": "code",
   "execution_count": 18,
   "id": "928c1483",
   "metadata": {},
   "outputs": [
    {
     "data": {
      "image/png": "[encoded data removed]",
      "text/plain": [
       "<Figure size 576x720 with 1 Axes>"
      ]
     },
     "metadata": {
      "needs_background": "light"
     },
     "output_type": "display_data"
    }
   ],
   "source": [
    "plt.figure(figsize=(8,10))\n",
    "x_AH_MP = [peps.loc[i]['len'] for i,val in AF_AH_MP_avg_rmsds.items()]\n",
    "y_AH_MP = [val for i,val in AF_AH_MP_avg_rmsds.items()]\n",
    "\n",
    "x_AH_SL = [peps.loc[i]['len'] for i,val in AF_AH_SL_avg_rmsds.items()]\n",
    "y_AH_SL = [val for i,val in AF_AH_SL_avg_rmsds.items()]\n",
    "\n",
    "x_MIX_MP = [peps.loc[i]['len'] for i,val in AF_MIX_MP_avg_rmsds.items()]\n",
    "y_MIX_MP = [val for i,val in AF_MIX_MP_avg_rmsds.items()]\n",
    "\n",
    "x_MIX_SL = [peps.loc[i]['len'] for i,val in AF_MIX_SL_avg_rmsds.items()]\n",
    "y_MIX_SL = [val for i,val in AF_MIX_SL_avg_rmsds.items()]\n",
    "\n",
    "x_BHPIN = [peps.loc[i]['len'] for i,val in AF_BHPIN_avg_rmsds.items()]\n",
    "y_BHPIN = [val for i,val in AF_BHPIN_avg_rmsds.items()]\n",
    "\n",
    "x_DSRP = [peps.loc[i]['len'] for i,val in AF_DSRP_avg_rmsds.items()]\n",
    "y_DSRP = [val for i,val in AF_DSRP_avg_rmsds.items()]\n",
    "\n",
    "\n",
    "plt.scatter(x_DSRP,   y_DSRP, color='crimson', s=70, edgecolor='k')\n",
    "plt.scatter(x_BHPIN,  y_BHPIN, color='orange', s=70, edgecolor='k')\n",
    "plt.scatter(x_AH_MP,  y_AH_MP, color='dodgerblue', s=70, edgecolor='k')\n",
    "plt.scatter(x_AH_SL,  y_AH_SL, color='lime', s=70, edgecolor='k')\n",
    "plt.scatter(x_MIX_MP, y_MIX_MP, color='gold', s=70, edgecolor='k')\n",
    "plt.scatter(x_MIX_SL, y_MIX_SL, color='violet', s=70, edgecolor='k')\n",
    "\n",
    "\n",
    "plt.ylim(0,3)\n",
    "\n",
    "labs = ['DSRP', 'BHPIN',  'AH MP', 'AH SL','MIX MP', 'MIX SL']\n",
    "plt.legend(labs)\n",
    "plt.xlabel('peptide length', size=25)\n",
    "plt.xticks(size=20)\n",
    "plt.ylabel('C\\u03B1 RMSD', size = 25)\n",
    "plt.yticks(size=20)\n",
    "plt.savefig('length_vs_RMSD_zoomed.svg', format='svg')\n",
    "plt.show()"
   ]
  },
  {
   "cell_type": "code",
   "execution_count": 361,
   "id": "1ecdd8e2",
   "metadata": {},
   "outputs": [
    {
     "data": {
      "image/png": "[encoded data removed]",
      "text/plain": [
       "<Figure size 576x720 with 1 Axes>"
      ]
     },
     "metadata": {
      "needs_background": "light"
     },
     "output_type": "display_data"
    }
   ],
   "source": [
    "plt.figure(figsize=(8,10))\n",
    "\n",
    "x = [peps.loc[i]['len'] for i,val in AF_DSRP_avg_rmsds.items()]\n",
    "y = [val for i,val in AF_DSRP_avg_rmsds.items()]\n",
    "\n",
    "\n",
    "\n",
    "plt.scatter(x, y, color='dodgerblue', s=70, edgecolor='k')\n",
    "\n",
    "plt.xlim(10,40)\n",
    "#plt.ylim(0,0.1)\n",
    "\n",
    "#labs = ['BHPIN']\n",
    "#plt.legend(labs)\n",
    "plt.title('title', size =20, pad=10)\n",
    "plt.xlabel('peptide len', size=20)\n",
    "plt.xticks(size=18)\n",
    "plt.ylabel('per residue C\\u03B1 RMSD', size = 20)\n",
    "plt.yticks(size=18)\n",
    "plt.show()"
   ]
  },
  {
   "cell_type": "markdown",
   "id": "0642b3c7",
   "metadata": {},
   "source": [
    "## Export all the data"
   ]
  },
  {
   "cell_type": "code",
   "execution_count": 196,
   "id": "1ac7a8df",
   "metadata": {},
   "outputs": [
    {
     "data": {
      "text/html": [
       "<div>\n",
       "<style scoped>\n",
       "    .dataframe tbody tr th:only-of-type {\n",
       "        vertical-align: middle;\n",
       "    }\n",
       "\n",
       "    .dataframe tbody tr th {\n",
       "        vertical-align: top;\n",
       "    }\n",
       "\n",
       "    .dataframe thead th {\n",
       "        text-align: right;\n",
       "    }\n",
       "</style>\n",
       "<table border=\"1\" class=\"dataframe\">\n",
       "  <thead>\n",
       "    <tr style=\"text-align: right;\">\n",
       "      <th></th>\n",
       "      <th>APPTEST</th>\n",
       "      <th>PEPFold3</th>\n",
       "      <th>Name</th>\n",
       "      <th>Type</th>\n",
       "      <th>Structured Region for RMSD calculation</th>\n",
       "      <th>FASTA Sequence</th>\n",
       "      <th>Length</th>\n",
       "      <th>Description</th>\n",
       "      <th>Unnamed: 8</th>\n",
       "    </tr>\n",
       "  </thead>\n",
       "  <tbody>\n",
       "    <tr>\n",
       "      <th>0</th>\n",
       "      <td>✓</td>\n",
       "      <td>✓</td>\n",
       "      <td>6X7I</td>\n",
       "      <td>AH_MP</td>\n",
       "      <td>213-233</td>\n",
       "      <td>GQERFNRWFLTGMTVAGVVLLGSLFSRK</td>\n",
       "      <td>28.0</td>\n",
       "      <td>Structure of the C-terminal domain of BCL-XL i...</td>\n",
       "      <td>NaN</td>\n",
       "    </tr>\n",
       "    <tr>\n",
       "      <th>1</th>\n",
       "      <td>✓</td>\n",
       "      <td>✓</td>\n",
       "      <td>1MP6</td>\n",
       "      <td>AH_MP</td>\n",
       "      <td>22-46</td>\n",
       "      <td>SSDPLVVAASIIGILHLILWILDRL</td>\n",
       "      <td>25.0</td>\n",
       "      <td>Structure of the transmembrane region of the M...</td>\n",
       "      <td>NaN</td>\n",
       "    </tr>\n",
       "    <tr>\n",
       "      <th>2</th>\n",
       "      <td>✓</td>\n",
       "      <td>✓</td>\n",
       "      <td>2MC7</td>\n",
       "      <td>AH_MP</td>\n",
       "      <td>6-27</td>\n",
       "      <td>MNRSPDKIIALIFLLISLLVLCLALWQIVF</td>\n",
       "      <td>30.0</td>\n",
       "      <td>Structure of Salmonella MgtR</td>\n",
       "      <td>NaN</td>\n",
       "    </tr>\n",
       "    <tr>\n",
       "      <th>3</th>\n",
       "      <td>✓</td>\n",
       "      <td>NaN</td>\n",
       "      <td>1A11</td>\n",
       "      <td>AH_MP</td>\n",
       "      <td>1-25</td>\n",
       "      <td>GSEKMSTAISVLLAQAVFLLLTSQR</td>\n",
       "      <td>25.0</td>\n",
       "      <td>NMR STRUCTURE OF MEMBRANE SPANNING SEGMENT 2 O...</td>\n",
       "      <td>NaN</td>\n",
       "    </tr>\n",
       "    <tr>\n",
       "      <th>4</th>\n",
       "      <td>✓</td>\n",
       "      <td>✓</td>\n",
       "      <td>1ALE</td>\n",
       "      <td>AH_MP</td>\n",
       "      <td>3-16</td>\n",
       "      <td>ALDKLKEFGNTLEDKARE</td>\n",
       "      <td>18.0</td>\n",
       "      <td>CONFORMATION OF TWO PEPTIDES CORRESPONDING TO ...</td>\n",
       "      <td>NaN</td>\n",
       "    </tr>\n",
       "    <tr>\n",
       "      <th>5</th>\n",
       "      <td>✓</td>\n",
       "      <td>✓</td>\n",
       "      <td>1ALF</td>\n",
       "      <td>AH_MP</td>\n",
       "      <td>4-19</td>\n",
       "      <td>SAKMREWFSETFQKVKEKL</td>\n",
       "      <td>19.0</td>\n",
       "      <td>CONFORMATION OF TWO PEPTIDES CORRESPONDING TO ...</td>\n",
       "      <td>NaN</td>\n",
       "    </tr>\n",
       "    <tr>\n",
       "      <th>6</th>\n",
       "      <td>✓</td>\n",
       "      <td>✓</td>\n",
       "      <td>1B9Q</td>\n",
       "      <td>AH_MP</td>\n",
       "      <td>11-27</td>\n",
       "      <td>CAVELRSPGISRFRRKIAKRSIKTLEHKRENAKE</td>\n",
       "      <td>34.0</td>\n",
       "      <td>NMR STRUCTURE OF HEPARIN BINDING SITE OF NON C...</td>\n",
       "      <td>NaN</td>\n",
       "    </tr>\n",
       "    <tr>\n",
       "      <th>7</th>\n",
       "      <td>✓</td>\n",
       "      <td>✓</td>\n",
       "      <td>1BM4</td>\n",
       "      <td>AH_MP</td>\n",
       "      <td>16-29</td>\n",
       "      <td>CAKVKGITQGPNESPSAFLERLKEAYRRYTPY</td>\n",
       "      <td>32.0</td>\n",
       "      <td>MOMLV CAPSID PROTEIN MAJOR HOMOLOGY REGION PEP...</td>\n",
       "      <td>NaN</td>\n",
       "    </tr>\n",
       "    <tr>\n",
       "      <th>8</th>\n",
       "      <td>✓</td>\n",
       "      <td>✓</td>\n",
       "      <td>1BMX</td>\n",
       "      <td>AH_MP</td>\n",
       "      <td>14-26</td>\n",
       "      <td>CSILDIRQGPKEPFRDYVDRFYKTLRAEQAS</td>\n",
       "      <td>31.0</td>\n",
       "      <td>HIV-1 CAPSID PROTEIN MAJOR HOMOLOGY REGION PEP...</td>\n",
       "      <td>NaN</td>\n",
       "    </tr>\n",
       "    <tr>\n",
       "      <th>9</th>\n",
       "      <td>✓</td>\n",
       "      <td>✓</td>\n",
       "      <td>1CFG</td>\n",
       "      <td>AH_MP</td>\n",
       "      <td>8-18</td>\n",
       "      <td>TRYLRIHPQSWVHQIALRMEVL</td>\n",
       "      <td>22.0</td>\n",
       "      <td>MEMBRANE-BINDING PEPTIDE FROM THE C2 DOMAIN OF...</td>\n",
       "      <td>NaN</td>\n",
       "    </tr>\n",
       "  </tbody>\n",
       "</table>\n",
       "</div>"
      ],
      "text/plain": [
       "  APPTEST PEPFold3 Name   Type  Structured Region for RMSD calculation  \\\n",
       "0       ✓        ✓  6X7I  AH_MP                                213-233   \n",
       "1       ✓        ✓  1MP6  AH_MP                                  22-46   \n",
       "2       ✓        ✓  2MC7  AH_MP                                   6-27   \n",
       "3       ✓      NaN  1A11  AH_MP                                   1-25   \n",
       "4       ✓        ✓  1ALE  AH_MP                                   3-16   \n",
       "5       ✓        ✓  1ALF  AH_MP                                   4-19   \n",
       "6       ✓        ✓  1B9Q  AH_MP                                  11-27   \n",
       "7       ✓        ✓  1BM4  AH_MP                                  16-29   \n",
       "8       ✓        ✓  1BMX  AH_MP                                  14-26   \n",
       "9       ✓        ✓  1CFG  AH_MP                                   8-18   \n",
       "\n",
       "                       FASTA Sequence  Length  \\\n",
       "0        GQERFNRWFLTGMTVAGVVLLGSLFSRK    28.0   \n",
       "1           SSDPLVVAASIIGILHLILWILDRL    25.0   \n",
       "2      MNRSPDKIIALIFLLISLLVLCLALWQIVF    30.0   \n",
       "3           GSEKMSTAISVLLAQAVFLLLTSQR    25.0   \n",
       "4                  ALDKLKEFGNTLEDKARE    18.0   \n",
       "5                 SAKMREWFSETFQKVKEKL    19.0   \n",
       "6  CAVELRSPGISRFRRKIAKRSIKTLEHKRENAKE    34.0   \n",
       "7    CAKVKGITQGPNESPSAFLERLKEAYRRYTPY    32.0   \n",
       "8     CSILDIRQGPKEPFRDYVDRFYKTLRAEQAS    31.0   \n",
       "9              TRYLRIHPQSWVHQIALRMEVL    22.0   \n",
       "\n",
       "                                         Description Unnamed: 8  \n",
       "0  Structure of the C-terminal domain of BCL-XL i...        NaN  \n",
       "1  Structure of the transmembrane region of the M...        NaN  \n",
       "2                       Structure of Salmonella MgtR        NaN  \n",
       "3  NMR STRUCTURE OF MEMBRANE SPANNING SEGMENT 2 O...        NaN  \n",
       "4  CONFORMATION OF TWO PEPTIDES CORRESPONDING TO ...        NaN  \n",
       "5  CONFORMATION OF TWO PEPTIDES CORRESPONDING TO ...        NaN  \n",
       "6  NMR STRUCTURE OF HEPARIN BINDING SITE OF NON C...        NaN  \n",
       "7  MOMLV CAPSID PROTEIN MAJOR HOMOLOGY REGION PEP...        NaN  \n",
       "8  HIV-1 CAPSID PROTEIN MAJOR HOMOLOGY REGION PEP...        NaN  \n",
       "9  MEMBRANE-BINDING PEPTIDE FROM THE C2 DOMAIN OF...        NaN  "
      ]
     },
     "execution_count": 196,
     "metadata": {},
     "output_type": "execute_result"
    }
   ],
   "source": [
    "peptides.head(10)"
   ]
  },
  {
   "cell_type": "code",
   "execution_count": 198,
   "id": "6bc1ac42",
   "metadata": {},
   "outputs": [],
   "source": [
    "peptides.set_index('Name ', inplace=True)"
   ]
  },
  {
   "cell_type": "code",
   "execution_count": 201,
   "id": "b9a51d19",
   "metadata": {},
   "outputs": [],
   "source": [
    "peptides['AF2 min RMSD'] = np.zeros(len(peptides))"
   ]
  },
  {
   "cell_type": "code",
   "execution_count": 193,
   "id": "5cdf987e",
   "metadata": {},
   "outputs": [],
   "source": [
    "AF_mins =  AF_AH_MP_avg_rmsds#.update(AF_AH_SL_avg_rmsds)\n",
    "AF_mins.update(AF_MIX_MP_avg_rmsds)\n",
    "AF_mins.update(AF_MIX_SL_avg_rmsds)\n",
    "AF_mins.update(AF_BHPIN_avg_rmsds)\n",
    "AF_mins.update(AF_DSRP_avg_rmsds)"
   ]
  },
  {
   "cell_type": "code",
   "execution_count": 204,
   "id": "b4a0cc0e",
   "metadata": {},
   "outputs": [],
   "source": [
    "for i, val in AF_mins.items():\n",
    "    peptides.loc[i] = val"
   ]
  },
  {
   "cell_type": "code",
   "execution_count": 205,
   "id": "7e4d4bb4",
   "metadata": {},
   "outputs": [
    {
     "data": {
      "text/html": [
       "<div>\n",
       "<style scoped>\n",
       "    .dataframe tbody tr th:only-of-type {\n",
       "        vertical-align: middle;\n",
       "    }\n",
       "\n",
       "    .dataframe tbody tr th {\n",
       "        vertical-align: top;\n",
       "    }\n",
       "\n",
       "    .dataframe thead th {\n",
       "        text-align: right;\n",
       "    }\n",
       "</style>\n",
       "<table border=\"1\" class=\"dataframe\">\n",
       "  <thead>\n",
       "    <tr style=\"text-align: right;\">\n",
       "      <th></th>\n",
       "      <th>APPTEST</th>\n",
       "      <th>PEPFold3</th>\n",
       "      <th>Type</th>\n",
       "      <th>Structured Region for RMSD calculation</th>\n",
       "      <th>FASTA Sequence</th>\n",
       "      <th>Length</th>\n",
       "      <th>Description</th>\n",
       "      <th>Unnamed: 8</th>\n",
       "      <th>AF2 min RMSD</th>\n",
       "    </tr>\n",
       "    <tr>\n",
       "      <th>Name</th>\n",
       "      <th></th>\n",
       "      <th></th>\n",
       "      <th></th>\n",
       "      <th></th>\n",
       "      <th></th>\n",
       "      <th></th>\n",
       "      <th></th>\n",
       "      <th></th>\n",
       "      <th></th>\n",
       "    </tr>\n",
       "  </thead>\n",
       "  <tbody>\n",
       "    <tr>\n",
       "      <th>6X7I</th>\n",
       "      <td>0.410386</td>\n",
       "      <td>0.410386</td>\n",
       "      <td>0.410386</td>\n",
       "      <td>0.410386</td>\n",
       "      <td>0.410386</td>\n",
       "      <td>0.410386</td>\n",
       "      <td>0.410386</td>\n",
       "      <td>0.410386</td>\n",
       "      <td>0.410386</td>\n",
       "    </tr>\n",
       "    <tr>\n",
       "      <th>1MP6</th>\n",
       "      <td>1.66455</td>\n",
       "      <td>1.66455</td>\n",
       "      <td>1.66455</td>\n",
       "      <td>1.66455</td>\n",
       "      <td>1.66455</td>\n",
       "      <td>1.664550</td>\n",
       "      <td>1.66455</td>\n",
       "      <td>1.66455</td>\n",
       "      <td>1.664550</td>\n",
       "    </tr>\n",
       "    <tr>\n",
       "      <th>2MC7</th>\n",
       "      <td>0.332325</td>\n",
       "      <td>0.332325</td>\n",
       "      <td>0.332325</td>\n",
       "      <td>0.332325</td>\n",
       "      <td>0.332325</td>\n",
       "      <td>0.332325</td>\n",
       "      <td>0.332325</td>\n",
       "      <td>0.332325</td>\n",
       "      <td>0.332325</td>\n",
       "    </tr>\n",
       "    <tr>\n",
       "      <th>1A11</th>\n",
       "      <td>0.828944</td>\n",
       "      <td>0.828944</td>\n",
       "      <td>0.828944</td>\n",
       "      <td>0.828944</td>\n",
       "      <td>0.828944</td>\n",
       "      <td>0.828944</td>\n",
       "      <td>0.828944</td>\n",
       "      <td>0.828944</td>\n",
       "      <td>0.828944</td>\n",
       "    </tr>\n",
       "    <tr>\n",
       "      <th>1ALE</th>\n",
       "      <td>0.628961</td>\n",
       "      <td>0.628961</td>\n",
       "      <td>0.628961</td>\n",
       "      <td>0.628961</td>\n",
       "      <td>0.628961</td>\n",
       "      <td>0.628961</td>\n",
       "      <td>0.628961</td>\n",
       "      <td>0.628961</td>\n",
       "      <td>0.628961</td>\n",
       "    </tr>\n",
       "    <tr>\n",
       "      <th>1ALF</th>\n",
       "      <td>0.82962</td>\n",
       "      <td>0.82962</td>\n",
       "      <td>0.82962</td>\n",
       "      <td>0.82962</td>\n",
       "      <td>0.82962</td>\n",
       "      <td>0.829620</td>\n",
       "      <td>0.82962</td>\n",
       "      <td>0.82962</td>\n",
       "      <td>0.829620</td>\n",
       "    </tr>\n",
       "    <tr>\n",
       "      <th>1B9Q</th>\n",
       "      <td>0.501387</td>\n",
       "      <td>0.501387</td>\n",
       "      <td>0.501387</td>\n",
       "      <td>0.501387</td>\n",
       "      <td>0.501387</td>\n",
       "      <td>0.501387</td>\n",
       "      <td>0.501387</td>\n",
       "      <td>0.501387</td>\n",
       "      <td>0.501387</td>\n",
       "    </tr>\n",
       "    <tr>\n",
       "      <th>1BM4</th>\n",
       "      <td>0.350087</td>\n",
       "      <td>0.350087</td>\n",
       "      <td>0.350087</td>\n",
       "      <td>0.350087</td>\n",
       "      <td>0.350087</td>\n",
       "      <td>0.350087</td>\n",
       "      <td>0.350087</td>\n",
       "      <td>0.350087</td>\n",
       "      <td>0.350087</td>\n",
       "    </tr>\n",
       "    <tr>\n",
       "      <th>1BMX</th>\n",
       "      <td>0.343908</td>\n",
       "      <td>0.343908</td>\n",
       "      <td>0.343908</td>\n",
       "      <td>0.343908</td>\n",
       "      <td>0.343908</td>\n",
       "      <td>0.343908</td>\n",
       "      <td>0.343908</td>\n",
       "      <td>0.343908</td>\n",
       "      <td>0.343908</td>\n",
       "    </tr>\n",
       "    <tr>\n",
       "      <th>1CFG</th>\n",
       "      <td>0.448641</td>\n",
       "      <td>0.448641</td>\n",
       "      <td>0.448641</td>\n",
       "      <td>0.448641</td>\n",
       "      <td>0.448641</td>\n",
       "      <td>0.448641</td>\n",
       "      <td>0.448641</td>\n",
       "      <td>0.448641</td>\n",
       "      <td>0.448641</td>\n",
       "    </tr>\n",
       "    <tr>\n",
       "      <th>1DEP</th>\n",
       "      <td>0.477481</td>\n",
       "      <td>0.477481</td>\n",
       "      <td>0.477481</td>\n",
       "      <td>0.477481</td>\n",
       "      <td>0.477481</td>\n",
       "      <td>0.477481</td>\n",
       "      <td>0.477481</td>\n",
       "      <td>0.477481</td>\n",
       "      <td>0.477481</td>\n",
       "    </tr>\n",
       "    <tr>\n",
       "      <th>1DJF</th>\n",
       "      <td>0.741125</td>\n",
       "      <td>0.741125</td>\n",
       "      <td>0.741125</td>\n",
       "      <td>0.741125</td>\n",
       "      <td>0.741125</td>\n",
       "      <td>0.741125</td>\n",
       "      <td>0.741125</td>\n",
       "      <td>0.741125</td>\n",
       "      <td>0.741125</td>\n",
       "    </tr>\n",
       "    <tr>\n",
       "      <th>1EMZ</th>\n",
       "      <td>1.1596</td>\n",
       "      <td>1.1596</td>\n",
       "      <td>1.1596</td>\n",
       "      <td>1.1596</td>\n",
       "      <td>1.1596</td>\n",
       "      <td>1.159600</td>\n",
       "      <td>1.1596</td>\n",
       "      <td>1.1596</td>\n",
       "      <td>1.159600</td>\n",
       "    </tr>\n",
       "    <tr>\n",
       "      <th>1FW5</th>\n",
       "      <td>2.75748</td>\n",
       "      <td>2.75748</td>\n",
       "      <td>2.75748</td>\n",
       "      <td>2.75748</td>\n",
       "      <td>2.75748</td>\n",
       "      <td>2.757480</td>\n",
       "      <td>2.75748</td>\n",
       "      <td>2.75748</td>\n",
       "      <td>2.757480</td>\n",
       "    </tr>\n",
       "    <tr>\n",
       "      <th>1HO2</th>\n",
       "      <td>0.530031</td>\n",
       "      <td>0.530031</td>\n",
       "      <td>0.530031</td>\n",
       "      <td>0.530031</td>\n",
       "      <td>0.530031</td>\n",
       "      <td>0.530031</td>\n",
       "      <td>0.530031</td>\n",
       "      <td>0.530031</td>\n",
       "      <td>0.530031</td>\n",
       "    </tr>\n",
       "    <tr>\n",
       "      <th>1HOD</th>\n",
       "      <td>2.1478</td>\n",
       "      <td>2.1478</td>\n",
       "      <td>2.1478</td>\n",
       "      <td>2.1478</td>\n",
       "      <td>2.1478</td>\n",
       "      <td>2.147800</td>\n",
       "      <td>2.1478</td>\n",
       "      <td>2.1478</td>\n",
       "      <td>2.147800</td>\n",
       "    </tr>\n",
       "    <tr>\n",
       "      <th>1HOF</th>\n",
       "      <td>0.952262</td>\n",
       "      <td>0.952262</td>\n",
       "      <td>0.952262</td>\n",
       "      <td>0.952262</td>\n",
       "      <td>0.952262</td>\n",
       "      <td>0.952262</td>\n",
       "      <td>0.952262</td>\n",
       "      <td>0.952262</td>\n",
       "      <td>0.952262</td>\n",
       "    </tr>\n",
       "    <tr>\n",
       "      <th>1JDM</th>\n",
       "      <td>0.791464</td>\n",
       "      <td>0.791464</td>\n",
       "      <td>0.791464</td>\n",
       "      <td>0.791464</td>\n",
       "      <td>0.791464</td>\n",
       "      <td>0.791464</td>\n",
       "      <td>0.791464</td>\n",
       "      <td>0.791464</td>\n",
       "      <td>0.791464</td>\n",
       "    </tr>\n",
       "    <tr>\n",
       "      <th>1KDL</th>\n",
       "      <td>0.952266</td>\n",
       "      <td>0.952266</td>\n",
       "      <td>0.952266</td>\n",
       "      <td>0.952266</td>\n",
       "      <td>0.952266</td>\n",
       "      <td>0.952266</td>\n",
       "      <td>0.952266</td>\n",
       "      <td>0.952266</td>\n",
       "      <td>0.952266</td>\n",
       "    </tr>\n",
       "    <tr>\n",
       "      <th>1LBJ</th>\n",
       "      <td>0.302215</td>\n",
       "      <td>0.302215</td>\n",
       "      <td>0.302215</td>\n",
       "      <td>0.302215</td>\n",
       "      <td>0.302215</td>\n",
       "      <td>0.302215</td>\n",
       "      <td>0.302215</td>\n",
       "      <td>0.302215</td>\n",
       "      <td>0.302215</td>\n",
       "    </tr>\n",
       "    <tr>\n",
       "      <th>1LYP</th>\n",
       "      <td>1.17755</td>\n",
       "      <td>1.17755</td>\n",
       "      <td>1.17755</td>\n",
       "      <td>1.17755</td>\n",
       "      <td>1.17755</td>\n",
       "      <td>1.177550</td>\n",
       "      <td>1.17755</td>\n",
       "      <td>1.17755</td>\n",
       "      <td>1.177550</td>\n",
       "    </tr>\n",
       "    <tr>\n",
       "      <th>1M25</th>\n",
       "      <td>1.52534</td>\n",
       "      <td>1.52534</td>\n",
       "      <td>1.52534</td>\n",
       "      <td>1.52534</td>\n",
       "      <td>1.52534</td>\n",
       "      <td>1.525340</td>\n",
       "      <td>1.52534</td>\n",
       "      <td>1.52534</td>\n",
       "      <td>1.525340</td>\n",
       "    </tr>\n",
       "    <tr>\n",
       "      <th>1MOT</th>\n",
       "      <td>0.14943</td>\n",
       "      <td>0.14943</td>\n",
       "      <td>0.14943</td>\n",
       "      <td>0.14943</td>\n",
       "      <td>0.14943</td>\n",
       "      <td>0.149430</td>\n",
       "      <td>0.14943</td>\n",
       "      <td>0.14943</td>\n",
       "      <td>0.149430</td>\n",
       "    </tr>\n",
       "    <tr>\n",
       "      <th>1O53</th>\n",
       "      <td>0.439774</td>\n",
       "      <td>0.439774</td>\n",
       "      <td>0.439774</td>\n",
       "      <td>0.439774</td>\n",
       "      <td>0.439774</td>\n",
       "      <td>0.439774</td>\n",
       "      <td>0.439774</td>\n",
       "      <td>0.439774</td>\n",
       "      <td>0.439774</td>\n",
       "    </tr>\n",
       "    <tr>\n",
       "      <th>1ODP</th>\n",
       "      <td>0.588135</td>\n",
       "      <td>0.588135</td>\n",
       "      <td>0.588135</td>\n",
       "      <td>0.588135</td>\n",
       "      <td>0.588135</td>\n",
       "      <td>0.588135</td>\n",
       "      <td>0.588135</td>\n",
       "      <td>0.588135</td>\n",
       "      <td>0.588135</td>\n",
       "    </tr>\n",
       "    <tr>\n",
       "      <th>1OEG</th>\n",
       "      <td>1.33448</td>\n",
       "      <td>1.33448</td>\n",
       "      <td>1.33448</td>\n",
       "      <td>1.33448</td>\n",
       "      <td>1.33448</td>\n",
       "      <td>1.334480</td>\n",
       "      <td>1.33448</td>\n",
       "      <td>1.33448</td>\n",
       "      <td>1.334480</td>\n",
       "    </tr>\n",
       "    <tr>\n",
       "      <th>1P82</th>\n",
       "      <td>0.710975</td>\n",
       "      <td>0.710975</td>\n",
       "      <td>0.710975</td>\n",
       "      <td>0.710975</td>\n",
       "      <td>0.710975</td>\n",
       "      <td>0.710975</td>\n",
       "      <td>0.710975</td>\n",
       "      <td>0.710975</td>\n",
       "      <td>0.710975</td>\n",
       "    </tr>\n",
       "    <tr>\n",
       "      <th>1PLP</th>\n",
       "      <td>0.44975</td>\n",
       "      <td>0.44975</td>\n",
       "      <td>0.44975</td>\n",
       "      <td>0.44975</td>\n",
       "      <td>0.44975</td>\n",
       "      <td>0.449750</td>\n",
       "      <td>0.44975</td>\n",
       "      <td>0.44975</td>\n",
       "      <td>0.449750</td>\n",
       "    </tr>\n",
       "    <tr>\n",
       "      <th>1QG9</th>\n",
       "      <td>0.404151</td>\n",
       "      <td>0.404151</td>\n",
       "      <td>0.404151</td>\n",
       "      <td>0.404151</td>\n",
       "      <td>0.404151</td>\n",
       "      <td>0.404151</td>\n",
       "      <td>0.404151</td>\n",
       "      <td>0.404151</td>\n",
       "      <td>0.404151</td>\n",
       "    </tr>\n",
       "    <tr>\n",
       "      <th>1R7D</th>\n",
       "      <td>0.688216</td>\n",
       "      <td>0.688216</td>\n",
       "      <td>0.688216</td>\n",
       "      <td>0.688216</td>\n",
       "      <td>0.688216</td>\n",
       "      <td>0.688216</td>\n",
       "      <td>0.688216</td>\n",
       "      <td>0.688216</td>\n",
       "      <td>0.688216</td>\n",
       "    </tr>\n",
       "    <tr>\n",
       "      <th>1RKL</th>\n",
       "      <td>1.3264</td>\n",
       "      <td>1.3264</td>\n",
       "      <td>1.3264</td>\n",
       "      <td>1.3264</td>\n",
       "      <td>1.3264</td>\n",
       "      <td>1.326400</td>\n",
       "      <td>1.3264</td>\n",
       "      <td>1.3264</td>\n",
       "      <td>1.326400</td>\n",
       "    </tr>\n",
       "    <tr>\n",
       "      <th>1SKH</th>\n",
       "      <td>0.319484</td>\n",
       "      <td>0.319484</td>\n",
       "      <td>0.319484</td>\n",
       "      <td>0.319484</td>\n",
       "      <td>0.319484</td>\n",
       "      <td>0.319484</td>\n",
       "      <td>0.319484</td>\n",
       "      <td>0.319484</td>\n",
       "      <td>0.319484</td>\n",
       "    </tr>\n",
       "    <tr>\n",
       "      <th>1SPF</th>\n",
       "      <td>0.691449</td>\n",
       "      <td>0.691449</td>\n",
       "      <td>0.691449</td>\n",
       "      <td>0.691449</td>\n",
       "      <td>0.691449</td>\n",
       "      <td>0.691449</td>\n",
       "      <td>0.691449</td>\n",
       "      <td>0.691449</td>\n",
       "      <td>0.691449</td>\n",
       "    </tr>\n",
       "    <tr>\n",
       "      <th>1T5Q</th>\n",
       "      <td>1.45489</td>\n",
       "      <td>1.45489</td>\n",
       "      <td>1.45489</td>\n",
       "      <td>1.45489</td>\n",
       "      <td>1.45489</td>\n",
       "      <td>1.454890</td>\n",
       "      <td>1.45489</td>\n",
       "      <td>1.45489</td>\n",
       "      <td>1.454890</td>\n",
       "    </tr>\n",
       "    <tr>\n",
       "      <th>1V4Z</th>\n",
       "      <td>3.47679</td>\n",
       "      <td>3.47679</td>\n",
       "      <td>3.47679</td>\n",
       "      <td>3.47679</td>\n",
       "      <td>3.47679</td>\n",
       "      <td>3.476790</td>\n",
       "      <td>3.47679</td>\n",
       "      <td>3.47679</td>\n",
       "      <td>3.476790</td>\n",
       "    </tr>\n",
       "    <tr>\n",
       "      <th>1VTP</th>\n",
       "      <td>1.01622</td>\n",
       "      <td>1.01622</td>\n",
       "      <td>1.01622</td>\n",
       "      <td>1.01622</td>\n",
       "      <td>1.01622</td>\n",
       "      <td>1.016220</td>\n",
       "      <td>1.01622</td>\n",
       "      <td>1.01622</td>\n",
       "      <td>1.016220</td>\n",
       "    </tr>\n",
       "    <tr>\n",
       "      <th>1XC0</th>\n",
       "      <td>3.36545</td>\n",
       "      <td>3.36545</td>\n",
       "      <td>3.36545</td>\n",
       "      <td>3.36545</td>\n",
       "      <td>3.36545</td>\n",
       "      <td>3.365450</td>\n",
       "      <td>3.36545</td>\n",
       "      <td>3.36545</td>\n",
       "      <td>3.365450</td>\n",
       "    </tr>\n",
       "    <tr>\n",
       "      <th>1XOO</th>\n",
       "      <td>1.58369</td>\n",
       "      <td>1.58369</td>\n",
       "      <td>1.58369</td>\n",
       "      <td>1.58369</td>\n",
       "      <td>1.58369</td>\n",
       "      <td>1.583690</td>\n",
       "      <td>1.58369</td>\n",
       "      <td>1.58369</td>\n",
       "      <td>1.583690</td>\n",
       "    </tr>\n",
       "    <tr>\n",
       "      <th>1XOP</th>\n",
       "      <td>1.61512</td>\n",
       "      <td>1.61512</td>\n",
       "      <td>1.61512</td>\n",
       "      <td>1.61512</td>\n",
       "      <td>1.61512</td>\n",
       "      <td>1.615120</td>\n",
       "      <td>1.61512</td>\n",
       "      <td>1.61512</td>\n",
       "      <td>1.615120</td>\n",
       "    </tr>\n",
       "    <tr>\n",
       "      <th>1Y32</th>\n",
       "      <td>0.845455</td>\n",
       "      <td>0.845455</td>\n",
       "      <td>0.845455</td>\n",
       "      <td>0.845455</td>\n",
       "      <td>0.845455</td>\n",
       "      <td>0.845455</td>\n",
       "      <td>0.845455</td>\n",
       "      <td>0.845455</td>\n",
       "      <td>0.845455</td>\n",
       "    </tr>\n",
       "  </tbody>\n",
       "</table>\n",
       "</div>"
      ],
      "text/plain": [
       "        APPTEST  PEPFold3     Type  Structured Region for RMSD calculation  \\\n",
       "Name                                                                         \n",
       "6X7I   0.410386  0.410386  0.410386                               0.410386   \n",
       "1MP6    1.66455   1.66455   1.66455                                1.66455   \n",
       "2MC7   0.332325  0.332325  0.332325                               0.332325   \n",
       "1A11   0.828944  0.828944  0.828944                               0.828944   \n",
       "1ALE   0.628961  0.628961  0.628961                               0.628961   \n",
       "1ALF    0.82962   0.82962   0.82962                                0.82962   \n",
       "1B9Q   0.501387  0.501387  0.501387                               0.501387   \n",
       "1BM4   0.350087  0.350087  0.350087                               0.350087   \n",
       "1BMX   0.343908  0.343908  0.343908                               0.343908   \n",
       "1CFG   0.448641  0.448641  0.448641                               0.448641   \n",
       "1DEP   0.477481  0.477481  0.477481                               0.477481   \n",
       "1DJF   0.741125  0.741125  0.741125                               0.741125   \n",
       "1EMZ     1.1596    1.1596    1.1596                                 1.1596   \n",
       "1FW5    2.75748   2.75748   2.75748                                2.75748   \n",
       "1HO2   0.530031  0.530031  0.530031                               0.530031   \n",
       "1HOD     2.1478    2.1478    2.1478                                 2.1478   \n",
       "1HOF   0.952262  0.952262  0.952262                               0.952262   \n",
       "1JDM   0.791464  0.791464  0.791464                               0.791464   \n",
       "1KDL   0.952266  0.952266  0.952266                               0.952266   \n",
       "1LBJ   0.302215  0.302215  0.302215                               0.302215   \n",
       "1LYP    1.17755   1.17755   1.17755                                1.17755   \n",
       "1M25    1.52534   1.52534   1.52534                                1.52534   \n",
       "1MOT    0.14943   0.14943   0.14943                                0.14943   \n",
       "1O53   0.439774  0.439774  0.439774                               0.439774   \n",
       "1ODP   0.588135  0.588135  0.588135                               0.588135   \n",
       "1OEG    1.33448   1.33448   1.33448                                1.33448   \n",
       "1P82   0.710975  0.710975  0.710975                               0.710975   \n",
       "1PLP    0.44975   0.44975   0.44975                                0.44975   \n",
       "1QG9   0.404151  0.404151  0.404151                               0.404151   \n",
       "1R7D   0.688216  0.688216  0.688216                               0.688216   \n",
       "1RKL     1.3264    1.3264    1.3264                                 1.3264   \n",
       "1SKH   0.319484  0.319484  0.319484                               0.319484   \n",
       "1SPF   0.691449  0.691449  0.691449                               0.691449   \n",
       "1T5Q    1.45489   1.45489   1.45489                                1.45489   \n",
       "1V4Z    3.47679   3.47679   3.47679                                3.47679   \n",
       "1VTP    1.01622   1.01622   1.01622                                1.01622   \n",
       "1XC0    3.36545   3.36545   3.36545                                3.36545   \n",
       "1XOO    1.58369   1.58369   1.58369                                1.58369   \n",
       "1XOP    1.61512   1.61512   1.61512                                1.61512   \n",
       "1Y32   0.845455  0.845455  0.845455                               0.845455   \n",
       "\n",
       "      FASTA Sequence    Length Description Unnamed: 8  AF2 min RMSD  \n",
       "Name                                                                 \n",
       "6X7I        0.410386  0.410386    0.410386   0.410386      0.410386  \n",
       "1MP6         1.66455  1.664550     1.66455    1.66455      1.664550  \n",
       "2MC7        0.332325  0.332325    0.332325   0.332325      0.332325  \n",
       "1A11        0.828944  0.828944    0.828944   0.828944      0.828944  \n",
       "1ALE        0.628961  0.628961    0.628961   0.628961      0.628961  \n",
       "1ALF         0.82962  0.829620     0.82962    0.82962      0.829620  \n",
       "1B9Q        0.501387  0.501387    0.501387   0.501387      0.501387  \n",
       "1BM4        0.350087  0.350087    0.350087   0.350087      0.350087  \n",
       "1BMX        0.343908  0.343908    0.343908   0.343908      0.343908  \n",
       "1CFG        0.448641  0.448641    0.448641   0.448641      0.448641  \n",
       "1DEP        0.477481  0.477481    0.477481   0.477481      0.477481  \n",
       "1DJF        0.741125  0.741125    0.741125   0.741125      0.741125  \n",
       "1EMZ          1.1596  1.159600      1.1596     1.1596      1.159600  \n",
       "1FW5         2.75748  2.757480     2.75748    2.75748      2.757480  \n",
       "1HO2        0.530031  0.530031    0.530031   0.530031      0.530031  \n",
       "1HOD          2.1478  2.147800      2.1478     2.1478      2.147800  \n",
       "1HOF        0.952262  0.952262    0.952262   0.952262      0.952262  \n",
       "1JDM        0.791464  0.791464    0.791464   0.791464      0.791464  \n",
       "1KDL        0.952266  0.952266    0.952266   0.952266      0.952266  \n",
       "1LBJ        0.302215  0.302215    0.302215   0.302215      0.302215  \n",
       "1LYP         1.17755  1.177550     1.17755    1.17755      1.177550  \n",
       "1M25         1.52534  1.525340     1.52534    1.52534      1.525340  \n",
       "1MOT         0.14943  0.149430     0.14943    0.14943      0.149430  \n",
       "1O53        0.439774  0.439774    0.439774   0.439774      0.439774  \n",
       "1ODP        0.588135  0.588135    0.588135   0.588135      0.588135  \n",
       "1OEG         1.33448  1.334480     1.33448    1.33448      1.334480  \n",
       "1P82        0.710975  0.710975    0.710975   0.710975      0.710975  \n",
       "1PLP         0.44975  0.449750     0.44975    0.44975      0.449750  \n",
       "1QG9        0.404151  0.404151    0.404151   0.404151      0.404151  \n",
       "1R7D        0.688216  0.688216    0.688216   0.688216      0.688216  \n",
       "1RKL          1.3264  1.326400      1.3264     1.3264      1.326400  \n",
       "1SKH        0.319484  0.319484    0.319484   0.319484      0.319484  \n",
       "1SPF        0.691449  0.691449    0.691449   0.691449      0.691449  \n",
       "1T5Q         1.45489  1.454890     1.45489    1.45489      1.454890  \n",
       "1V4Z         3.47679  3.476790     3.47679    3.47679      3.476790  \n",
       "1VTP         1.01622  1.016220     1.01622    1.01622      1.016220  \n",
       "1XC0         3.36545  3.365450     3.36545    3.36545      3.365450  \n",
       "1XOO         1.58369  1.583690     1.58369    1.58369      1.583690  \n",
       "1XOP         1.61512  1.615120     1.61512    1.61512      1.615120  \n",
       "1Y32        0.845455  0.845455    0.845455   0.845455      0.845455  "
      ]
     },
     "execution_count": 205,
     "metadata": {},
     "output_type": "execute_result"
    }
   ],
   "source": [
    "peptides.head(40)"
   ]
  },
  {
   "cell_type": "code",
   "execution_count": null,
   "id": "cf412a7b",
   "metadata": {},
   "outputs": [],
   "source": []
  }
 ],
 "metadata": {
  "kernelspec": {
   "display_name": "Python 3",
   "language": "python",
   "name": "python3"
  },
  "language_info": {
   "codemirror_mode": {
    "name": "ipython",
    "version": 3
   },
   "file_extension": ".py",
   "mimetype": "text/x-python",
   "name": "python",
   "nbconvert_exporter": "python",
   "pygments_lexer": "ipython3",
   "version": "3.8.8"
  }
 },
 "nbformat": 4,
 "nbformat_minor": 5
}
