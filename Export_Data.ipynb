{
 "cells": [
  {
   "cell_type": "code",
   "execution_count": 1,
   "id": "a35b2f4c",
   "metadata": {},
   "outputs": [],
   "source": [
    "import numpy as np\n",
    "import pandas as pd\n",
    "import string\n",
    "import os\n",
    "import matplotlib.pyplot as plt\n",
    "import scipy.stats as stats\n",
    "import statistics\n",
    "import math"
   ]
  },
  {
   "cell_type": "code",
   "execution_count": 2,
   "id": "8e58bf09",
   "metadata": {},
   "outputs": [],
   "source": [
    "#OG list\n",
    "AH_MP_ids = ['6X7I','1MP6','2MC7','1A11','1ALE','1ALF','1B9Q','1BM4','1BMX','1CFG','1DEP','1DJF','1EMZ','1FW5','1HO2','1HOD','1HOF','1JDM','1KDL','1LBJ','1LYP','1M25','1MOT','1O53','1ODP','1OEG','1P82','1PLP','1QG9','1R7D','1RKL','1SKH','1SPF','1T5Q','1V4Z','1VTP','1XC0','1XOO','1XOP','1Y32','1Z2T','1Z65','1ZRV','2AP7','2B0Y','2B19','2DCI','2DTB','2FXY','2FXZ','2G9L','2G9P','2GD3','2HN8','2JMY','2JOS','2JPK','2JTW','2JUI','2JXF','2K10','2K44','2K58','2K59','2K6O','2K8J','2K98','2KDR','2KEH','2KFE','2KGN','2KHF','2KI9','2KIT','2KJN','2KNS','2KV5','2KWZ','2KZQ','2L36','2L4G','2L5R','2L63','2L77','2LAT','2LBG','2LCM','2LIF','2LMF','2LQY','2LUG','2LUV','2LX0','2LZP','2LZQ','2M0H','2M0W','2M8M', '2MCE','2ME1','2MG1','2MG2','2MHW','2MJ2','2MLU','2MMM','2MKB','2MUA','2MUE','2MVH','2MVJ','2MWT','2N1C','2N1P','2N58','2N6M','2N92','2N9C','2NCS','2NCU','2NCW','2NCX','2NCY','2NR1','2OJM','2OJN','2OJO','2PCO','2PV6','2RLH','2RLW','2RMG','2RMH','2RMY','2RQ2','2RRH','3LEU','3MRA','4B19','5H2S','5I4G','5LBJ','5NDA','5UJQ','5UJR','5XDJ','5Y22','5Z1Y','6A5J','6A8Y','6AHZ','6B3U','6BJF','6CFA','6CSK','6CSZ','6CT1','6CT4','6DST','6FS5','6GIF','6GIG','6GNZ','6GO0','6GS9','6HN9','6HZ2','6IHA','6MBM','6RRL','6RRO','6TWG','6VLA','6YHF','7ASY','7AT7','7ATB','7B2F','7BX2','7CK5','7DEH','7L83','7NS1','7OVZ','7P4X','7ZBS','1HLL']\n",
    "AH_SL_ids = ['1AMB','1BY0','1DSK','1DTC','1FVY','1MF6','1Q2F','1VD7','1VD8','1VD9','1VDA','1W1N','1WN4','1WN8','1WNK','1WNM','1WNN','1YYB','1ZWD','2BN6','2GP8','2I9M','2IV5','2IV6','2KJM','2KPB','2LMA','2LQ0','2LQ1','2LQ2','2M1A','2M3F','2MRW','2MU6','2MU7','2MU9','2MUJ','2OVN','2PPZ','5TX8','6R2X']\n",
    "BHPIN_ids = ['1K43', '1B1V','1BQF','1E0L','1E0M','1E0N','1EGT','1FGD','1FGE','1G04','1HRL','1I6C',  '1LFC','1NIZ','1TMR','1U0P','1U6V','1V28','2DJ9','2DJC','2EQH','2ESZ','2EVQ','2JN5','2JNI','2JQW','2JSB','2L07','2M9E','2M9I','2MDL','2MMT','2MMW','2MW3','2MW9','2MWA','2MWB','2MWD','2MWE','2MWF','2N4R','2N4S','2N4T','2N4U','2N4V','2N4W','2N68','2OP7','2ORU','2RT4','5KKM','5M9U','5XO3','5Y0H','6AAB','6AFQ','6EE9','6FGM','7K1M']\n",
    "DSRP_ids = ['2UVS','1ACW','1AGT','1AXH','1AZJ','1BGK','1BNB','1C49','1CMR','1D1H','1D5Q','1DEC','1DU9','1E4Q','1E4R','1E4S','1E4T','1EI0','1EMX','1ERC','1ERD','1ERP','1ERY','1EWS','1F3K','1FEO','1FJN','1FSB','1FU3','1FYG','1G26','1H20','1HD6','1HLY','1HP2','1HP3','1HP9','1HTX','1HVW','1I26','1IM1','1IXT','1J5J','1K0P','1KAL','1KGM','1KWE','1LA4','1LGL','1M2S','1M4E','1M4F','1MM0','1MMC','1MR0','1MTX','1N1U','1N5G','1N8M','1NB1','1NBJ','1OIG','1ORX','1P8B','1PJV','1PMC','1PNH','1PT4','1PVZ','1Q2K','1QFD','1QGM','1QKY','1RJI','1ROO','1RPC','1S6W','1S6X','1SCO','1SP7','1SRB','1TSK','1TV0','1TYK','1UT3','1V5A','1V6R','1WM7','1WM8','1WPD','1WQB','1WQC','1WQD','1WQE','1WT8','1X7K','1Y29','1YP8','1ZFU','1ZJQ','1ZUV','2A2V','2AAP','2B5B','2BBG','2CBH','2CK4','2DDL','2EEM','2EFZ','2F2I','2F2J','2FQA','2G6U','2GW9','2GX1','2H1Z','2HLG','2I1T','2IT7','2JTB','2K1I','2K2Y','2K4U','2K72','2K9O','2KEF','2KGU','2KHB','2KIR','2KM9','2KOZ','2KP0','2KTX','2KUS','2KYJ','2L1J','2L1Q','2L2R','2LDE','2LDF','2LDS','2LEW','2LEY','2LG4','2LG6','2LI3','2LL1','2LLD','2LS1','2LSQ','2LXZ','2LZO','2M2Q','2M3J','2M6A','2M7T','2M9L','2MAU','2MBD','2MFS','2MIX','2MLA','2MLD','2MM5','2MM6','2MPQ','2MQU','2MSF','2MIX','2ML7','2MT7','2MW7','2N2G','2N2S','2N5Q','2N6B','2N6N','2N6O','2N9T','2NAJ','2NB2','2ND3','2NX7','2PTA','2RR0','2RTY','2RTZ','2RU0','2V1V','2WH9','3BBG','4B2U','4B2V','5FZX','5I1X','5I2P','5JHI','5JI4','5L1C','5LM0','5T3M','5T4R','5UJH','5V0Y','5V11','5WE3','5WXE','5X34','5Y0I','5Y0J','6BUC','6CEI','6CFB','6CKD','6CKF','6D3T','6D8H','6D8Q','6D8R','6D8S','6D8T','6D8U','6D8Y','6D93','6D9O','6D9P','6DHR','6E1L','6EFE','6F61','6K50','6K51','6KRA','6LF5','6MJV','6MK4','6MK5','6MZT','6NK9','6NUG','6NW8','6OFA','6PPC','6QJB','6QKF','6SAA','6SAB','6VH8','6VNZ','6XYH','7ALD','7EDK','7ELY','7JIA','7JIY','7KPD','7L7A','7LQR','7LZL','7N0T','7N23','7OD2','7RC7','7SAG','7SKC','7TH8']\n",
    "MIX_MP_ids = ['1CW6','1JRJ','1MEQ','1SOL','2L3I','2LE7','2LKE','2M1J','2NAT','2NB8','2NCV','5L82','5T7Q','6FS4']\n",
    "MIX_SL_ids = ['1BBA','1BHI','1FME','1FSD','1L2Y','1LB7','1PSV','1RIJ','1RIK','1RIM','1S4T','1V1D','1WZ4','2BBL','2JOF','2K76','2KI0','2L5I','2LL2','2LWB','2MTW']"
   ]
  },
  {
   "cell_type": "code",
   "execution_count": 2,
   "id": "cc7211fd",
   "metadata": {},
   "outputs": [],
   "source": [
    "def find_models(NMR_structs, list_of_RMSDs):\n",
    "    x = np.array(list_of_RMSDs)\n",
    "    loc = list(np.where(x == min(x)))\n",
    "    print('AF model: ' + str(math.floor(loc.pop()/NMR_structs)))\n",
    "    loc = list(np.where(x == min(x)))\n",
    "    print('NMR model: ' + str(loc.pop()%NMR_structs))"
   ]
  },
  {
   "cell_type": "code",
   "execution_count": 44,
   "id": "88d52618",
   "metadata": {},
   "outputs": [],
   "source": []
  },
  {
   "cell_type": "code",
   "execution_count": 16,
   "id": "d0fb4bf9",
   "metadata": {},
   "outputs": [],
   "source": [
    "AF_path = '../AlphaFold_Predictions/RMSD_Calculations/AH_MP_ss/'\n",
    "AF_files = os.listdir(AF_path)\n",
    "AF_AH_MP_rmsds = {}\n",
    "for i in AH_MP_ids:\n",
    "    AF_AH_MP_rmsds[i] = []\n",
    "    \n",
    "for j in AH_MP_ids:\n",
    "    rmsds = []\n",
    "    with open(AF_path+j+'_RMSD.txt', encoding = \"ISO-8859-1\") as f:\n",
    "        lines = f.readlines()\n",
    "        for i in lines:\n",
    "            rmsds.append(float(i.split(' ')[1]))\n",
    "    AF_AH_MP_rmsds[j.split('_')[0]] = rmsds\n",
    "    \n",
    "AF_AH_MP_avg_rmsds = {}\n",
    "AF_AH_MP_min_rmsds = {}\n",
    "AF_AH_MP_max_rmsds = {}\n",
    "AF_AH_MP_std_rmsds = {}\n",
    "for i in AH_MP_ids:\n",
    "    AF_AH_MP_avg_rmsds[i] = []\n",
    "    AF_AH_MP_min_rmsds[i] = []\n",
    "    AF_AH_MP_max_rmsds[i] = []\n",
    "    AF_AH_MP_std_rmsds[i] = []\n",
    "\n",
    "for i,vals in AF_AH_MP_rmsds.items():\n",
    "    AF_AH_MP_avg_rmsds[i] = (np.mean(vals))\n",
    "    AF_AH_MP_min_rmsds[i] = (np.amin(vals))\n",
    "    AF_AH_MP_max_rmsds[i] = (np.amax(vals))\n",
    "    AF_AH_MP_std_rmsds[i] = (np.std(vals))"
   ]
  },
  {
   "cell_type": "code",
   "execution_count": 17,
   "id": "b76facf3",
   "metadata": {},
   "outputs": [],
   "source": [
    "for i,val in AF_AH_MP_avg_rmsds.items():\n",
    "    AF_AH_MP_avg_rmsds[i] = val/peps.loc[i]['len']\n",
    "for i,val in AF_AH_MP_min_rmsds.items():\n",
    "    AF_AH_MP_min_rmsds[i] = val/peps.loc[i]['len']\n",
    "for i,val in AF_AH_MP_max_rmsds.items():\n",
    "    AF_AH_MP_max_rmsds[i] = val/peps.loc[i]['len']\n",
    "for i,val in AF_AH_MP_std_rmsds.items():\n",
    "    AF_AH_MP_std_rmsds[i] = val/peps.loc[i]['len']"
   ]
  },
  {
   "cell_type": "code",
   "execution_count": 10,
   "id": "e61cbf85",
   "metadata": {},
   "outputs": [],
   "source": [
    "AF_path = '../AlphaFold_Predictions/RMSD_Calculations/AH_SL_ss/'\n",
    "AF_files = os.listdir(AF_path)\n",
    "AF_AH_SL_rmsds = {}\n",
    "for i in AH_SL_ids:\n",
    "    AF_AH_SL_rmsds[i] = []\n",
    "    \n",
    "for j in AH_SL_ids:\n",
    "    rmsds = []\n",
    "    with open(AF_path+j+'_RMSD.txt', encoding = \"ISO-8859-1\") as f:\n",
    "        lines = f.readlines()\n",
    "        for i in lines:\n",
    "            rmsds.append(float(i.split(' ')[1]))\n",
    "    AF_AH_SL_rmsds[j.split('_')[0]] = rmsds\n",
    "    \n",
    "AF_AH_SL_avg_rmsds = {}\n",
    "AF_AH_SL_min_rmsds = {}\n",
    "AF_AH_SL_max_rmsds = {}\n",
    "AF_AH_SL_std_rmsds = {}\n",
    "for i in AH_SL_ids:\n",
    "    AF_AH_SL_avg_rmsds[i] = []\n",
    "    AF_AH_SL_min_rmsds[i] = []\n",
    "    AF_AH_SL_max_rmsds[i] = []\n",
    "    AF_AH_SL_std_rmsds[i] = []\n",
    "\n",
    "for i,vals in AF_AH_SL_rmsds.items():\n",
    "    AF_AH_SL_avg_rmsds[i] = (np.mean(vals))\n",
    "    AF_AH_SL_min_rmsds[i] = (np.amin(vals))\n",
    "    AF_AH_SL_max_rmsds[i] = (np.amax(vals))\n",
    "    AF_AH_SL_std_rmsds[i] = (np.std(vals))"
   ]
  },
  {
   "cell_type": "code",
   "execution_count": 18,
   "id": "5d5e2a05",
   "metadata": {},
   "outputs": [],
   "source": [
    "for i,val in AF_AH_SL_avg_rmsds.items():\n",
    "    AF_AH_SL_avg_rmsds[i] = val/peps.loc[i]['len']\n",
    "for i,val in AF_AH_SL_min_rmsds.items():\n",
    "    AF_AH_SL_min_rmsds[i] = val/peps.loc[i]['len']\n",
    "for i,val in AF_AH_SL_max_rmsds.items():\n",
    "    AF_AH_SL_max_rmsds[i] = val/peps.loc[i]['len']\n",
    "for i,val in AF_AH_SL_std_rmsds.items():\n",
    "    AF_AH_SL_std_rmsds[i] = val/peps.loc[i]['len']"
   ]
  },
  {
   "cell_type": "code",
   "execution_count": 11,
   "id": "7851729b",
   "metadata": {},
   "outputs": [],
   "source": [
    "AF_path = '../AlphaFold_Predictions/RMSD_Calculations/MIX_MP_ss/'\n",
    "AF_files = os.listdir(AF_path)\n",
    "AF_MIX_MP_rmsds = {}\n",
    "for i in MIX_MP_ids:\n",
    "    AF_MIX_MP_rmsds[i] = []\n",
    "    \n",
    "for j in MIX_MP_ids:\n",
    "    rmsds = []\n",
    "    with open(AF_path+j+'_RMSD.txt', encoding = \"ISO-8859-1\") as f:\n",
    "        lines = f.readlines()\n",
    "        for i in lines:\n",
    "            rmsds.append(float(i.split(' ')[1]))\n",
    "    AF_MIX_MP_rmsds[j.split('_')[0]] = rmsds\n",
    "    \n",
    "AF_MIX_MP_avg_rmsds = {}\n",
    "AF_MIX_MP_min_rmsds = {}\n",
    "AF_MIX_MP_max_rmsds = {}\n",
    "AF_MIX_MP_std_rmsds = {}\n",
    "for i in MIX_MP_ids:\n",
    "    AF_MIX_MP_avg_rmsds[i] = []\n",
    "    AF_MIX_MP_min_rmsds[i] = []\n",
    "    AF_MIX_MP_max_rmsds[i] = []\n",
    "    AF_MIX_MP_std_rmsds[i] = []\n",
    "\n",
    "for i,vals in AF_MIX_MP_rmsds.items():\n",
    "    AF_MIX_MP_avg_rmsds[i] = (np.mean(vals))\n",
    "    AF_MIX_MP_min_rmsds[i] = (np.amin(vals))\n",
    "    AF_MIX_MP_max_rmsds[i] = (np.amax(vals))\n",
    "    AF_MIX_MP_std_rmsds[i] = (np.std(vals))"
   ]
  },
  {
   "cell_type": "code",
   "execution_count": 19,
   "id": "beafe96f",
   "metadata": {},
   "outputs": [],
   "source": [
    "for i,val in AF_MIX_MP_avg_rmsds.items():\n",
    "    AF_MIX_MP_avg_rmsds[i] = val/peps.loc[i]['len']\n",
    "for i,val in AF_MIX_MP_min_rmsds.items():\n",
    "    AF_MIX_MP_min_rmsds[i] = val/peps.loc[i]['len']\n",
    "for i,val in AF_MIX_MP_max_rmsds.items():\n",
    "    AF_MIX_MP_max_rmsds[i] = val/peps.loc[i]['len']\n",
    "for i,val in AF_MIX_MP_std_rmsds.items():\n",
    "    AF_MIX_MP_std_rmsds[i] = val/peps.loc[i]['len']"
   ]
  },
  {
   "cell_type": "code",
   "execution_count": 12,
   "id": "a0152942",
   "metadata": {},
   "outputs": [],
   "source": [
    "AF_path = '../AlphaFold_Predictions/RMSD_Calculations/MIX_SL_ss/'\n",
    "AF_files = os.listdir(AF_path)\n",
    "AF_MIX_SL_rmsds = {}\n",
    "for i in MIX_SL_ids:\n",
    "    AF_MIX_SL_rmsds[i] = []\n",
    "    \n",
    "for j in MIX_SL_ids:\n",
    "    rmsds = []\n",
    "    with open(AF_path+j+'_RMSD.txt', encoding = \"ISO-8859-1\") as f:\n",
    "        lines = f.readlines()\n",
    "        for i in lines:\n",
    "            rmsds.append(float(i.split(' ')[1]))\n",
    "    AF_MIX_SL_rmsds[j.split('_')[0]] = rmsds\n",
    "    \n",
    "AF_MIX_SL_avg_rmsds = {}\n",
    "AF_MIX_SL_min_rmsds = {}\n",
    "AF_MIX_SL_max_rmsds = {}\n",
    "AF_MIX_SL_std_rmsds = {}\n",
    "for i in MIX_SL_ids:\n",
    "    AF_MIX_SL_avg_rmsds[i] = []\n",
    "    AF_MIX_SL_min_rmsds[i] = []\n",
    "    AF_MIX_SL_max_rmsds[i] = []\n",
    "    AF_MIX_SL_std_rmsds[i] = []\n",
    "\n",
    "for i,vals in AF_MIX_SL_rmsds.items():\n",
    "    AF_MIX_SL_avg_rmsds[i] = (np.mean(vals))\n",
    "    AF_MIX_SL_min_rmsds[i] = (np.amin(vals))\n",
    "    AF_MIX_SL_max_rmsds[i] = (np.amax(vals))\n",
    "    AF_MIX_SL_std_rmsds[i] = (np.std(vals))"
   ]
  },
  {
   "cell_type": "code",
   "execution_count": 20,
   "id": "ea64d272",
   "metadata": {},
   "outputs": [],
   "source": [
    "for i,val in AF_MIX_SL_avg_rmsds.items():\n",
    "    AF_MIX_SL_avg_rmsds[i] = val/peps.loc[i]['len']\n",
    "for i,val in AF_MIX_SL_min_rmsds.items():\n",
    "    AF_MIX_SL_min_rmsds[i] = val/peps.loc[i]['len']\n",
    "for i,val in AF_MIX_SL_max_rmsds.items():\n",
    "    AF_MIX_SL_max_rmsds[i] = val/peps.loc[i]['len']\n",
    "for i,val in AF_MIX_SL_std_rmsds.items():\n",
    "    AF_MIX_SL_std_rmsds[i] = val/peps.loc[i]['len']"
   ]
  },
  {
   "cell_type": "code",
   "execution_count": 13,
   "id": "34ea5b7c",
   "metadata": {},
   "outputs": [],
   "source": [
    "AF_path = '../AlphaFold_Predictions/RMSD_Calculations/BHPIN_ss/'\n",
    "AF_files = os.listdir(AF_path)\n",
    "AF_BHPIN_rmsds = {}\n",
    "for i in BHPIN_ids:\n",
    "    AF_BHPIN_rmsds[i] = []\n",
    "    \n",
    "for j in BHPIN_ids:\n",
    "    rmsds = []\n",
    "    with open(AF_path+j+'_RMSD.txt', encoding = \"ISO-8859-1\") as f:\n",
    "        lines = f.readlines()\n",
    "        for i in lines:\n",
    "            rmsds.append(float(i.split(' ')[1]))\n",
    "    AF_BHPIN_rmsds[j.split('_')[0]] = rmsds\n",
    "    \n",
    "AF_BHPIN_avg_rmsds = {}\n",
    "AF_BHPIN_min_rmsds = {}\n",
    "AF_BHPIN_max_rmsds = {}\n",
    "AF_BHPIN_std_rmsds = {}\n",
    "for i in BHPIN_ids:\n",
    "    AF_BHPIN_avg_rmsds[i] = []\n",
    "    AF_BHPIN_min_rmsds[i] = []\n",
    "    AF_BHPIN_max_rmsds[i] = []\n",
    "    AF_BHPIN_std_rmsds[i] = []\n",
    "\n",
    "for i,vals in AF_BHPIN_rmsds.items():\n",
    "    AF_BHPIN_avg_rmsds[i] = (np.mean(vals))\n",
    "    AF_BHPIN_min_rmsds[i] = (np.amin(vals))\n",
    "    AF_BHPIN_max_rmsds[i] = (np.amax(vals))\n",
    "    AF_BHPIN_std_rmsds[i] = (np.std(vals))"
   ]
  },
  {
   "cell_type": "code",
   "execution_count": 21,
   "id": "9ec58754",
   "metadata": {},
   "outputs": [],
   "source": [
    "for i,val in AF_BHPIN_avg_rmsds.items():\n",
    "    AF_BHPIN_avg_rmsds[i] = val/peps.loc[i]['len']\n",
    "for i,val in AF_BHPIN_min_rmsds.items():\n",
    "    AF_BHPIN_min_rmsds[i] = val/peps.loc[i]['len']\n",
    "for i,val in AF_BHPIN_max_rmsds.items():\n",
    "    AF_BHPIN_max_rmsds[i] = val/peps.loc[i]['len']\n",
    "for i,val in AF_BHPIN_std_rmsds.items():\n",
    "    AF_BHPIN_std_rmsds[i] = val/peps.loc[i]['len']"
   ]
  },
  {
   "cell_type": "code",
   "execution_count": 14,
   "id": "fa059f47",
   "metadata": {},
   "outputs": [],
   "source": [
    "AF_path = '../AlphaFold_Predictions/RMSD_Calculations/DSRP_ss/'\n",
    "AF_files = os.listdir(AF_path)\n",
    "AF_DSRP_rmsds = {}\n",
    "for i in DSRP_ids:\n",
    "    AF_DSRP_rmsds[i] = []\n",
    "    \n",
    "for j in DSRP_ids:\n",
    "    rmsds = []\n",
    "    with open(AF_path+j+'_RMSD.txt', encoding = \"ISO-8859-1\") as f:\n",
    "        lines = f.readlines()\n",
    "        for i in lines:\n",
    "            rmsds.append(float(i.split(' ')[1]))\n",
    "    AF_DSRP_rmsds[j.split('_')[0]] = rmsds\n",
    "    \n",
    "AF_DSRP_avg_rmsds = {}\n",
    "AF_DSRP_min_rmsds = {}\n",
    "AF_DSRP_max_rmsds = {}\n",
    "AF_DSRP_std_rmsds = {}\n",
    "for i in DSRP_ids:\n",
    "    AF_DSRP_avg_rmsds[i] = []\n",
    "    AF_DSRP_min_rmsds[i] = []\n",
    "    AF_DSRP_max_rmsds[i] = []\n",
    "    AF_DSRP_std_rmsds[i] = []\n",
    "\n",
    "for i,vals in AF_DSRP_rmsds.items():\n",
    "    AF_DSRP_avg_rmsds[i] = (np.mean(vals))\n",
    "    AF_DSRP_min_rmsds[i] = (np.amin(vals))\n",
    "    AF_DSRP_max_rmsds[i] = (np.amax(vals))\n",
    "    AF_DSRP_std_rmsds[i] = (np.std(vals))"
   ]
  },
  {
   "cell_type": "code",
   "execution_count": 22,
   "id": "558faa79",
   "metadata": {},
   "outputs": [],
   "source": [
    "for i,val in AF_DSRP_avg_rmsds.items():\n",
    "    AF_DSRP_avg_rmsds[i] = val/peps.loc[i]['len']\n",
    "for i,val in AF_DSRP_min_rmsds.items():\n",
    "    AF_DSRP_min_rmsds[i] = val/peps.loc[i]['len']\n",
    "for i,val in AF_DSRP_max_rmsds.items():\n",
    "    AF_DSRP_max_rmsds[i] = val/peps.loc[i]['len']\n",
    "for i,val in AF_DSRP_std_rmsds.items():\n",
    "    AF_DSRP_std_rmsds[i] = val/peps.loc[i]['len']"
   ]
  },
  {
   "cell_type": "markdown",
   "id": "1e0cb0fd",
   "metadata": {},
   "source": [
    "## concatonate date from each peptide class"
   ]
  },
  {
   "cell_type": "code",
   "execution_count": 27,
   "id": "2b20f07c",
   "metadata": {},
   "outputs": [],
   "source": [
    "AF_mins =  AF_AH_MP_min_rmsds\n",
    "AF_mins.update(AF_AH_SL_min_rmsds)\n",
    "AF_mins.update(AF_MIX_MP_min_rmsds)\n",
    "AF_mins.update(AF_MIX_SL_min_rmsds)\n",
    "AF_mins.update(AF_BHPIN_min_rmsds)\n",
    "AF_mins.update(AF_DSRP_min_rmsds)"
   ]
  },
  {
   "cell_type": "code",
   "execution_count": 29,
   "id": "0ac6ee04",
   "metadata": {},
   "outputs": [],
   "source": [
    "AF_avgs =  AF_AH_MP_avg_rmsds\n",
    "AF_avgs.update(AF_AH_SL_avg_rmsds)\n",
    "AF_avgs.update(AF_MIX_MP_avg_rmsds)\n",
    "AF_avgs.update(AF_MIX_SL_avg_rmsds)\n",
    "AF_avgs.update(AF_BHPIN_avg_rmsds)\n",
    "AF_avgs.update(AF_DSRP_avg_rmsds)"
   ]
  },
  {
   "cell_type": "code",
   "execution_count": 30,
   "id": "e738622c",
   "metadata": {},
   "outputs": [],
   "source": [
    "AF_maxs =  AF_AH_MP_max_rmsds\n",
    "AF_maxs.update(AF_AH_SL_max_rmsds)\n",
    "AF_maxs.update(AF_MIX_MP_max_rmsds)\n",
    "AF_maxs.update(AF_MIX_SL_max_rmsds)\n",
    "AF_maxs.update(AF_BHPIN_max_rmsds)\n",
    "AF_maxs.update(AF_DSRP_max_rmsds)"
   ]
  },
  {
   "cell_type": "code",
   "execution_count": 31,
   "id": "f2c6806d",
   "metadata": {},
   "outputs": [],
   "source": [
    "AF_stds =  AF_AH_MP_std_rmsds\n",
    "AF_stds.update(AF_AH_SL_std_rmsds)\n",
    "AF_stds.update(AF_MIX_MP_std_rmsds)\n",
    "AF_stds.update(AF_MIX_SL_std_rmsds)\n",
    "AF_stds.update(AF_BHPIN_std_rmsds)\n",
    "AF_stds.update(AF_DSRP_std_rmsds)"
   ]
  },
  {
   "cell_type": "markdown",
   "id": "c1093f83",
   "metadata": {},
   "source": [
    "## put all the data into the peptide dataframe"
   ]
  },
  {
   "cell_type": "code",
   "execution_count": 3,
   "id": "7a62a03d",
   "metadata": {},
   "outputs": [],
   "source": [
    "peptides = pd.read_excel('new_peptide_set_EFM_sorted_no_duplicates.xlsx')"
   ]
  },
  {
   "cell_type": "code",
   "execution_count": 4,
   "id": "150166a6",
   "metadata": {},
   "outputs": [],
   "source": [
    "peps = pd.DataFrame()\n",
    "peps['ID'] = peptides['Name '].dropna()\n",
    "peps['start'] =  [int(i.split('-')[0]) for i in peptides['Structured Region for RMSD calculation'].dropna()]\n",
    "peps['end'] =  [int(i.split('-')[1]) for i in peptides['Structured Region for RMSD calculation'].dropna()]\n",
    "peps['len'] = peps['end'] - peps['start']\n",
    "peps.set_index('ID', inplace=True)"
   ]
  },
  {
   "cell_type": "code",
   "execution_count": 5,
   "id": "4469fd41",
   "metadata": {},
   "outputs": [],
   "source": [
    "peptides.set_index('Name ', inplace=True)"
   ]
  },
  {
   "cell_type": "code",
   "execution_count": 11,
   "id": "110f1043",
   "metadata": {},
   "outputs": [],
   "source": [
    "BHIPN_df = peptides[peptides['Type '] == 'BHPIN']"
   ]
  },
  {
   "cell_type": "code",
   "execution_count": 16,
   "id": "be493840",
   "metadata": {},
   "outputs": [],
   "source": [
    "stap = 0\n",
    "not_stap = 0\n",
    "for i in BHIPN_df['FASTA Sequence']:\n",
    "    if i.count('C') == 2:\n",
    "        stap += 1\n",
    "    else:\n",
    "        not_stap += 1"
   ]
  },
  {
   "cell_type": "code",
   "execution_count": 17,
   "id": "20254c17",
   "metadata": {},
   "outputs": [
    {
     "data": {
      "text/plain": [
       "26"
      ]
     },
     "execution_count": 17,
     "metadata": {},
     "output_type": "execute_result"
    }
   ],
   "source": [
    "stap"
   ]
  },
  {
   "cell_type": "code",
   "execution_count": 18,
   "id": "9ab20959",
   "metadata": {},
   "outputs": [
    {
     "data": {
      "text/plain": [
       "33"
      ]
     },
     "execution_count": 18,
     "metadata": {},
     "output_type": "execute_result"
    }
   ],
   "source": [
    "not_stap"
   ]
  },
  {
   "cell_type": "code",
   "execution_count": 19,
   "id": "7021a054",
   "metadata": {},
   "outputs": [
    {
     "data": {
      "text/plain": [
       "59"
      ]
     },
     "execution_count": 19,
     "metadata": {},
     "output_type": "execute_result"
    }
   ],
   "source": [
    "26+33"
   ]
  },
  {
   "cell_type": "code",
   "execution_count": null,
   "id": "1873dfa6",
   "metadata": {},
   "outputs": [],
   "source": []
  },
  {
   "cell_type": "code",
   "execution_count": null,
   "id": "02de2fd5",
   "metadata": {},
   "outputs": [],
   "source": []
  },
  {
   "cell_type": "code",
   "execution_count": 68,
   "id": "4671bc9f",
   "metadata": {},
   "outputs": [],
   "source": [
    "peptides['AF2 min RMSD'] = np.zeros(len(peptides))\n",
    "peptides['AF2 max RMSD'] = np.zeros(len(peptides))\n",
    "peptides['AF2 avg RMSD'] = np.zeros(len(peptides))\n",
    "peptides['AF2 std RMSD'] = np.zeros(len(peptides))"
   ]
  },
  {
   "cell_type": "code",
   "execution_count": 69,
   "id": "a57804fe",
   "metadata": {},
   "outputs": [
    {
     "data": {
      "text/html": [
       "<div>\n",
       "<style scoped>\n",
       "    .dataframe tbody tr th:only-of-type {\n",
       "        vertical-align: middle;\n",
       "    }\n",
       "\n",
       "    .dataframe tbody tr th {\n",
       "        vertical-align: top;\n",
       "    }\n",
       "\n",
       "    .dataframe thead th {\n",
       "        text-align: right;\n",
       "    }\n",
       "</style>\n",
       "<table border=\"1\" class=\"dataframe\">\n",
       "  <thead>\n",
       "    <tr style=\"text-align: right;\">\n",
       "      <th></th>\n",
       "      <th>APPTEST</th>\n",
       "      <th>PEPFold3</th>\n",
       "      <th>Type</th>\n",
       "      <th>Structured Region for RMSD calculation</th>\n",
       "      <th>FASTA Sequence</th>\n",
       "      <th>Length</th>\n",
       "      <th>Description</th>\n",
       "      <th>Unnamed: 8</th>\n",
       "      <th>AF2 min RMSD</th>\n",
       "      <th>AF2 max RMSD</th>\n",
       "      <th>AF2 avg RMSD</th>\n",
       "      <th>AF2 std RMSD</th>\n",
       "    </tr>\n",
       "    <tr>\n",
       "      <th>Name</th>\n",
       "      <th></th>\n",
       "      <th></th>\n",
       "      <th></th>\n",
       "      <th></th>\n",
       "      <th></th>\n",
       "      <th></th>\n",
       "      <th></th>\n",
       "      <th></th>\n",
       "      <th></th>\n",
       "      <th></th>\n",
       "      <th></th>\n",
       "      <th></th>\n",
       "    </tr>\n",
       "  </thead>\n",
       "  <tbody>\n",
       "    <tr>\n",
       "      <th>6X7I</th>\n",
       "      <td>✓</td>\n",
       "      <td>✓</td>\n",
       "      <td>AH_MP</td>\n",
       "      <td>213-233</td>\n",
       "      <td>GQERFNRWFLTGMTVAGVVLLGSLFSRK</td>\n",
       "      <td>28.0</td>\n",
       "      <td>Structure of the C-terminal domain of BCL-XL i...</td>\n",
       "      <td>NaN</td>\n",
       "      <td>0.0</td>\n",
       "      <td>0.0</td>\n",
       "      <td>0.0</td>\n",
       "      <td>0.0</td>\n",
       "    </tr>\n",
       "    <tr>\n",
       "      <th>1MP6</th>\n",
       "      <td>✓</td>\n",
       "      <td>✓</td>\n",
       "      <td>AH_MP</td>\n",
       "      <td>22-46</td>\n",
       "      <td>SSDPLVVAASIIGILHLILWILDRL</td>\n",
       "      <td>25.0</td>\n",
       "      <td>Structure of the transmembrane region of the M...</td>\n",
       "      <td>NaN</td>\n",
       "      <td>0.0</td>\n",
       "      <td>0.0</td>\n",
       "      <td>0.0</td>\n",
       "      <td>0.0</td>\n",
       "    </tr>\n",
       "    <tr>\n",
       "      <th>2MC7</th>\n",
       "      <td>✓</td>\n",
       "      <td>✓</td>\n",
       "      <td>AH_MP</td>\n",
       "      <td>6-27</td>\n",
       "      <td>MNRSPDKIIALIFLLISLLVLCLALWQIVF</td>\n",
       "      <td>30.0</td>\n",
       "      <td>Structure of Salmonella MgtR</td>\n",
       "      <td>NaN</td>\n",
       "      <td>0.0</td>\n",
       "      <td>0.0</td>\n",
       "      <td>0.0</td>\n",
       "      <td>0.0</td>\n",
       "    </tr>\n",
       "    <tr>\n",
       "      <th>1A11</th>\n",
       "      <td>✓</td>\n",
       "      <td>NaN</td>\n",
       "      <td>AH_MP</td>\n",
       "      <td>1-25</td>\n",
       "      <td>GSEKMSTAISVLLAQAVFLLLTSQR</td>\n",
       "      <td>25.0</td>\n",
       "      <td>NMR STRUCTURE OF MEMBRANE SPANNING SEGMENT 2 O...</td>\n",
       "      <td>NaN</td>\n",
       "      <td>0.0</td>\n",
       "      <td>0.0</td>\n",
       "      <td>0.0</td>\n",
       "      <td>0.0</td>\n",
       "    </tr>\n",
       "    <tr>\n",
       "      <th>1ALE</th>\n",
       "      <td>✓</td>\n",
       "      <td>✓</td>\n",
       "      <td>AH_MP</td>\n",
       "      <td>3-16</td>\n",
       "      <td>ALDKLKEFGNTLEDKARE</td>\n",
       "      <td>18.0</td>\n",
       "      <td>CONFORMATION OF TWO PEPTIDES CORRESPONDING TO ...</td>\n",
       "      <td>NaN</td>\n",
       "      <td>0.0</td>\n",
       "      <td>0.0</td>\n",
       "      <td>0.0</td>\n",
       "      <td>0.0</td>\n",
       "    </tr>\n",
       "  </tbody>\n",
       "</table>\n",
       "</div>"
      ],
      "text/plain": [
       "      APPTEST PEPFold3  Type  Structured Region for RMSD calculation  \\\n",
       "Name                                                                   \n",
       "6X7I        ✓        ✓  AH_MP                                213-233   \n",
       "1MP6        ✓        ✓  AH_MP                                  22-46   \n",
       "2MC7        ✓        ✓  AH_MP                                   6-27   \n",
       "1A11        ✓      NaN  AH_MP                                   1-25   \n",
       "1ALE        ✓        ✓  AH_MP                                   3-16   \n",
       "\n",
       "                       FASTA Sequence  Length  \\\n",
       "Name                                            \n",
       "6X7I     GQERFNRWFLTGMTVAGVVLLGSLFSRK    28.0   \n",
       "1MP6        SSDPLVVAASIIGILHLILWILDRL    25.0   \n",
       "2MC7   MNRSPDKIIALIFLLISLLVLCLALWQIVF    30.0   \n",
       "1A11        GSEKMSTAISVLLAQAVFLLLTSQR    25.0   \n",
       "1ALE               ALDKLKEFGNTLEDKARE    18.0   \n",
       "\n",
       "                                             Description Unnamed: 8  \\\n",
       "Name                                                                  \n",
       "6X7I   Structure of the C-terminal domain of BCL-XL i...        NaN   \n",
       "1MP6   Structure of the transmembrane region of the M...        NaN   \n",
       "2MC7                        Structure of Salmonella MgtR        NaN   \n",
       "1A11   NMR STRUCTURE OF MEMBRANE SPANNING SEGMENT 2 O...        NaN   \n",
       "1ALE   CONFORMATION OF TWO PEPTIDES CORRESPONDING TO ...        NaN   \n",
       "\n",
       "       AF2 min RMSD  AF2 max RMSD  AF2 avg RMSD  AF2 std RMSD  \n",
       "Name                                                           \n",
       "6X7I            0.0           0.0           0.0           0.0  \n",
       "1MP6            0.0           0.0           0.0           0.0  \n",
       "2MC7            0.0           0.0           0.0           0.0  \n",
       "1A11            0.0           0.0           0.0           0.0  \n",
       "1ALE            0.0           0.0           0.0           0.0  "
      ]
     },
     "execution_count": 69,
     "metadata": {},
     "output_type": "execute_result"
    }
   ],
   "source": [
    "peptides.head(5)"
   ]
  },
  {
   "cell_type": "code",
   "execution_count": 70,
   "id": "fbe98b46",
   "metadata": {},
   "outputs": [
    {
     "name": "stderr",
     "output_type": "stream",
     "text": [
      "/home/mcdonaef/anaconda3/lib/python3.8/site-packages/pandas/core/indexing.py:1637: SettingWithCopyWarning: \n",
      "A value is trying to be set on a copy of a slice from a DataFrame\n",
      "\n",
      "See the caveats in the documentation: https://pandas.pydata.org/pandas-docs/stable/user_guide/indexing.html#returning-a-view-versus-a-copy\n",
      "  self._setitem_single_block(indexer, value, name)\n"
     ]
    }
   ],
   "source": [
    "for i, val in AF_mins.items():\n",
    "    peptides['AF2 min RMSD'].loc[i] = val"
   ]
  },
  {
   "cell_type": "code",
   "execution_count": 71,
   "id": "ef1b7966",
   "metadata": {},
   "outputs": [],
   "source": [
    "for i, val in AF_maxs.items():\n",
    "    peptides['AF2 max RMSD'].loc[i] = val"
   ]
  },
  {
   "cell_type": "code",
   "execution_count": 72,
   "id": "487671dc",
   "metadata": {},
   "outputs": [],
   "source": [
    "for i, val in AF_avgs.items():\n",
    "    peptides['AF2 avg RMSD'].loc[i] = val"
   ]
  },
  {
   "cell_type": "code",
   "execution_count": 73,
   "id": "aa084686",
   "metadata": {},
   "outputs": [],
   "source": [
    "for i, val in AF_stds.items():\n",
    "    peptides['AF2 std RMSD'].loc[i] = val"
   ]
  },
  {
   "cell_type": "code",
   "execution_count": 74,
   "id": "620cbddd",
   "metadata": {},
   "outputs": [
    {
     "data": {
      "text/html": [
       "<div>\n",
       "<style scoped>\n",
       "    .dataframe tbody tr th:only-of-type {\n",
       "        vertical-align: middle;\n",
       "    }\n",
       "\n",
       "    .dataframe tbody tr th {\n",
       "        vertical-align: top;\n",
       "    }\n",
       "\n",
       "    .dataframe thead th {\n",
       "        text-align: right;\n",
       "    }\n",
       "</style>\n",
       "<table border=\"1\" class=\"dataframe\">\n",
       "  <thead>\n",
       "    <tr style=\"text-align: right;\">\n",
       "      <th></th>\n",
       "      <th>APPTEST</th>\n",
       "      <th>PEPFold3</th>\n",
       "      <th>Type</th>\n",
       "      <th>Structured Region for RMSD calculation</th>\n",
       "      <th>FASTA Sequence</th>\n",
       "      <th>Length</th>\n",
       "      <th>Description</th>\n",
       "      <th>Unnamed: 8</th>\n",
       "      <th>AF2 min RMSD</th>\n",
       "      <th>AF2 max RMSD</th>\n",
       "      <th>AF2 avg RMSD</th>\n",
       "      <th>AF2 std RMSD</th>\n",
       "    </tr>\n",
       "    <tr>\n",
       "      <th>Name</th>\n",
       "      <th></th>\n",
       "      <th></th>\n",
       "      <th></th>\n",
       "      <th></th>\n",
       "      <th></th>\n",
       "      <th></th>\n",
       "      <th></th>\n",
       "      <th></th>\n",
       "      <th></th>\n",
       "      <th></th>\n",
       "      <th></th>\n",
       "      <th></th>\n",
       "    </tr>\n",
       "  </thead>\n",
       "  <tbody>\n",
       "    <tr>\n",
       "      <th>6X7I</th>\n",
       "      <td>✓</td>\n",
       "      <td>✓</td>\n",
       "      <td>AH_MP</td>\n",
       "      <td>213-233</td>\n",
       "      <td>GQERFNRWFLTGMTVAGVVLLGSLFSRK</td>\n",
       "      <td>28.0</td>\n",
       "      <td>Structure of the C-terminal domain of BCL-XL i...</td>\n",
       "      <td>NaN</td>\n",
       "      <td>0.020519</td>\n",
       "      <td>0.031677</td>\n",
       "      <td>0.027236</td>\n",
       "      <td>0.002334</td>\n",
       "    </tr>\n",
       "    <tr>\n",
       "      <th>1MP6</th>\n",
       "      <td>✓</td>\n",
       "      <td>✓</td>\n",
       "      <td>AH_MP</td>\n",
       "      <td>22-46</td>\n",
       "      <td>SSDPLVVAASIIGILHLILWILDRL</td>\n",
       "      <td>25.0</td>\n",
       "      <td>Structure of the transmembrane region of the M...</td>\n",
       "      <td>NaN</td>\n",
       "      <td>0.069356</td>\n",
       "      <td>0.072548</td>\n",
       "      <td>0.071756</td>\n",
       "      <td>0.001213</td>\n",
       "    </tr>\n",
       "    <tr>\n",
       "      <th>2MC7</th>\n",
       "      <td>✓</td>\n",
       "      <td>✓</td>\n",
       "      <td>AH_MP</td>\n",
       "      <td>6-27</td>\n",
       "      <td>MNRSPDKIIALIFLLISLLVLCLALWQIVF</td>\n",
       "      <td>30.0</td>\n",
       "      <td>Structure of Salmonella MgtR</td>\n",
       "      <td>NaN</td>\n",
       "      <td>0.015825</td>\n",
       "      <td>0.018123</td>\n",
       "      <td>0.017057</td>\n",
       "      <td>0.000827</td>\n",
       "    </tr>\n",
       "    <tr>\n",
       "      <th>1A11</th>\n",
       "      <td>✓</td>\n",
       "      <td>NaN</td>\n",
       "      <td>AH_MP</td>\n",
       "      <td>1-25</td>\n",
       "      <td>GSEKMSTAISVLLAQAVFLLLTSQR</td>\n",
       "      <td>25.0</td>\n",
       "      <td>NMR STRUCTURE OF MEMBRANE SPANNING SEGMENT 2 O...</td>\n",
       "      <td>NaN</td>\n",
       "      <td>0.034539</td>\n",
       "      <td>0.091169</td>\n",
       "      <td>0.058448</td>\n",
       "      <td>0.015653</td>\n",
       "    </tr>\n",
       "    <tr>\n",
       "      <th>1ALE</th>\n",
       "      <td>✓</td>\n",
       "      <td>✓</td>\n",
       "      <td>AH_MP</td>\n",
       "      <td>3-16</td>\n",
       "      <td>ALDKLKEFGNTLEDKARE</td>\n",
       "      <td>18.0</td>\n",
       "      <td>CONFORMATION OF TWO PEPTIDES CORRESPONDING TO ...</td>\n",
       "      <td>NaN</td>\n",
       "      <td>0.048382</td>\n",
       "      <td>0.064736</td>\n",
       "      <td>0.055423</td>\n",
       "      <td>0.004401</td>\n",
       "    </tr>\n",
       "  </tbody>\n",
       "</table>\n",
       "</div>"
      ],
      "text/plain": [
       "      APPTEST PEPFold3  Type  Structured Region for RMSD calculation  \\\n",
       "Name                                                                   \n",
       "6X7I        ✓        ✓  AH_MP                                213-233   \n",
       "1MP6        ✓        ✓  AH_MP                                  22-46   \n",
       "2MC7        ✓        ✓  AH_MP                                   6-27   \n",
       "1A11        ✓      NaN  AH_MP                                   1-25   \n",
       "1ALE        ✓        ✓  AH_MP                                   3-16   \n",
       "\n",
       "                       FASTA Sequence  Length  \\\n",
       "Name                                            \n",
       "6X7I     GQERFNRWFLTGMTVAGVVLLGSLFSRK    28.0   \n",
       "1MP6        SSDPLVVAASIIGILHLILWILDRL    25.0   \n",
       "2MC7   MNRSPDKIIALIFLLISLLVLCLALWQIVF    30.0   \n",
       "1A11        GSEKMSTAISVLLAQAVFLLLTSQR    25.0   \n",
       "1ALE               ALDKLKEFGNTLEDKARE    18.0   \n",
       "\n",
       "                                             Description Unnamed: 8  \\\n",
       "Name                                                                  \n",
       "6X7I   Structure of the C-terminal domain of BCL-XL i...        NaN   \n",
       "1MP6   Structure of the transmembrane region of the M...        NaN   \n",
       "2MC7                        Structure of Salmonella MgtR        NaN   \n",
       "1A11   NMR STRUCTURE OF MEMBRANE SPANNING SEGMENT 2 O...        NaN   \n",
       "1ALE   CONFORMATION OF TWO PEPTIDES CORRESPONDING TO ...        NaN   \n",
       "\n",
       "       AF2 min RMSD  AF2 max RMSD  AF2 avg RMSD  AF2 std RMSD  \n",
       "Name                                                           \n",
       "6X7I       0.020519      0.031677      0.027236      0.002334  \n",
       "1MP6       0.069356      0.072548      0.071756      0.001213  \n",
       "2MC7       0.015825      0.018123      0.017057      0.000827  \n",
       "1A11       0.034539      0.091169      0.058448      0.015653  \n",
       "1ALE       0.048382      0.064736      0.055423      0.004401  "
      ]
     },
     "execution_count": 74,
     "metadata": {},
     "output_type": "execute_result"
    }
   ],
   "source": [
    "peptides.head(5)"
   ]
  },
  {
   "cell_type": "code",
   "execution_count": 77,
   "id": "ce744c2b",
   "metadata": {},
   "outputs": [],
   "source": [
    "peptides.to_excel('Peptide_benchmark_set.xlsx')"
   ]
  },
  {
   "cell_type": "code",
   "execution_count": 79,
   "id": "00d4c77e",
   "metadata": {},
   "outputs": [],
   "source": [
    "peps.to_excel('struct_len.xlsx')"
   ]
  },
  {
   "cell_type": "code",
   "execution_count": null,
   "id": "3ef9fb0a",
   "metadata": {},
   "outputs": [],
   "source": []
  }
 ],
 "metadata": {
  "kernelspec": {
   "display_name": "Python 3",
   "language": "python",
   "name": "python3"
  },
  "language_info": {
   "codemirror_mode": {
    "name": "ipython",
    "version": 3
   },
   "file_extension": ".py",
   "mimetype": "text/x-python",
   "name": "python",
   "nbconvert_exporter": "python",
   "pygments_lexer": "ipython3",
   "version": "3.8.8"
  }
 },
 "nbformat": 4,
 "nbformat_minor": 5
}
